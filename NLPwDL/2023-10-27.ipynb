{
 "cells": [
  {
   "cell_type": "code",
   "execution_count": 1,
   "metadata": {},
   "outputs": [],
   "source": [
    "from datasets import load_dataset\n",
    "\n",
    "dataset = load_dataset(\"imdb\")"
   ]
  },
  {
   "cell_type": "code",
   "execution_count": 2,
   "metadata": {},
   "outputs": [],
   "source": [
    "import re"
   ]
  },
  {
   "cell_type": "code",
   "execution_count": 3,
   "metadata": {},
   "outputs": [],
   "source": [
    "import torch\n",
    "import torch.nn as nn\n",
    "import torch.nn.functional as F"
   ]
  },
  {
   "cell_type": "code",
   "execution_count": 4,
   "metadata": {},
   "outputs": [],
   "source": [
    "from tqdm.notebook import tqdm"
   ]
  },
  {
   "cell_type": "code",
   "execution_count": 5,
   "metadata": {},
   "outputs": [],
   "source": [
    "from collections import defaultdict\n"
   ]
  },
  {
   "cell_type": "code",
   "execution_count": 6,
   "metadata": {},
   "outputs": [
    {
     "name": "stdout",
     "output_type": "stream",
     "text": [
      "74892\n",
      "['', '0', '00', '000', '0000000000001', '00001', '00015', '000s', '001', '003830']\n",
      "tensor([0., 0., 0.,  ..., 0., 0., 0.])\n"
     ]
    }
   ],
   "source": [
    "corpus = set()\n",
    "for example in dataset[\"train\"]:\n",
    "    # split on whitespace and punctuation\n",
    "    for word in re.split(r\"\\W+\", example[\"text\"].lower()):\n",
    "        # corpus[word] += 1\n",
    "        corpus.add(word)\n",
    "\n",
    "corpus = sorted(corpus)\n",
    "\n",
    "print(len(corpus))\n",
    "print(list(corpus)[:10])\n",
    "\n",
    "def text_to_bow(text) -> torch.Tensor:\n",
    "    bow = torch.zeros(len(corpus) + 1)\n",
    "    for word in re.split(r\"\\W+\", text.lower()):\n",
    "        if word in corpus:\n",
    "            bow[corpus.index(word)] += 1\n",
    "        else:\n",
    "            bow[-1] += 1\n",
    "    return bow / bow.sum()\n",
    "\n",
    "print(text_to_bow(\"hello world how are you doing today\"))"
   ]
  },
  {
   "cell_type": "code",
   "execution_count": 7,
   "metadata": {},
   "outputs": [],
   "source": [
    "class ModelBow(nn.Module):\n",
    "    def __init__(self):\n",
    "        super().__init__()\n",
    "        self.linear = nn.Linear(len(corpus) + 1, 1)\n",
    "        self.sigmoid = nn.Sigmoid()\n",
    "\n",
    "    def forward(self, bow):\n",
    "        return self.sigmoid(self.linear(bow))\n",
    "    \n",
    "model_bow = ModelBow()\n"
   ]
  },
  {
   "cell_type": "code",
   "execution_count": 14,
   "metadata": {},
   "outputs": [],
   "source": [
    "def train_on_imdb(model, lr=0.001, epochs=10, batch_size=32):\n",
    "    optimizer = torch.optim.Adam(model.parameters(), lr=lr)\n",
    "    loss_fn = nn.BCELoss()\n",
    "    dataloader = torch.utils.data.DataLoader(dataset[\"train\"], batch_size=batch_size, shuffle=True)\n",
    "    for epoch in tqdm(range(epochs)):\n",
    "        for batch in dataloader:\n",
    "            optimizer.zero_grad()\n",
    "            bow = torch.stack([text_to_bow(text) for text in batch[\"text\"]])\n",
    "            y = torch.Tensor(batch[\"label\"], dtype=torch.float32, device=bow.device)\n",
    "            y_hat = model(bow)\n",
    "            loss = loss_fn(y_hat, y)\n",
    "            loss.backward()\n",
    "            optimizer.step()\n",
    "        print(f\"Epoch {epoch} loss: {loss.item()}\")"
   ]
  },
  {
   "cell_type": "code",
   "execution_count": 15,
   "metadata": {},
   "outputs": [
    {
     "data": {
      "application/vnd.jupyter.widget-view+json": {
       "model_id": "476501a1787742cfbfb9ccf7ef96e70d",
       "version_major": 2,
       "version_minor": 0
      },
      "text/plain": [
       "  0%|          | 0/10 [00:00<?, ?it/s]"
      ]
     },
     "metadata": {},
     "output_type": "display_data"
    },
    {
     "ename": "TypeError",
     "evalue": "new() received an invalid combination of arguments - got (Tensor, device=torch.device, dtype=torch.dtype), but expected one of:\n * (*, torch.device device)\n * (torch.Storage storage)\n * (Tensor other)\n * (tuple of ints size, *, torch.device device)\n      didn't match because some of the keywords were incorrect: dtype\n * (object data, *, torch.device device)\n      didn't match because some of the keywords were incorrect: dtype\n",
     "output_type": "error",
     "traceback": [
      "\u001b[0;31m---------------------------------------------------------------------------\u001b[0m",
      "\u001b[0;31mTypeError\u001b[0m                                 Traceback (most recent call last)",
      "\u001b[1;32m/home/elikoga/Dev/Uni/NLPwDL/2023-10-27.ipynb Cell 9\u001b[0m line \u001b[0;36m1\n\u001b[0;32m----> <a href='vscode-notebook-cell:/home/elikoga/Dev/Uni/NLPwDL/2023-10-27.ipynb#X10sZmlsZQ%3D%3D?line=0'>1</a>\u001b[0m train_on_imdb(model_bow)\n",
      "\u001b[1;32m/home/elikoga/Dev/Uni/NLPwDL/2023-10-27.ipynb Cell 9\u001b[0m line \u001b[0;36m9\n\u001b[1;32m      <a href='vscode-notebook-cell:/home/elikoga/Dev/Uni/NLPwDL/2023-10-27.ipynb#X10sZmlsZQ%3D%3D?line=6'>7</a>\u001b[0m optimizer\u001b[39m.\u001b[39mzero_grad()\n\u001b[1;32m      <a href='vscode-notebook-cell:/home/elikoga/Dev/Uni/NLPwDL/2023-10-27.ipynb#X10sZmlsZQ%3D%3D?line=7'>8</a>\u001b[0m bow \u001b[39m=\u001b[39m torch\u001b[39m.\u001b[39mstack([text_to_bow(text) \u001b[39mfor\u001b[39;00m text \u001b[39min\u001b[39;00m batch[\u001b[39m\"\u001b[39m\u001b[39mtext\u001b[39m\u001b[39m\"\u001b[39m]])\n\u001b[0;32m----> <a href='vscode-notebook-cell:/home/elikoga/Dev/Uni/NLPwDL/2023-10-27.ipynb#X10sZmlsZQ%3D%3D?line=8'>9</a>\u001b[0m y \u001b[39m=\u001b[39m torch\u001b[39m.\u001b[39;49mTensor(batch[\u001b[39m\"\u001b[39;49m\u001b[39mlabel\u001b[39;49m\u001b[39m\"\u001b[39;49m], dtype\u001b[39m=\u001b[39;49mtorch\u001b[39m.\u001b[39;49mfloat32, device\u001b[39m=\u001b[39;49mbow\u001b[39m.\u001b[39;49mdevice)\n\u001b[1;32m     <a href='vscode-notebook-cell:/home/elikoga/Dev/Uni/NLPwDL/2023-10-27.ipynb#X10sZmlsZQ%3D%3D?line=9'>10</a>\u001b[0m y_hat \u001b[39m=\u001b[39m model(bow)\n\u001b[1;32m     <a href='vscode-notebook-cell:/home/elikoga/Dev/Uni/NLPwDL/2023-10-27.ipynb#X10sZmlsZQ%3D%3D?line=10'>11</a>\u001b[0m loss \u001b[39m=\u001b[39m loss_fn(y_hat, y)\n",
      "\u001b[0;31mTypeError\u001b[0m: new() received an invalid combination of arguments - got (Tensor, device=torch.device, dtype=torch.dtype), but expected one of:\n * (*, torch.device device)\n * (torch.Storage storage)\n * (Tensor other)\n * (tuple of ints size, *, torch.device device)\n      didn't match because some of the keywords were incorrect: dtype\n * (object data, *, torch.device device)\n      didn't match because some of the keywords were incorrect: dtype\n"
     ]
    }
   ],
   "source": [
    "train_on_imdb(model_bow)"
   ]
  },
  {
   "cell_type": "code",
   "execution_count": 10,
   "metadata": {},
   "outputs": [
    {
     "data": {
      "application/vnd.jupyter.widget-view+json": {
       "model_id": "e4c5781bcb58411c977a263783095e15",
       "version_major": 2,
       "version_minor": 0
      },
      "text/plain": [
       "  0%|          | 0/781 [00:00<?, ?it/s]"
      ]
     },
     "metadata": {},
     "output_type": "display_data"
    },
    {
     "ename": "KeyboardInterrupt",
     "evalue": "",
     "output_type": "error",
     "traceback": [
      "\u001b[0;31m---------------------------------------------------------------------------\u001b[0m",
      "\u001b[0;31mKeyboardInterrupt\u001b[0m                         Traceback (most recent call last)",
      "\u001b[1;32m/home/elikoga/Dev/Uni/NLPwDL/2023-10-27.ipynb Cell 10\u001b[0m line \u001b[0;36m1\n\u001b[1;32m     <a href='vscode-notebook-cell:/home/elikoga/Dev/Uni/NLPwDL/2023-10-27.ipynb#X11sZmlsZQ%3D%3D?line=9'>10</a>\u001b[0m     \u001b[39mprint\u001b[39m(\u001b[39mf\u001b[39m\u001b[39m\"\u001b[39m\u001b[39mCorrect: \u001b[39m\u001b[39m{\u001b[39;00mcorrect\u001b[39m}\u001b[39;00m\u001b[39m\"\u001b[39m)\n\u001b[1;32m     <a href='vscode-notebook-cell:/home/elikoga/Dev/Uni/NLPwDL/2023-10-27.ipynb#X11sZmlsZQ%3D%3D?line=10'>11</a>\u001b[0m     \u001b[39mprint\u001b[39m(\u001b[39mf\u001b[39m\u001b[39m\"\u001b[39m\u001b[39mTotal: \u001b[39m\u001b[39m{\u001b[39;00m\u001b[39mlen\u001b[39m(dataset[\u001b[39m'\u001b[39m\u001b[39mtest\u001b[39m\u001b[39m'\u001b[39m])\u001b[39m}\u001b[39;00m\u001b[39m\"\u001b[39m)\n\u001b[0;32m---> <a href='vscode-notebook-cell:/home/elikoga/Dev/Uni/NLPwDL/2023-10-27.ipynb#X11sZmlsZQ%3D%3D?line=12'>13</a>\u001b[0m evaluate_on_imdb(model_bow)\n",
      "\u001b[1;32m/home/elikoga/Dev/Uni/NLPwDL/2023-10-27.ipynb Cell 10\u001b[0m line \u001b[0;36m5\n\u001b[1;32m      <a href='vscode-notebook-cell:/home/elikoga/Dev/Uni/NLPwDL/2023-10-27.ipynb#X11sZmlsZQ%3D%3D?line=2'>3</a>\u001b[0m \u001b[39mfor\u001b[39;00m _, i \u001b[39min\u001b[39;00m tqdm(\u001b[39menumerate\u001b[39m(\u001b[39mrange\u001b[39m(\u001b[39m0\u001b[39m, \u001b[39mlen\u001b[39m(dataset[\u001b[39m\"\u001b[39m\u001b[39mtest\u001b[39m\u001b[39m\"\u001b[39m]), batch_size)), total\u001b[39m=\u001b[39m\u001b[39mlen\u001b[39m(dataset[\u001b[39m\"\u001b[39m\u001b[39mtest\u001b[39m\u001b[39m\"\u001b[39m])\u001b[39m/\u001b[39m\u001b[39m/\u001b[39mbatch_size):\n\u001b[1;32m      <a href='vscode-notebook-cell:/home/elikoga/Dev/Uni/NLPwDL/2023-10-27.ipynb#X11sZmlsZQ%3D%3D?line=3'>4</a>\u001b[0m     batch \u001b[39m=\u001b[39m dataset[\u001b[39m\"\u001b[39m\u001b[39mtest\u001b[39m\u001b[39m\"\u001b[39m][i:i\u001b[39m+\u001b[39mbatch_size]\n\u001b[0;32m----> <a href='vscode-notebook-cell:/home/elikoga/Dev/Uni/NLPwDL/2023-10-27.ipynb#X11sZmlsZQ%3D%3D?line=4'>5</a>\u001b[0m     X \u001b[39m=\u001b[39m torch\u001b[39m.\u001b[39mstack([text_to_bow(text) \u001b[39mfor\u001b[39;00m text \u001b[39min\u001b[39;00m batch[\u001b[39m\"\u001b[39m\u001b[39mtext\u001b[39m\u001b[39m\"\u001b[39m]])\n\u001b[1;32m      <a href='vscode-notebook-cell:/home/elikoga/Dev/Uni/NLPwDL/2023-10-27.ipynb#X11sZmlsZQ%3D%3D?line=5'>6</a>\u001b[0m     y \u001b[39m=\u001b[39m torch\u001b[39m.\u001b[39mtensor([label \u001b[39mfor\u001b[39;00m label \u001b[39min\u001b[39;00m batch[\u001b[39m\"\u001b[39m\u001b[39mlabel\u001b[39m\u001b[39m\"\u001b[39m]], dtype\u001b[39m=\u001b[39mtorch\u001b[39m.\u001b[39mfloat32)\n\u001b[1;32m      <a href='vscode-notebook-cell:/home/elikoga/Dev/Uni/NLPwDL/2023-10-27.ipynb#X11sZmlsZQ%3D%3D?line=6'>7</a>\u001b[0m     y_pred \u001b[39m=\u001b[39m model(X)\n",
      "\u001b[1;32m/home/elikoga/Dev/Uni/NLPwDL/2023-10-27.ipynb Cell 10\u001b[0m line \u001b[0;36m5\n\u001b[1;32m      <a href='vscode-notebook-cell:/home/elikoga/Dev/Uni/NLPwDL/2023-10-27.ipynb#X11sZmlsZQ%3D%3D?line=2'>3</a>\u001b[0m \u001b[39mfor\u001b[39;00m _, i \u001b[39min\u001b[39;00m tqdm(\u001b[39menumerate\u001b[39m(\u001b[39mrange\u001b[39m(\u001b[39m0\u001b[39m, \u001b[39mlen\u001b[39m(dataset[\u001b[39m\"\u001b[39m\u001b[39mtest\u001b[39m\u001b[39m\"\u001b[39m]), batch_size)), total\u001b[39m=\u001b[39m\u001b[39mlen\u001b[39m(dataset[\u001b[39m\"\u001b[39m\u001b[39mtest\u001b[39m\u001b[39m\"\u001b[39m])\u001b[39m/\u001b[39m\u001b[39m/\u001b[39mbatch_size):\n\u001b[1;32m      <a href='vscode-notebook-cell:/home/elikoga/Dev/Uni/NLPwDL/2023-10-27.ipynb#X11sZmlsZQ%3D%3D?line=3'>4</a>\u001b[0m     batch \u001b[39m=\u001b[39m dataset[\u001b[39m\"\u001b[39m\u001b[39mtest\u001b[39m\u001b[39m\"\u001b[39m][i:i\u001b[39m+\u001b[39mbatch_size]\n\u001b[0;32m----> <a href='vscode-notebook-cell:/home/elikoga/Dev/Uni/NLPwDL/2023-10-27.ipynb#X11sZmlsZQ%3D%3D?line=4'>5</a>\u001b[0m     X \u001b[39m=\u001b[39m torch\u001b[39m.\u001b[39mstack([text_to_bow(text) \u001b[39mfor\u001b[39;00m text \u001b[39min\u001b[39;00m batch[\u001b[39m\"\u001b[39m\u001b[39mtext\u001b[39m\u001b[39m\"\u001b[39m]])\n\u001b[1;32m      <a href='vscode-notebook-cell:/home/elikoga/Dev/Uni/NLPwDL/2023-10-27.ipynb#X11sZmlsZQ%3D%3D?line=5'>6</a>\u001b[0m     y \u001b[39m=\u001b[39m torch\u001b[39m.\u001b[39mtensor([label \u001b[39mfor\u001b[39;00m label \u001b[39min\u001b[39;00m batch[\u001b[39m\"\u001b[39m\u001b[39mlabel\u001b[39m\u001b[39m\"\u001b[39m]], dtype\u001b[39m=\u001b[39mtorch\u001b[39m.\u001b[39mfloat32)\n\u001b[1;32m      <a href='vscode-notebook-cell:/home/elikoga/Dev/Uni/NLPwDL/2023-10-27.ipynb#X11sZmlsZQ%3D%3D?line=6'>7</a>\u001b[0m     y_pred \u001b[39m=\u001b[39m model(X)\n",
      "\u001b[1;32m/home/elikoga/Dev/Uni/NLPwDL/2023-10-27.ipynb Cell 10\u001b[0m line \u001b[0;36m1\n\u001b[1;32m     <a href='vscode-notebook-cell:/home/elikoga/Dev/Uni/NLPwDL/2023-10-27.ipynb#X11sZmlsZQ%3D%3D?line=14'>15</a>\u001b[0m \u001b[39mfor\u001b[39;00m word \u001b[39min\u001b[39;00m re\u001b[39m.\u001b[39msplit(\u001b[39mr\u001b[39m\u001b[39m\"\u001b[39m\u001b[39m\\\u001b[39m\u001b[39mW+\u001b[39m\u001b[39m\"\u001b[39m, text\u001b[39m.\u001b[39mlower()):\n\u001b[1;32m     <a href='vscode-notebook-cell:/home/elikoga/Dev/Uni/NLPwDL/2023-10-27.ipynb#X11sZmlsZQ%3D%3D?line=15'>16</a>\u001b[0m     \u001b[39mif\u001b[39;00m word \u001b[39min\u001b[39;00m corpus:\n\u001b[0;32m---> <a href='vscode-notebook-cell:/home/elikoga/Dev/Uni/NLPwDL/2023-10-27.ipynb#X11sZmlsZQ%3D%3D?line=16'>17</a>\u001b[0m         bow[corpus\u001b[39m.\u001b[39;49mindex(word)] \u001b[39m+\u001b[39m\u001b[39m=\u001b[39m \u001b[39m1\u001b[39m\n\u001b[1;32m     <a href='vscode-notebook-cell:/home/elikoga/Dev/Uni/NLPwDL/2023-10-27.ipynb#X11sZmlsZQ%3D%3D?line=17'>18</a>\u001b[0m     \u001b[39melse\u001b[39;00m:\n\u001b[1;32m     <a href='vscode-notebook-cell:/home/elikoga/Dev/Uni/NLPwDL/2023-10-27.ipynb#X11sZmlsZQ%3D%3D?line=18'>19</a>\u001b[0m         bow[\u001b[39m-\u001b[39m\u001b[39m1\u001b[39m] \u001b[39m+\u001b[39m\u001b[39m=\u001b[39m \u001b[39m1\u001b[39m\n",
      "\u001b[0;31mKeyboardInterrupt\u001b[0m: "
     ]
    }
   ],
   "source": [
    "def evaluate_on_imdb(model, batch_size=32):\n",
    "    correct = 0\n",
    "    for _, i in tqdm(enumerate(range(0, len(dataset[\"test\"]), batch_size)), total=len(dataset[\"test\"])//batch_size):\n",
    "        batch = dataset[\"test\"][i:i+batch_size]\n",
    "        X = torch.stack([text_to_bow(text) for text in batch[\"text\"]])\n",
    "        y = torch.tensor([label for label in batch[\"label\"]], dtype=torch.float32)\n",
    "        y_pred = model(X)\n",
    "        correct += (y_pred.round() == y.unsqueeze(1)).sum().item()\n",
    "    print(f\"Accuracy: {correct / len(dataset['test'])}\")\n",
    "    print(f\"Correct: {correct}\")\n",
    "    print(f\"Total: {len(dataset['test'])}\")\n",
    "\n",
    "evaluate_on_imdb(model_bow)"
   ]
  },
  {
   "cell_type": "code",
   "execution_count": null,
   "metadata": {},
   "outputs": [],
   "source": []
  }
 ],
 "metadata": {
  "kernelspec": {
   "display_name": "venv",
   "language": "python",
   "name": "python3"
  },
  "language_info": {
   "codemirror_mode": {
    "name": "ipython",
    "version": 3
   },
   "file_extension": ".py",
   "mimetype": "text/x-python",
   "name": "python",
   "nbconvert_exporter": "python",
   "pygments_lexer": "ipython3",
   "version": "3.10.12"
  }
 },
 "nbformat": 4,
 "nbformat_minor": 2
}
