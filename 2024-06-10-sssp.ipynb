{
 "cells": [
  {
   "cell_type": "markdown",
   "metadata": {},
   "source": [
    "Before you turn this problem in, make sure everything runs as expected. First, **restart the kernel** (in the menubar, select Kernel$\\rightarrow$Restart) and then **run all cells** (in the menubar, select Cell$\\rightarrow$Run All).\n",
    "\n",
    "Make sure you fill in any place that says `YOUR CODE HERE` or \"YOUR ANSWER HERE\"."
   ]
  },
  {
   "cell_type": "markdown",
   "metadata": {},
   "source": [
    "---"
   ]
  },
  {
   "cell_type": "markdown",
   "metadata": {
    "deletable": false,
    "editable": false,
    "nbgrader": {
     "cell_type": "markdown",
     "checksum": "c63cb7135f6445950b23c9a17e256f27",
     "grade": false,
     "grade_id": "cell-aa86343de49969e4",
     "locked": true,
     "schema_version": 3,
     "solution": false
    }
   },
   "source": [
    "## Blatt 07\n",
    "\n",
    "- **Jede(r)** Studierende muss die Aufgaben einreichen.\n",
    "Wenn Sie die Aufgaben nicht selbst einreichen, erhalten Sie 0 Punkte für die Aufgabe.\n",
    "- Sie werden ermutigt, in Gruppen von bis zu vier Personen an den Lösungen zu arbeiten.\n",
    "    - Bei Einreichungen solcher Einreichungsgruppen speichern die Gruppen die imt-Logins aller Mitglieder in der Variable `AUTHORS`, z.B: `AUTHORS=\"first-imtlogin second-imtlogin\"`.\n",
    "    - Jedes Mitglied der Gruppen **muss das Assignment einreichen**.\n",
    "    - Verwenden Sie dazu die vorbereitete Zelle:\n",
    "\n",
    "**Anmerkung:** Löschen Sie *nicht* die Befehlshistorie (z.B. durch Ausführen von `history -c`) in *Ihrem* Code!"
   ]
  },
  {
   "cell_type": "code",
   "execution_count": null,
   "metadata": {},
   "outputs": [],
   "source": [
    "AUTHORS=\"\""
   ]
  },
  {
   "cell_type": "code",
   "execution_count": null,
   "metadata": {
    "deletable": false,
    "editable": false,
    "nbgrader": {
     "cell_type": "code",
     "checksum": "1f40054c4afbd23584c46cb88f44a573",
     "grade": false,
     "grade_id": "cell-43179a6ecd4c23cd",
     "locked": true,
     "schema_version": 3,
     "solution": false
    }
   },
   "outputs": [],
   "source": [
    "[[ -d $SHEET_DIR ]] && cd $SHEET_DIR  # Ensure this cell can be executed repeatedly\n",
    "rm -rf $SHEET_DIR/workdir-*  # Delete old work directories\n",
    "SHEET_DIR=$(pwd)\n",
    "WORK_DIR=$(mktemp -d -p $SHEET_DIR workdir-XXXXX)  # Create work directory\n",
    "cd $WORK_DIR  # Change into work directory"
   ]
  },
  {
   "cell_type": "markdown",
   "metadata": {
    "deletable": false,
    "editable": false,
    "nbgrader": {
     "cell_type": "markdown",
     "checksum": "6e78d644330091c4747b9775ebd4b919",
     "grade": false,
     "grade_id": "cell-b8fa54c05003fb32",
     "locked": true,
     "schema_version": 3,
     "solution": false
    }
   },
   "source": [
    "### Aufgabe 1\n",
    "\n",
    "Mit dem folgenden `grep`-Ausdruck kann die Modellnummer einiger gebräuchlicher Intel-CPUs (z.B. *E5-2695*) aus der `model name`-Zeile von `/proc/cpuinfo` extrahiert werden:\n",
    "```Bash\n",
    "grep -o \"[a-zA-Z][0-9]-[0-9]\\+\"\n",
    "```\n",
    "\n",
    "Schreiben Sie eine Funktion `extract_model`, die diesen Befehl auf ihren `stdin`-Eingabestrom anwendet, sodass die Modellnummer im `stdout`-Ausgabestrom ausgegeben wird."
   ]
  },
  {
   "cell_type": "code",
   "execution_count": null,
   "metadata": {
    "deletable": false,
    "nbgrader": {
     "cell_type": "code",
     "checksum": "49fecce20218298782c721c8bd45f723",
     "grade": false,
     "grade_id": "cell-f8d574cebea19c1e",
     "locked": false,
     "schema_version": 3,
     "solution": true
    }
   },
   "outputs": [],
   "source": [
    "# ### Aufgabe 1\n",
    "\n",
    "# Mit dem folgenden `grep`-Ausdruck kann die Modellnummer einiger gebräuchlicher Intel-CPUs (z.B. *E5-2695*) aus der `model name`-Zeile von `/proc/cpuinfo` extrahiert werden:\n",
    "# ```Bash\n",
    "# grep -o \"[a-zA-Z][0-9]-[0-9]\\+\"\n",
    "# ```\n",
    "\n",
    "# Schreiben Sie eine Funktion `extract_model`, die diesen Befehl auf ihren `stdin`-Eingabestrom anwendet, sodass die Modellnummer im `stdout`-Ausgabestrom ausgegeben wird.\n",
    "\n",
    "extract_model() {\n",
    "    grep -o \"[a-zA-Z][0-9]-[0-9]\\+\"\n",
    "}"
   ]
  },
  {
   "cell_type": "code",
   "execution_count": null,
   "metadata": {
    "deletable": false,
    "editable": false,
    "nbgrader": {
     "cell_type": "code",
     "checksum": "ec3cdbe513b4144901bb534011434330",
     "grade": true,
     "grade_id": "cell-ae648a415c465ff1",
     "locked": true,
     "points": 2,
     "schema_version": 3,
     "solution": false
    }
   },
   "outputs": [],
   "source": [
    "(set -e\n",
    "type -t extract_model > /dev/null || (echo \"function extract_model does not exist\" && false)\n",
    "[[ $(echo \"model name: Intel(R) Xeon(R) CPU E5-2695 v3 @ 2.30GHz\" | extract_model) == \"E5-2695\" ]] || (echo -e \"model name: Intel(R) Xeon(R) CPU E5-2695 v3 @ 2.30GHz\\nExpected model number: E5-2695\\nFunction returned: $(echo \"model name: Intel(R) Xeon(R) CPU E5-2695 v3 @ 2.30GHz\" | extract_model)\" && false)\n",
    ")"
   ]
  },
  {
   "cell_type": "markdown",
   "metadata": {
    "deletable": false,
    "editable": false,
    "nbgrader": {
     "cell_type": "markdown",
     "checksum": "d0be498a410888f5a0ed1cd79638dc1d",
     "grade": false,
     "grade_id": "cell-4653e200ea51fed1",
     "locked": true,
     "schema_version": 3,
     "solution": false
    }
   },
   "source": [
    "### Aufgabe 2\n",
    "\n",
    "Schreiben Sie eine Funktion `detect_shm`, die die Größe (in `1K-blocks`) der Shared-Memory-Partition `/dev/shm` ermittelt und diese Größe in die Variable `$SHMSIZE` schreibt.\n",
    "\n",
    "Hinweis: Partitionsgrößen können mit dem Programm `df` angezeigt werden."
   ]
  },
  {
   "cell_type": "code",
   "execution_count": null,
   "metadata": {
    "deletable": false,
    "nbgrader": {
     "cell_type": "code",
     "checksum": "de397a4f0a4ffdf6683bfb50d6f4ab74",
     "grade": false,
     "grade_id": "cell-916eb8abc4f3e88e",
     "locked": false,
     "schema_version": 3,
     "solution": true
    }
   },
   "outputs": [],
   "source": [
    "# ### Aufgabe 2\n",
    "\n",
    "# Schreiben Sie eine Funktion `detect_shm`, die die Größe (in `1K-blocks`) der Shared-Memory-Partition `/dev/shm` ermittelt und diese Größe in die Variable `$SHMSIZE` schreibt.\n",
    "\n",
    "# Hinweis: Partitionsgrößen können mit dem Programm `df` angezeigt werden.\n",
    "\n",
    "detect_shm() {\n",
    "    SHMSIZE=$(df --output=size /dev/shm | tail -n 1)\n",
    "}"
   ]
  },
  {
   "cell_type": "code",
   "execution_count": null,
   "metadata": {
    "deletable": false,
    "editable": false,
    "nbgrader": {
     "cell_type": "code",
     "checksum": "0554dcbf2f7def8c635ce6a9d74c9c06",
     "grade": true,
     "grade_id": "cell-6b61467eb306409d",
     "locked": true,
     "points": 2,
     "schema_version": 3,
     "solution": false
    }
   },
   "outputs": [],
   "source": [
    "unset SHMSIZE\n",
    "(set -e\n",
    "type -t detect_shm > /dev/null || (echo \"function detect_shm does not exist\" && false)\n",
    "detect_shm\n",
    "[[ -n $SHMSIZE ]] || (echo \"SHMSIZE is empty\" && false)\n",
    ")"
   ]
  },
  {
   "cell_type": "markdown",
   "metadata": {
    "deletable": false,
    "editable": false,
    "nbgrader": {
     "cell_type": "markdown",
     "checksum": "0a1254817e79b228deeed897ffb08369",
     "grade": false,
     "grade_id": "cell-66bb2d5fdb060cbf",
     "locked": true,
     "schema_version": 3,
     "solution": false
    }
   },
   "source": [
    "### Aufgabe 3.1\n",
    "\n",
    "Schreiben Sie eine Funktion `worker`, die 10 Sekunden lang läuft und jede Sekunde die Zeile `worker <n> running` ausgibt, wobei `<n>` ein der Funktion übergebener Parameter ist.\n",
    "Nach 10 Sekunden soll `done` ausgegeben werden."
   ]
  },
  {
   "cell_type": "code",
   "execution_count": null,
   "metadata": {
    "deletable": false,
    "nbgrader": {
     "cell_type": "code",
     "checksum": "0ce1d1c0660a8d71a348682c4280dc12",
     "grade": false,
     "grade_id": "cell-87eb02874f177c4e",
     "locked": false,
     "schema_version": 3,
     "solution": true
    }
   },
   "outputs": [],
   "source": [
    "# ### Aufgabe 3.1\n",
    "\n",
    "# Schreiben Sie eine Funktion `worker`, die 10 Sekunden lang läuft und jede Sekunde die Zeile `worker <n> running` ausgibt, wobei `<n>` ein der Funktion übergebener Parameter ist.\n",
    "# Nach 10 Sekunden soll `done` ausgegeben werden.\n",
    "\n",
    "worker() {\n",
    "    local n=$1\n",
    "    for i in $(seq 1 10); do\n",
    "        echo \"worker $n running\"\n",
    "        sleep 1\n",
    "    done\n",
    "    echo \"done\"\n",
    "}"
   ]
  },
  {
   "cell_type": "code",
   "execution_count": null,
   "metadata": {
    "deletable": false,
    "editable": false,
    "nbgrader": {
     "cell_type": "code",
     "checksum": "c667b855cad40766a7f6d73f9e800a4c",
     "grade": true,
     "grade_id": "cell-8d4efc43a0f2e9a1",
     "locked": true,
     "points": 2,
     "schema_version": 3,
     "solution": false
    }
   },
   "outputs": [],
   "source": [
    "(set -e\n",
    "type -t worker > /dev/null || (echo \"function worker does not exist\" && false) \n",
    "worker 0 | tee worker.log\n",
    ")"
   ]
  },
  {
   "cell_type": "markdown",
   "metadata": {
    "deletable": false,
    "editable": false,
    "nbgrader": {
     "cell_type": "markdown",
     "checksum": "50b74de9f520434713f5b67732555349",
     "grade": false,
     "grade_id": "cell-b150b1a89113118d",
     "locked": true,
     "schema_version": 3,
     "solution": false
    }
   },
   "source": [
    "### Aufgabe 3.2\n",
    "\n",
    "Schreiben Sie eine Funktion `start_workers`, die 10 Worker-Prozesse (0-9) im Hintergrund startet, indem sie die `worker`-Funktion aus der vorherigen Aufgabe verwendet.\n",
    "Stellen Sie sicher, dass Sie die Worker-ID (0-9) als Parameter für die Funktion angeben.\n",
    "Speichern Sie die PID jedes Worker-Prozesses in einem Array namens `PIDS`.\n",
    "\n",
    "Schreiben Sie eine Funktion `wait_workers`, die auf alle zuvor gestarteten Worker-Prozesse wartet, die im Hintergrund laufen, und dann `all done` ausgibt.\n",
    "Verwenden Sie dazu das Array `PIDS`, das Sie zuvor erstellt haben."
   ]
  },
  {
   "cell_type": "code",
   "execution_count": null,
   "metadata": {
    "deletable": false,
    "nbgrader": {
     "cell_type": "code",
     "checksum": "9d58407da3ba18ba3e7451f4d36de7dc",
     "grade": false,
     "grade_id": "cell-ad379d2c780e2b1d",
     "locked": false,
     "schema_version": 3,
     "solution": true
    }
   },
   "outputs": [],
   "source": [
    "# ### Aufgabe 3.2\n",
    "\n",
    "# Schreiben Sie eine Funktion `start_workers`, die 10 Worker-Prozesse (0-9) im Hintergrund startet, indem sie die `worker`-Funktion aus der vorherigen Aufgabe verwendet.\n",
    "# Stellen Sie sicher, dass Sie die Worker-ID (0-9) als Parameter für die Funktion angeben.\n",
    "# Speichern Sie die PID jedes Worker-Prozesses in einem Array namens `PIDS`.\n",
    "\n",
    "# Schreiben Sie eine Funktion `wait_workers`, die auf alle zuvor gestarteten Worker-Prozesse wartet, die im Hintergrund laufen, und dann `all done` ausgibt.\n",
    "# Verwenden Sie dazu das Array `PIDS`, das Sie zuvor erstellt haben.\n",
    "\n",
    "PIDS=()\n",
    "\n",
    "start_workers() {\n",
    "    for i in $(seq 0 9); do\n",
    "        worker $i &\n",
    "        PIDS+=($!)\n",
    "    done\n",
    "}\n",
    "\n",
    "wait_workers() {\n",
    "    for pid in ${PIDS[@]}; do\n",
    "        wait $pid\n",
    "    done\n",
    "    echo \"all done\"\n",
    "}\n"
   ]
  },
  {
   "cell_type": "code",
   "execution_count": null,
   "metadata": {
    "deletable": false,
    "editable": false,
    "nbgrader": {
     "cell_type": "code",
     "checksum": "c7df783fd180de50586877a517d856cd",
     "grade": true,
     "grade_id": "cell-91d3bfa2909b3fe3",
     "locked": true,
     "points": 4,
     "schema_version": 3,
     "solution": false
    }
   },
   "outputs": [],
   "source": [
    "(set -e\n",
    "type -t start_workers > /dev/null || (echo \"function start_workers does not exist\" && false)\n",
    "unset PIDS\n",
    "start_workers\n",
    "[[ -n $PIDS ]] || (echo \"PIDS is empty\" && false)\n",
    "type -t wait_workers > /dev/null || (echo \"function wait_workers does not exist\" && false)\n",
    "wait_workers > output\n",
    "[[ $(cat output) == \"all done\" ]] || (echo \"output does not match\" && false)\n",
    "cat output\n",
    "rm output\n",
    ")"
   ]
  },
  {
   "cell_type": "code",
   "execution_count": null,
   "metadata": {
    "deletable": false,
    "editable": false,
    "nbgrader": {
     "cell_type": "code",
     "checksum": "de54d7b80ef1199d967d36e838e2131d",
     "grade": false,
     "grade_id": "cell-f8701c8ccba7c68d",
     "locked": true,
     "schema_version": 3,
     "solution": false
    }
   },
   "outputs": [],
   "source": [
    "rm -rf $WORK_DIR"
   ]
  }
 ],
 "metadata": {
  "kernelspec": {
   "display_name": "Bash",
   "language": "bash",
   "name": "bash"
  },
  "language_info": {
   "codemirror_mode": "shell",
   "file_extension": ".sh",
   "mimetype": "text/x-sh",
   "name": "bash"
  }
 },
 "nbformat": 4,
 "nbformat_minor": 4
}
