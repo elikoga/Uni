{
 "cells": [
  {
   "cell_type": "markdown",
   "id": "a9fd6ab9",
   "metadata": {},
   "source": [
    "Before you turn this problem in, make sure everything runs as expected. First, **restart the kernel** (in the menubar, select Kernel$\\rightarrow$Restart) and then **run all cells** (in the menubar, select Cell$\\rightarrow$Run All).\n",
    "\n",
    "Make sure you fill in any place that says `YOUR CODE HERE` or \"YOUR ANSWER HERE\"."
   ]
  },
  {
   "cell_type": "markdown",
   "id": "57856197",
   "metadata": {},
   "source": [
    "---"
   ]
  },
  {
   "cell_type": "markdown",
   "id": "b1d75109-52f6-4845-b4f7-2db64733f7d3",
   "metadata": {
    "deletable": false,
    "editable": false,
    "nbgrader": {
     "cell_type": "markdown",
     "checksum": "65b5cb52681ab8f7f87f612c1e2295aa",
     "grade": false,
     "grade_id": "cell-dbaea77e41d75116",
     "locked": true,
     "schema_version": 3,
     "solution": false,
     "task": false
    }
   },
   "source": [
    "## Blatt 12\n",
    "\n",
    "- **Jede(r)** Studierende muss die Aufgaben einreichen.\n",
    "Wenn Sie die Aufgaben nicht selbst einreichen, erhalten Sie 0 Punkte für die Aufgabe.\n",
    "- Sie werden ermutigt, in Gruppen von bis zu vier Personen an den Lösungen zu arbeiten.\n",
    "    - Bei Einreichungen solcher Einreichungsgruppen speichern die Gruppen die imt-Logins aller Mitglieder in der Variable `AUTHORS`, z.B: `AUTHORS=\"first-imtlogin second-imtlogin\"`.\n",
    "    - Jedes Mitglied der Gruppen **muss das Assignment einreichen**.\n",
    "    - Verwenden Sie dazu die vorbereitete Zelle:\n",
    "\n",
    "**Anmerkung:** Löschen Sie *nicht* die Befehlshistorie (z.B. durch Ausführen von `history -c`) in *Ihrem* Code!"
   ]
  },
  {
   "cell_type": "code",
   "execution_count": null,
   "id": "5a04ee41-fcc4-4a79-99dd-7f55ad741d05",
   "metadata": {},
   "outputs": [],
   "source": [
    "AUTHORS=\"elikoga\""
   ]
  },
  {
   "cell_type": "code",
   "execution_count": null,
   "id": "5639c4e5-06d5-48cc-ac37-248e07ee74f3",
   "metadata": {
    "deletable": false,
    "editable": false,
    "nbgrader": {
     "cell_type": "code",
     "checksum": "c5160002e32e17b088cf8a7dfc0d7de7",
     "grade": false,
     "grade_id": "cell-d904a34db2b0589e",
     "locked": true,
     "schema_version": 3,
     "solution": false,
     "task": false
    }
   },
   "outputs": [],
   "source": [
    "[[ -d $SHEET_DIR ]] && cd $SHEET_DIR  # Ensure this cell can be executed repeatedly\n",
    "rm -rf $SHEET_DIR/workdir-*  # Delete old work directories\n",
    "SHEET_DIR=$(pwd)\n",
    "WORK_DIR=$(mktemp -d -p $SHEET_DIR workdir-XXXXX)  # Create work directory\n",
    "cd $WORK_DIR  # Change into work directory"
   ]
  },
  {
   "cell_type": "markdown",
   "id": "882cc719-a77b-4e87-8042-334807e4edc7",
   "metadata": {
    "deletable": false,
    "editable": false,
    "nbgrader": {
     "cell_type": "markdown",
     "checksum": "8b6d3ba3d421cf7576b626525234d0ea",
     "grade": false,
     "grade_id": "cell-1da99cea5ddba377",
     "locked": true,
     "schema_version": 3,
     "solution": false,
     "task": false
    }
   },
   "source": [
    "### Aufgabe 1: File I/O\n",
    "\n",
    "Schreiben Sie ein C-Programm, welches beliebige Dateipfade/-namen über die Argumente übergeben bekommt. Diese Dateien sollen in eine neue Datei `combined.txt` geschrieben werden. Hierber soll jeweils abwechselnd ein Buchstabe aus jeder Datei in die neue Datei geschrieben werden in der Reihenfolge, wie die Argumente angegeben sind. Dateipfade/-namen, die nicht existieren sollen ignoriert werden. Wenn alle Buchstaben einer Datei geschrieben sind, wird diese für den Rest der Ausführung ebenfalls ignoriert. Das Programm soll immer den Rückgabewert `0` haben. Die C Source Datei soll im Verzeichnis `WORK_DIR` sein und `combine.c` heißen. Das Kompilieren wird automatisch vom ersten Test durchgeführt."
   ]
  },
  {
   "cell_type": "code",
   "execution_count": null,
   "id": "21a16eb0-7196-4d4a-94df-5d7853b5cee1",
   "metadata": {
    "deletable": false,
    "nbgrader": {
     "cell_type": "code",
     "checksum": "14bfcfb69c18e5ccf4989bdb7a9e71fb",
     "grade": false,
     "grade_id": "cell-968d1ed59f5e8358",
     "locked": false,
     "schema_version": 3,
     "solution": true,
     "task": false
    }
   },
   "outputs": [],
   "source": [
    "# ### Aufgabe 1: File I/O\n",
    "\n",
    "# Schreiben Sie ein C-Programm, welches beliebige Dateipfade/-namen über die Argumente übergeben bekommt. Diese Dateien sollen in eine neue Datei `combined.txt` geschrieben werden. Hierber soll jeweils abwechselnd ein Buchstabe aus jeder Datei in die neue Datei geschrieben werden in der Reihenfolge, wie die Argumente angegeben sind. Dateipfade/-namen, die nicht existieren sollen ignoriert werden. Wenn alle Buchstaben einer Datei geschrieben sind, wird diese für den Rest der Ausführung ebenfalls ignoriert. Das Programm soll immer den Rückgabewert `0` haben. Die C Source Datei soll im Verzeichnis `WORK_DIR` sein und `combine.c` heißen. Das Kompilieren wird automatisch vom ersten Test durchgeführt.\n",
    "\n",
    "cat > combine.c << EOF\n",
    "#include <stdio.h>\n",
    "#include <stdlib.h>\n",
    "#include <string.h>\n",
    "\n",
    "int main(int argc, char *argv[]) {\n",
    "    FILE *combined = fopen(\"combined.txt\", \"w\");\n",
    "    if (combined == NULL) {\n",
    "        return 1;\n",
    "    }\n",
    "\n",
    "    FILE *files[argc - 1];\n",
    "    for (int i = 1; i < argc; i++) {\n",
    "        files[i - 1] = fopen(argv[i], \"r\");\n",
    "    }\n",
    "\n",
    "    int i = 0;\n",
    "    while (1) {\n",
    "        int all_empty = 1;\n",
    "        for (int j = 0; j < argc - 1; j++) {\n",
    "            if (files[j] == NULL) {\n",
    "                continue;\n",
    "            }\n",
    "\n",
    "            int c = fgetc(files[j]);\n",
    "            if (c == EOF) {\n",
    "                fclose(files[j]);\n",
    "                files[j] = NULL;\n",
    "                continue;\n",
    "            }\n",
    "\n",
    "            all_empty = 0;\n",
    "            fputc(c, combined);\n",
    "        }\n",
    "\n",
    "        if (all_empty) {\n",
    "            break;\n",
    "        }\n",
    "    }\n",
    "\n",
    "    fclose(combined);\n",
    "    return 0;\n",
    "}\n",
    "EOF\n",
    "\n"
   ]
  },
  {
   "cell_type": "code",
   "execution_count": null,
   "id": "aa85d118-aad3-490c-b3fe-b28b890ee753",
   "metadata": {
    "deletable": false,
    "editable": false,
    "nbgrader": {
     "cell_type": "code",
     "checksum": "69eb47f779c0dc3a33277495edfa7c0b",
     "grade": true,
     "grade_id": "cell-34c8f287ebbb352f",
     "locked": true,
     "points": 1,
     "schema_version": 3,
     "solution": false,
     "task": false
    }
   },
   "outputs": [],
   "source": [
    "(set -e\n",
    "[[ $WORK_DIR == $(pwd) ]] || (echo \"Not in $WORK_DIR\" && false)\n",
    "[[ -f combine.c ]] || (echo \"The file 'combine.c' does not exist or is not executable.\" && false)\n",
    "gcc $WORK_DIR/combine.c -o $WORK_DIR/combine || (echo \"Compilation error.\" && false)\n",
    ")"
   ]
  },
  {
   "cell_type": "code",
   "execution_count": null,
   "id": "62efbb2c-ed58-4150-ba24-f824a4738844",
   "metadata": {
    "deletable": false,
    "editable": false,
    "nbgrader": {
     "cell_type": "code",
     "checksum": "3d700956c625f748927adc132b05bc23",
     "grade": true,
     "grade_id": "cell-8e0c275a94f0ae05",
     "locked": true,
     "points": 1,
     "schema_version": 3,
     "solution": false,
     "task": false
    }
   },
   "outputs": [],
   "source": [
    "(set -e\n",
    "[[ $WORK_DIR == $(pwd) ]] || (echo \"Not in $WORK_DIR\" && false)\n",
    "[[ -x combine ]] || (echo \"Executable is missing.\" && false)\n",
    "./combine || (echo \"The executable does not return the correct return code\" && false)\n",
    ")"
   ]
  },
  {
   "cell_type": "code",
   "execution_count": null,
   "id": "5bf7209a-1c13-45ad-8e01-11903d765152",
   "metadata": {
    "deletable": false,
    "editable": false,
    "nbgrader": {
     "cell_type": "code",
     "checksum": "5cd30f8d61c10ee466c55fe79c3f5ec8",
     "grade": true,
     "grade_id": "cell-cbeeda09eb408ffe",
     "locked": true,
     "points": 1,
     "schema_version": 3,
     "solution": false,
     "task": false
    }
   },
   "outputs": [],
   "source": [
    "(set -e\n",
    "[[ $WORK_DIR == $(pwd) ]] || (echo \"Not in $WORK_DIR\" && false)\n",
    "[[ -x combine ]] || (echo \"Executable is missing.\" && false)\n",
    "./combine\n",
    "[[ -f combined.txt ]] || (echo \"File combined.txt should exist\" && false)\n",
    "[[ $(cat combined.txt) == \"\" ]] || (echo \"File combined.txt should be empty\" && false)\n",
    ")"
   ]
  },
  {
   "cell_type": "code",
   "execution_count": null,
   "id": "f4acca81-8a9e-41a3-8859-d02739636086",
   "metadata": {
    "deletable": false,
    "editable": false,
    "nbgrader": {
     "cell_type": "code",
     "checksum": "f280cd4b60207249dc1a9cff7b68859f",
     "grade": true,
     "grade_id": "cell-afb4c9800b4a3efe",
     "locked": true,
     "points": 1,
     "schema_version": 3,
     "solution": false,
     "task": false
    }
   },
   "outputs": [],
   "source": [
    "(set -e\n",
    "[[ $WORK_DIR == $(pwd) ]] || (echo \"Not in $WORK_DIR\" && false)\n",
    "[[ -x combine ]] || (echo \"Executable is missing.\" && false)\n",
    "echo \"HloWl\" > a.txt\n",
    "echo \"al et\" > b.txt\n",
    "./combine a.txt b.txt\n",
    "[[ -f combined.txt ]] || (echo \"File combined.txt should exist\" && false)\n",
    "[[ $(cat combined.txt) == \"Hallo Welt\" ]] || (echo \"File combined.txt has the wrong content\" && false)\n",
    ")"
   ]
  },
  {
   "cell_type": "code",
   "execution_count": null,
   "id": "74ef4975-4b98-4e9c-85ce-7fdba0760c83",
   "metadata": {
    "deletable": false,
    "editable": false,
    "nbgrader": {
     "cell_type": "code",
     "checksum": "593049901e83cffa6c340f39476ea740",
     "grade": true,
     "grade_id": "cell-b08f5606214020d8",
     "locked": true,
     "points": 1,
     "schema_version": 3,
     "solution": false,
     "task": false
    }
   },
   "outputs": [],
   "source": [
    "# hidden test"
   ]
  },
  {
   "cell_type": "code",
   "execution_count": null,
   "id": "226e14db-c301-4187-8c82-26eb6898aea5",
   "metadata": {
    "deletable": false,
    "editable": false,
    "nbgrader": {
     "cell_type": "code",
     "checksum": "64306d70114af989fc527fd66824ca32",
     "grade": true,
     "grade_id": "cell-3a418c6c2b4c5153",
     "locked": true,
     "points": 1,
     "schema_version": 3,
     "solution": false,
     "task": false
    }
   },
   "outputs": [],
   "source": [
    "# hidden test"
   ]
  },
  {
   "cell_type": "code",
   "execution_count": null,
   "id": "2a564dc3-9541-4a53-8338-af01577463f5",
   "metadata": {
    "deletable": false,
    "editable": false,
    "nbgrader": {
     "cell_type": "code",
     "checksum": "8220810da988de7bae4d57c31a069f78",
     "grade": true,
     "grade_id": "cell-82969fa55b973148",
     "locked": true,
     "points": 1,
     "schema_version": 3,
     "solution": false,
     "task": false
    }
   },
   "outputs": [],
   "source": [
    "# hidden test"
   ]
  },
  {
   "cell_type": "markdown",
   "id": "5f99293c-246a-4083-98e9-b8276e6c4f52",
   "metadata": {
    "deletable": false,
    "editable": false,
    "nbgrader": {
     "cell_type": "markdown",
     "checksum": "5d1e6932aa836565b0ffe1bb558e7393",
     "grade": false,
     "grade_id": "cell-2fc83954238058fc",
     "locked": true,
     "schema_version": 3,
     "solution": false,
     "task": false
    }
   },
   "source": [
    "### Aufgabe 2: Structs und Typedef\n",
    "\n",
    "Im Ordner `task2` im `$SHEET_DIR` finden Sie ein Projekt, welches eine Liste verwendet. Vervollständigen Sie die Datei `list.c`. Bearbeiten Sie keine der anderen Dateien. Das Kompilieren führt der erste Test automatisiert durch. In der Datei `list.h` finden Sie die Dokumentation der Funktionen.\n",
    "\n",
    "**Tipp:** Sie können sich die interne Struktur der Liste aussuchen. Die Liste muss nur der Dokumentation der Funktionen in der Datei `list.h` entsprechen. Wir empfehlen für die Implementation eine einfach verkettete Liste."
   ]
  },
  {
   "cell_type": "code",
   "execution_count": null,
   "id": "224f817d-5c64-4e8f-b1de-52eb68d39910",
   "metadata": {
    "deletable": false,
    "nbgrader": {
     "cell_type": "code",
     "checksum": "74fa3e6156ae8d8b10dd7688b4dc5ddd",
     "grade": false,
     "grade_id": "cell-5218031ca916bd6c",
     "locked": false,
     "schema_version": 3,
     "solution": true,
     "task": false
    }
   },
   "outputs": [],
   "source": [
    "mkdir $WORK_DIR/task2\n",
    "cp $SHEET_DIR/task2/list.c $WORK_DIR/task2/list.c\n",
    "### your code here...\n",
    "# ### Aufgabe 2: Structs und Typedef\n",
    "\n",
    "# Im Ordner `task2` im `$SHEET_DIR` finden Sie ein Projekt, welches eine Liste verwendet. Vervollständigen Sie die Datei `list.c`. Bearbeiten Sie keine der anderen Dateien. Das Kompilieren führt der erste Test automatisiert durch. In der Datei `list.h` finden Sie die Dokumentation der Funktionen.\n",
    "\n",
    "# **Tipp:** Sie können sich die interne Struktur der Liste aussuchen. Die Liste muss nur der Dokumentation der Funktionen in der Datei `list.h` entsprechen. Wir empfehlen für die Implementation eine einfach verkettete Liste.\n",
    "\n",
    "# current state of list.c:\n",
    "# #include \"list.h\"\n",
    "# #include <stdlib.h>\n",
    "\n",
    "# struct list_s {\n",
    "#     // TODO\n",
    "# };\n",
    "\n",
    "# void list_insert(list_t ** head, int value) {\n",
    "#     // TODO\n",
    "# }\n",
    "\n",
    "# int list_pop(list_t ** head) {\n",
    "#     // TODO\n",
    "# }\n",
    "\n",
    "# int list_get(list_t * head, int i) {\n",
    "#     // TODO\n",
    "# }\n",
    "\n",
    "# current state of main.c:\n",
    "# #include <stdio.h>\n",
    "# #include \"list.h\"\n",
    "\n",
    "# #define ASSERT(given, expected) do { if (given != expected) { printf(\"Assert failed. Got: %d. Expected: %d\\n\", given, expected); return -1; } } while (0);\n",
    "\n",
    "# int test1() {\n",
    "#     printf(\"Test 1\\n\");\n",
    "#     list_t * head = NULL;\n",
    "#     list_insert(&head, 1);\n",
    "#     list_insert(&head, 2);\n",
    "#     list_insert(&head, 3);\n",
    "#     int i = list_pop(&head);\n",
    "#     ASSERT(i, 3);\n",
    "#     i = list_pop(&head);\n",
    "#     ASSERT(i, 2);\n",
    "#     i = list_pop(&head);\n",
    "#     ASSERT(i, 1);\n",
    "\n",
    "#     if (head != NULL) {\n",
    "#         printf(\"Head is expected to be NULL when list is empty!\\n\");\n",
    "#         return -1;\n",
    "#     }\n",
    "\n",
    "#     return 0;\n",
    "# }\n",
    "\n",
    "# int test2() {\n",
    "#     printf(\"Test 2\\n\");\n",
    "#     list_t * head = NULL;\n",
    "#     list_insert(&head, 42);\n",
    "#     list_insert(&head, 123);\n",
    "#     list_insert(&head, 5);\n",
    "#     int i = list_get(head, 0);\n",
    "#     ASSERT(i, 5);\n",
    "#     i = list_get(head, 2);\n",
    "#     ASSERT(i, 42);\n",
    "#     i = list_get(head, 1);\n",
    "#     ASSERT(i, 123);\n",
    "\n",
    "#     if (head == NULL) {\n",
    "#         printf(\"Head should be unequal to NULL if list is not empty!\\n\");\n",
    "#         return -1;\n",
    "#     }\n",
    "\n",
    "#     return 0;\n",
    "# }\n",
    "\n",
    "# int test3() {\n",
    "#     printf(\"Test 3\\n\");\n",
    "#     list_t * head = NULL;\n",
    "#     list_insert(&head, 11);\n",
    "#     int i = list_get(head, 0);\n",
    "#     ASSERT(i, 11);\n",
    "\n",
    "#     if (head == NULL) {\n",
    "#         printf(\"Head should be unequal to NULL if list is not empty!\\n\");\n",
    "#         return -1;\n",
    "#     }\n",
    "\n",
    "#     return 0;\n",
    "# }\n",
    "\n",
    "# int test4() {\n",
    "#     printf(\"Test 4\\n\");\n",
    "#     list_t * head = NULL;\n",
    "#     list_insert(&head, 11);\n",
    "#     int i = list_get(head, 1);\n",
    "#     ASSERT(i, -1);\n",
    "\n",
    "#     if (head == NULL) {\n",
    "#         printf(\"Head should be unequal to NULL if list is not empty!\\n\");\n",
    "#         return -1;\n",
    "#     }\n",
    "\n",
    "#     return 0;\n",
    "# }\n",
    "\n",
    "# int test5() {\n",
    "#     printf(\"Test 5\\n\");\n",
    "#     list_t * head = NULL;\n",
    "#     int i = list_get(head, 0);\n",
    "#     ASSERT(i, -1);\n",
    "\n",
    "#     if (head != NULL) {\n",
    "#         printf(\"Head should be equal to NULL if list is empty!\\n\");\n",
    "#         return -1;\n",
    "#     }\n",
    "\n",
    "#     return 0;\n",
    "# }\n",
    "\n",
    "# int main(int argc, char ** argv) {\n",
    "#     if (argc != 2) {\n",
    "#         printf(\"Wrong argument count!\\n\");\n",
    "#         return -1;\n",
    "#     }\n",
    "\n",
    "#     switch (argv[1][0]) {\n",
    "#         case '1':\n",
    "#             return test1();\n",
    "#         case '2':\n",
    "#             return test2();\n",
    "#         case '3':\n",
    "#             return test3();\n",
    "#         case '4':\n",
    "#             return test4();\n",
    "#         case '5':\n",
    "#             return test5();\n",
    "#     }\n",
    "\n",
    "#     printf(\"Wrong test case.\\n\");\n",
    "#     return -1;\n",
    "# }\n",
    "\n",
    "\n",
    "cat > $WORK_DIR/task2/list.c << EOF\n",
    "#include \"list.h\"\n",
    "#include <stdlib.h>\n",
    "\n",
    "struct list_s {\n",
    "    int value;\n",
    "    struct list_s * next;\n",
    "};\n",
    "\n",
    "void list_insert(list_t ** head, int value) {\n",
    "    list_t * new_node = malloc(sizeof(list_t));\n",
    "    new_node->value = value;\n",
    "    new_node->next = *head;\n",
    "    *head = new_node;\n",
    "}\n",
    "\n",
    "int list_pop(list_t ** head) {\n",
    "    if (*head == NULL) {\n",
    "        return -1;\n",
    "    }\n",
    "\n",
    "    list_t * next = (*head)->next;\n",
    "    int value = (*head)->value;\n",
    "    free(*head);\n",
    "    *head = next;\n",
    "    return value;\n",
    "}\n",
    "\n",
    "int list_get(list_t * head, int i) {\n",
    "    while (i > 0 && head != NULL) {\n",
    "        head = head->next;\n",
    "        i--;\n",
    "    }\n",
    "\n",
    "    if (head == NULL) {\n",
    "        return -1;\n",
    "    }\n",
    "\n",
    "    return head->value;\n",
    "}\n",
    "\n",
    "EOF"
   ]
  },
  {
   "cell_type": "code",
   "execution_count": null,
   "id": "74b34997-09b5-41b3-a464-810e66756be9",
   "metadata": {
    "deletable": false,
    "editable": false,
    "nbgrader": {
     "cell_type": "code",
     "checksum": "f1aa78da3e2de0af6ddee231dbeeee70",
     "grade": false,
     "grade_id": "cell-9ef45dcf07f25414",
     "locked": true,
     "schema_version": 3,
     "solution": false,
     "task": false
    }
   },
   "outputs": [],
   "source": [
    "cat - > $SHEET_DIR/task2/list.h <<EOF\n",
    "#ifndef LIST_H_\n",
    "#define LIST_H_\n",
    "\n",
    "typedef struct list_s list_t;\n",
    "\n",
    "/**\n",
    " * Insert a new element at the head of the list.\n",
    " *\n",
    " * \\param[inout] head a pointer to the old list's head and after the call a pointer to the new list's head.\n",
    " * \\param[in] value the value of the new list item\n",
    " */\n",
    "void list_insert(list_t ** head, int value);\n",
    "\n",
    "/**\n",
    " * Remove the first element in the list.\n",
    " *\n",
    " * \\param[inout] head a pointer to the old list's head and after the call a pointer to the new list's head.\n",
    " * \\return the value of the removed list element. -1 on error.\n",
    " */\n",
    "int list_pop(list_t ** head);\n",
    "\n",
    "/**\n",
    " * Get the list's i-th element.\n",
    " *\n",
    " * \\param[in] head a pointer to the list's head\n",
    " * \\param[in] i an integer that indicates the index of the element\n",
    " * \\return the value of the i-th element in the list. -1 if the index is out of bounds.\n",
    " */\n",
    "int list_get(list_t * head, int i);\n",
    "\n",
    "#endif\n",
    "EOF\n",
    "\n",
    "cat - > $SHEET_DIR/task2/main.c <<EOF\n",
    "#include <stdio.h>\n",
    "#include \"list.h\"\n",
    "\n",
    "#define ASSERT(given, expected) do { if (given != expected) { printf(\"Assert failed. Got: %d. Expected: %d\\n\", given, expected); return -1; } } while (0);\n",
    "\n",
    "int test1() {\n",
    "    printf(\"Test 1\\n\");\n",
    "    list_t * head = NULL;\n",
    "    list_insert(&head, 1);\n",
    "    list_insert(&head, 2);\n",
    "    list_insert(&head, 3);\n",
    "    int i = list_pop(&head);\n",
    "    ASSERT(i, 3);\n",
    "    i = list_pop(&head);\n",
    "    ASSERT(i, 2);\n",
    "    i = list_pop(&head);\n",
    "    ASSERT(i, 1);\n",
    "\n",
    "    if (head != NULL) {\n",
    "        printf(\"Head is expected to be NULL when list is empty!\\n\");\n",
    "        return -1;\n",
    "    }\n",
    "\n",
    "    return 0;\n",
    "}\n",
    "\n",
    "int test2() {\n",
    "    printf(\"Test 2\\n\");\n",
    "    list_t * head = NULL;\n",
    "    list_insert(&head, 42);\n",
    "    list_insert(&head, 123);\n",
    "    list_insert(&head, 5);\n",
    "    int i = list_get(head, 0);\n",
    "    ASSERT(i, 5);\n",
    "    i = list_get(head, 2);\n",
    "    ASSERT(i, 42);\n",
    "    i = list_get(head, 1);\n",
    "    ASSERT(i, 123);\n",
    "\n",
    "    if (head == NULL) {\n",
    "        printf(\"Head should be unequal to NULL if list is not empty!\\n\");\n",
    "        return -1;\n",
    "    }\n",
    "\n",
    "    return 0;\n",
    "}\n",
    "\n",
    "int test3() {\n",
    "    printf(\"Test 3\\n\");\n",
    "    list_t * head = NULL;\n",
    "    list_insert(&head, 11);\n",
    "    int i = list_get(head, 0);\n",
    "    ASSERT(i, 11);\n",
    "\n",
    "    if (head == NULL) {\n",
    "        printf(\"Head should be unequal to NULL if list is not empty!\\n\");\n",
    "        return -1;\n",
    "    }\n",
    "\n",
    "    return 0;\n",
    "}\n",
    "\n",
    "int test4() {\n",
    "    printf(\"Test 4\\n\");\n",
    "    list_t * head = NULL;\n",
    "    list_insert(&head, 11);\n",
    "    int i = list_get(head, 1);\n",
    "    ASSERT(i, -1);\n",
    "\n",
    "    if (head == NULL) {\n",
    "        printf(\"Head should be unequal to NULL if list is not empty!\\n\");\n",
    "        return -1;\n",
    "    }\n",
    "\n",
    "    return 0;\n",
    "}\n",
    "\n",
    "int test5() {\n",
    "    printf(\"Test 5\\n\");\n",
    "    list_t * head = NULL;\n",
    "    int i = list_get(head, 0);\n",
    "    ASSERT(i, -1);\n",
    "\n",
    "    if (head != NULL) {\n",
    "        printf(\"Head should be equal to NULL if list is empty!\\n\");\n",
    "        return -1;\n",
    "    }\n",
    "\n",
    "    return 0;\n",
    "}\n",
    "\n",
    "int main(int argc, char ** argv) {\n",
    "    if (argc != 2) {\n",
    "        printf(\"Wrong argument count!\\n\");\n",
    "        return -1;\n",
    "    }\n",
    "\n",
    "    switch (argv[1][0]) {\n",
    "        case '1':\n",
    "            return test1();\n",
    "        case '2':\n",
    "            return test2();\n",
    "        case '3':\n",
    "            return test3();\n",
    "        case '4':\n",
    "            return test4();\n",
    "        case '5':\n",
    "            return test5();\n",
    "    }\n",
    "\n",
    "    printf(\"Wrong test case.\\n\");\n",
    "    return -1;\n",
    "}\n",
    "EOF\n",
    "\n",
    "cp $SHEET_DIR/task2/list.h $WORK_DIR/task2/list.h\n",
    "cp $SHEET_DIR/task2/main.c $WORK_DIR/task2/main.c"
   ]
  },
  {
   "cell_type": "code",
   "execution_count": null,
   "id": "e73e5c20-c362-4c28-b7a5-783ae912aa1a",
   "metadata": {
    "deletable": false,
    "editable": false,
    "nbgrader": {
     "cell_type": "code",
     "checksum": "cb0bf6cd7017299ff9752ecca9e717b1",
     "grade": true,
     "grade_id": "cell-dd0913c4f27c7ce3",
     "locked": true,
     "points": 1,
     "schema_version": 3,
     "solution": false,
     "task": false
    }
   },
   "outputs": [],
   "source": [
    "(set -e\n",
    "[[ $WORK_DIR == $(pwd) ]] || (echo \"Not in $WORK_DIR\" && false)\n",
    "[[ -f task2/list.c ]] || (echo \"The file 'list.c' does not exist.\" && false)\n",
    "[[ -f task2/list.h ]] || (echo \"The file 'list.h' does not exist.\" && false)\n",
    "[[ -f task2/main.c ]] || (echo \"The file 'main.c' does not exist.\" && false)\n",
    "gcc task2/list.c task2/main.c -o main || (echo \"Compilation error.\" && false)\n",
    ")"
   ]
  },
  {
   "cell_type": "code",
   "execution_count": null,
   "id": "3fe03266-37c2-4271-9e13-0736631a35ad",
   "metadata": {
    "deletable": false,
    "editable": false,
    "nbgrader": {
     "cell_type": "code",
     "checksum": "495e74d8be04886b49b6601cbd9e9aa3",
     "grade": true,
     "grade_id": "cell-366040390e1b46f0",
     "locked": true,
     "points": 1,
     "schema_version": 3,
     "solution": false,
     "task": false
    }
   },
   "outputs": [],
   "source": [
    "(set -e\n",
    "[[ $WORK_DIR == $(pwd) ]] || (echo \"Not in $WORK_DIR\" && false)\n",
    "[[ -x main ]] || (echo \"The file 'main' does not exist or is not executable.\" && false)\n",
    "./main 1 || (echo \"Test 1 failed\" && false)\n",
    ")"
   ]
  },
  {
   "cell_type": "code",
   "execution_count": null,
   "id": "d8d55935-b341-4a60-878b-26e89a025100",
   "metadata": {
    "deletable": false,
    "editable": false,
    "nbgrader": {
     "cell_type": "code",
     "checksum": "9e19ad2b4ed7c0b7bc989eac112e4c2c",
     "grade": true,
     "grade_id": "cell-6ce14477630103ae",
     "locked": true,
     "points": 1,
     "schema_version": 3,
     "solution": false,
     "task": false
    }
   },
   "outputs": [],
   "source": [
    "(set -e\n",
    "[[ $WORK_DIR == $(pwd) ]] || (echo \"Not in $WORK_DIR\" && false)\n",
    "[[ -x main ]] || (echo \"The file 'main' does not exist or is not executable.\" && false)\n",
    "./main 2 || (echo \"Test 2 failed\" && false)\n",
    ")"
   ]
  },
  {
   "cell_type": "code",
   "execution_count": null,
   "id": "90f8c017-623f-429a-b1ba-54b9c99808d1",
   "metadata": {
    "deletable": false,
    "editable": false,
    "nbgrader": {
     "cell_type": "code",
     "checksum": "ca4c9ef4d8b7179e410f4173812b55e4",
     "grade": true,
     "grade_id": "cell-edc4b6a6b99584e6",
     "locked": true,
     "points": 1,
     "schema_version": 3,
     "solution": false,
     "task": false
    }
   },
   "outputs": [],
   "source": [
    "(set -e\n",
    "[[ $WORK_DIR == $(pwd) ]] || (echo \"Not in $WORK_DIR\" && false)\n",
    "[[ -x main ]] || (echo \"The file 'main' does not exist or is not executable.\" && false)\n",
    "./main 3 || (echo \"Test 3 failed\" && false)\n",
    ")"
   ]
  },
  {
   "cell_type": "code",
   "execution_count": null,
   "id": "8f734c3c-c814-4330-b68c-0ef9cc43d81f",
   "metadata": {
    "deletable": false,
    "editable": false,
    "nbgrader": {
     "cell_type": "code",
     "checksum": "7492018d0242a15ef57e9406a17a383b",
     "grade": true,
     "grade_id": "cell-63021451bc0ca0b6",
     "locked": true,
     "points": 1,
     "schema_version": 3,
     "solution": false,
     "task": false
    }
   },
   "outputs": [],
   "source": [
    "(set -e\n",
    "[[ $WORK_DIR == $(pwd) ]] || (echo \"Not in $WORK_DIR\" && false)\n",
    "[[ -x main ]] || (echo \"The file 'main' does not exist or is not executable.\" && false)\n",
    "./main 4 || (echo \"Test 4 failed\" && false)\n",
    ")"
   ]
  },
  {
   "cell_type": "code",
   "execution_count": null,
   "id": "a7490745-4328-4d0b-9414-cde124cd6336",
   "metadata": {
    "deletable": false,
    "editable": false,
    "nbgrader": {
     "cell_type": "code",
     "checksum": "b285a9431787bf49fa0068b18632123b",
     "grade": true,
     "grade_id": "cell-e9d8ecdd78d2eb54",
     "locked": true,
     "points": 1,
     "schema_version": 3,
     "solution": false,
     "task": false
    }
   },
   "outputs": [],
   "source": [
    "(set -e\n",
    "[[ $WORK_DIR == $(pwd) ]] || (echo \"Not in $WORK_DIR\" && false)\n",
    "[[ -x main ]] || (echo \"The file 'main' does not exist or is not executable.\" && false)\n",
    "./main 5 || (echo \"Test 5 failed\" && false)\n",
    ")"
   ]
  },
  {
   "cell_type": "code",
   "execution_count": null,
   "id": "2533f172-2f26-471b-a98c-aec86d118dd1",
   "metadata": {
    "deletable": false,
    "editable": false,
    "nbgrader": {
     "cell_type": "code",
     "checksum": "cf8780db3069c6a6b2b009577338e01b",
     "grade": true,
     "grade_id": "cell-c594af7bc5684dd0",
     "locked": true,
     "points": 0,
     "schema_version": 3,
     "solution": false,
     "task": false
    }
   },
   "outputs": [],
   "source": [
    "# hidden test"
   ]
  },
  {
   "cell_type": "code",
   "execution_count": null,
   "id": "27a1f3a1-5403-4c8e-bbb3-91305c24f3b8",
   "metadata": {
    "deletable": false,
    "editable": false,
    "nbgrader": {
     "cell_type": "code",
     "checksum": "0cf4ed8b7ba51db8b9437465a5f1948a",
     "grade": true,
     "grade_id": "cell-3c4f5c3bac8f5fc5",
     "locked": true,
     "points": 1,
     "schema_version": 3,
     "solution": false,
     "task": false
    }
   },
   "outputs": [],
   "source": [
    "# hidden test"
   ]
  },
  {
   "cell_type": "code",
   "execution_count": null,
   "id": "54931fd5-881c-4463-99b9-f3ce25ba8673",
   "metadata": {
    "deletable": false,
    "editable": false,
    "nbgrader": {
     "cell_type": "code",
     "checksum": "56a35d093ee7db74fac44041884945fb",
     "grade": true,
     "grade_id": "cell-8b2f3760c79184bb",
     "locked": true,
     "points": 1,
     "schema_version": 3,
     "solution": false,
     "task": false
    }
   },
   "outputs": [],
   "source": [
    "# hidden test"
   ]
  },
  {
   "cell_type": "code",
   "execution_count": null,
   "id": "3fdf08e1-20c3-4129-9c7f-1f0ee7d7c946",
   "metadata": {
    "deletable": false,
    "editable": false,
    "nbgrader": {
     "cell_type": "code",
     "checksum": "2a9f46ce7a503217e26dca91335d2db2",
     "grade": true,
     "grade_id": "cell-516c4a198447463b",
     "locked": true,
     "points": 1,
     "schema_version": 3,
     "solution": false,
     "task": false
    }
   },
   "outputs": [],
   "source": [
    "# hidden test"
   ]
  },
  {
   "cell_type": "code",
   "execution_count": null,
   "id": "bc0e815f-14f3-4434-891c-59363f2b0463",
   "metadata": {
    "deletable": false,
    "editable": false,
    "nbgrader": {
     "cell_type": "code",
     "checksum": "ae95a72887ebf5bd035892553c75e166",
     "grade": false,
     "grade_id": "cell-6bae51201b810a95",
     "locked": true,
     "schema_version": 3,
     "solution": false,
     "task": false
    }
   },
   "outputs": [],
   "source": [
    "rm -rf $WORK_DIR"
   ]
  }
 ],
 "metadata": {
  "kernelspec": {
   "display_name": "Bash",
   "language": "bash",
   "name": "bash"
  },
  "language_info": {
   "codemirror_mode": "shell",
   "file_extension": ".sh",
   "mimetype": "text/x-sh",
   "name": "bash"
  }
 },
 "nbformat": 4,
 "nbformat_minor": 5
}
