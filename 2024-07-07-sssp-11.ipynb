{
 "cells": [
  {
   "cell_type": "markdown",
   "id": "c41898d1",
   "metadata": {},
   "source": [
    "Before you turn this problem in, make sure everything runs as expected. First, **restart the kernel** (in the menubar, select Kernel$\\rightarrow$Restart) and then **run all cells** (in the menubar, select Cell$\\rightarrow$Run All).\n",
    "\n",
    "Make sure you fill in any place that says `YOUR CODE HERE` or \"YOUR ANSWER HERE\"."
   ]
  },
  {
   "cell_type": "markdown",
   "id": "c9017900",
   "metadata": {},
   "source": [
    "---"
   ]
  },
  {
   "cell_type": "markdown",
   "id": "355500a5-e890-491d-90f7-c62c33809fa4",
   "metadata": {
    "deletable": false,
    "editable": false,
    "nbgrader": {
     "cell_type": "markdown",
     "checksum": "ca4a6c7c991f7726240b6e593aab3844",
     "grade": false,
     "grade_id": "cell-696c5197ecf9ee13",
     "locked": true,
     "schema_version": 3,
     "solution": false,
     "task": false
    }
   },
   "source": [
    "## Blatt 11\n",
    "\n",
    "- **Jede(r)** Studierende muss die Aufgaben einreichen.\n",
    "Wenn Sie die Aufgaben nicht selbst einreichen, erhalten Sie 0 Punkte für die Aufgabe.\n",
    "- Sie werden ermutigt, in Gruppen von bis zu vier Personen an den Lösungen zu arbeiten.\n",
    "    - Bei Einreichungen solcher Einreichungsgruppen speichern die Gruppen die imt-Logins aller Mitglieder in der Variable `AUTHORS`, z.B: `AUTHORS=\"first-imtlogin second-imtlogin\"`.\n",
    "    - Jedes Mitglied der Gruppen **muss das Assignment einreichen**.\n",
    "    - Verwenden Sie dazu die vorbereitete Zelle:\n",
    "\n",
    "**Anmerkung:** Löschen Sie *nicht* die Befehlshistorie (z.B. durch Ausführen von `history -c`) in *Ihrem* Code!"
   ]
  },
  {
   "cell_type": "code",
   "execution_count": null,
   "id": "9270e13e-62ea-4977-8337-d6b9bcf291a5",
   "metadata": {},
   "outputs": [],
   "source": [
    "AUTHORS=\"elikoga\""
   ]
  },
  {
   "cell_type": "code",
   "execution_count": null,
   "id": "9a04605c-053b-4a2f-a91b-0c9508b4db79",
   "metadata": {
    "deletable": false,
    "editable": false,
    "nbgrader": {
     "cell_type": "code",
     "checksum": "4512936dc6fba2290b3a04d2e2f611b3",
     "grade": false,
     "grade_id": "cell-422cf117123a22eb",
     "locked": true,
     "schema_version": 3,
     "solution": false,
     "task": false
    }
   },
   "outputs": [],
   "source": [
    "[[ -d $SHEET_DIR ]] && cd $SHEET_DIR  # Ensure this cell can be executed repeatedly\n",
    "rm -rf $SHEET_DIR/workdir-*  # Delete old work directories\n",
    "SHEET_DIR=$(pwd)\n",
    "WORK_DIR=$(mktemp -d -p $SHEET_DIR workdir-XXXXX)  # Create work directory\n",
    "cd $WORK_DIR  # Change into work directory"
   ]
  },
  {
   "cell_type": "markdown",
   "id": "6c5154e7-be42-4975-af82-6ba5b577069d",
   "metadata": {
    "deletable": false,
    "editable": false,
    "nbgrader": {
     "cell_type": "markdown",
     "checksum": "976ce195592b0e548cdc0fe9bc32f564",
     "grade": false,
     "grade_id": "cell-b9f7327a72166d57",
     "locked": true,
     "schema_version": 3,
     "solution": false,
     "task": false
    }
   },
   "source": [
    "### Aufgabe 1: Kompilieren\n",
    "\n",
    "Für die folgenden Aufgaben soll `gcc` verwendet werden.\n",
    "\n",
    "#### 1.1\n",
    "\n",
    "Im Verzeichnis `SHEET_DIR/task1` liegt die C Source Datei `hello.c`. Kompilieren Sie diese Datei, sodass die Executable `hello` im Verzeichnis `WORK_DIR` liegt. Die Datei muss ausführbar sein."
   ]
  },
  {
   "cell_type": "code",
   "execution_count": null,
   "id": "53dd2956-8f2e-4e54-b4c7-53ef124298a5",
   "metadata": {
    "deletable": false,
    "nbgrader": {
     "cell_type": "code",
     "checksum": "56816bcb32d63bc207cf02bc13d95f3f",
     "grade": false,
     "grade_id": "cell-d6e344c9950d79ec",
     "locked": false,
     "schema_version": 3,
     "solution": true,
     "task": false
    }
   },
   "outputs": [],
   "source": [
    "# ### Aufgabe 1: Kompilieren\n",
    "\n",
    "# Für die folgenden Aufgaben soll `gcc` verwendet werden.\n",
    "\n",
    "# #### 1.1\n",
    "\n",
    "# Im Verzeichnis `SHEET_DIR/task1` liegt die C Source Datei `hello.c`. Kompilieren Sie diese Datei, sodass die Executable `hello` im Verzeichnis `WORK_DIR` liegt. Die Datei muss ausführbar sein.\n",
    "\n",
    "gcc -o hello $SHEET_DIR/task1/hello.c"
   ]
  },
  {
   "cell_type": "code",
   "execution_count": null,
   "id": "7c54ac8a-e66d-4f47-a802-a6979d8039be",
   "metadata": {
    "deletable": false,
    "editable": false,
    "nbgrader": {
     "cell_type": "code",
     "checksum": "18c37907353cd75ab85f0495da13082b",
     "grade": true,
     "grade_id": "cell-3e3ac371efa4c18c",
     "locked": true,
     "points": 1,
     "schema_version": 3,
     "solution": false,
     "task": false
    }
   },
   "outputs": [],
   "source": [
    "(set -e\n",
    "[[ $WORK_DIR == $(pwd) ]] || (echo \"Not in $WORK_DIR\" && false)\n",
    "[[ -x hello ]] || (echo \"The file 'hello' does not exist or is not executable.\" && false)\n",
    ")"
   ]
  },
  {
   "cell_type": "markdown",
   "id": "06475eda-6c59-4e26-aefe-2712706f875d",
   "metadata": {
    "deletable": false,
    "editable": false,
    "nbgrader": {
     "cell_type": "markdown",
     "checksum": "d7606ad11ea1f22c620515fb9c73fdcc",
     "grade": false,
     "grade_id": "cell-bc3f9d145a863ccb",
     "locked": true,
     "schema_version": 3,
     "solution": false,
     "task": false
    }
   },
   "source": [
    "#### 1.2\n",
    "\n",
    "Im Verzeichnis `SHEET_DIR/task1/src` liegen zwei C Source Dateien (`main.c` und `lib.c`), die zusammen ein Programm ergeben. Kompilieren Sie beide Dateien nacheinander und linken diese zusammen zu einer Executable `main`, welche im Verzeichnis `WORK_DIR` liegt. Die Datei muss ausführbar sein."
   ]
  },
  {
   "cell_type": "code",
   "execution_count": null,
   "id": "3f4beb65-89d4-430b-b6ff-1d3716771a5a",
   "metadata": {
    "deletable": false,
    "nbgrader": {
     "cell_type": "code",
     "checksum": "d56a41c20440f4515572ceb51ade1761",
     "grade": false,
     "grade_id": "cell-9aef822ab28e2f24",
     "locked": false,
     "schema_version": 3,
     "solution": true,
     "task": false
    }
   },
   "outputs": [],
   "source": [
    "#### 1.2\n",
    "\n",
    "# Im Verzeichnis `SHEET_DIR/task1/src` liegen zwei C Source Dateien (`main.c` und `lib.c`), die zusammen ein Programm ergeben. Kompilieren Sie beide Dateien nacheinander und linken diese zusammen zu einer Executable `main`, welche im Verzeichnis `WORK_DIR` liegt. Die Datei muss ausführbar sein.\n",
    "\n",
    "gcc -o main $SHEET_DIR/task1/src/main.c $SHEET_DIR/task1/src/lib.c\n"
   ]
  },
  {
   "cell_type": "code",
   "execution_count": null,
   "id": "d4ed2b55-c304-41fe-a9d4-5a752eb22539",
   "metadata": {
    "deletable": false,
    "editable": false,
    "nbgrader": {
     "cell_type": "code",
     "checksum": "44fff54c7dd5e1dbbfd110e73c44655d",
     "grade": true,
     "grade_id": "cell-a40d47e9b1cca707",
     "locked": true,
     "points": 1,
     "schema_version": 3,
     "solution": false,
     "task": false
    }
   },
   "outputs": [],
   "source": [
    "(set -e\n",
    "[[ $WORK_DIR == $(pwd) ]] || (echo \"Not in $WORK_DIR\" && false)\n",
    "[[ -x main ]] || (echo \"The file 'main' does not exist or is not executable.\" && false)\n",
    "[[ $(./main | tr '\\n' ';') == \"The sum of 1 and 2 is 3;The sum of 5 and 0 is 5;\" ]] || (echo \"Executable does not print the correct string\" && false)\n",
    ")"
   ]
  },
  {
   "cell_type": "markdown",
   "id": "28c6dfff-1b7b-48d9-9679-4364b16547c2",
   "metadata": {
    "deletable": false,
    "editable": false,
    "nbgrader": {
     "cell_type": "markdown",
     "checksum": "c730dfcceecd1e4a7d4de7ec3d57b381",
     "grade": false,
     "grade_id": "cell-ffd1190b5f950b84",
     "locked": true,
     "schema_version": 3,
     "solution": false,
     "task": false
    }
   },
   "source": [
    "#### 1.3\n",
    "\n",
    "Im Verzeichnis `SHEET_DIR/task1/src` liegen zwei C Source Dateien (`main.c` und `lib.c`). Kompilieren Sie beide jeweils zu Object Dateien `main.o` und `lib.o`. Beide Dateien sollen im Verzeichnis `WORK_DIR` liegen."
   ]
  },
  {
   "cell_type": "code",
   "execution_count": null,
   "id": "aa321c49-d021-4531-a55a-be23ecb44c82",
   "metadata": {
    "deletable": false,
    "nbgrader": {
     "cell_type": "code",
     "checksum": "6552b9d326128524df892fc0eee2afaf",
     "grade": false,
     "grade_id": "cell-5d308bc0a6c70dec",
     "locked": false,
     "schema_version": 3,
     "solution": true,
     "task": false
    }
   },
   "outputs": [],
   "source": [
    "# #### 1.3\n",
    "\n",
    "# Im Verzeichnis `SHEET_DIR/task1/src` liegen zwei C Source Dateien (`main.c` und `lib.c`). Kompilieren Sie beide jeweils zu Object Dateien `main.o` und `lib.o`. Beide Dateien sollen im Verzeichnis `WORK_DIR` liegen.\n",
    "\n",
    "gcc -c -o main.o $SHEET_DIR/task1/src/main.c\n",
    "gcc -c -o lib.o $SHEET_DIR/task1/src/lib.c\n",
    "\n"
   ]
  },
  {
   "cell_type": "code",
   "execution_count": null,
   "id": "3663d7cd-8a2e-4750-844f-6e2fbef30588",
   "metadata": {
    "deletable": false,
    "editable": false,
    "nbgrader": {
     "cell_type": "code",
     "checksum": "f56777f388842e287f53faf416b95578",
     "grade": true,
     "grade_id": "cell-c54f81953cd12bc5",
     "locked": true,
     "points": 1,
     "schema_version": 3,
     "solution": false,
     "task": false
    }
   },
   "outputs": [],
   "source": [
    "(set -e\n",
    "[[ $WORK_DIR == $(pwd) ]] || (echo \"Not in $WORK_DIR\" && false)\n",
    "[[ -f lib.o ]] || (echo \"The file 'lib.o' does not exist.\" && false)\n",
    "[[ -f main.o ]] || (echo \"The file 'main.o' does not exist.\" && false)\n",
    ")"
   ]
  },
  {
   "cell_type": "markdown",
   "id": "6d8b9be7-307d-46ac-9ff4-2d0604addc6b",
   "metadata": {
    "deletable": false,
    "editable": false,
    "nbgrader": {
     "cell_type": "markdown",
     "checksum": "beda6e69b3364dd8be10c4b0b6feff2c",
     "grade": false,
     "grade_id": "cell-0d25268b6ac5e473",
     "locked": true,
     "schema_version": 3,
     "solution": false,
     "task": false
    }
   },
   "source": [
    "### Aufgabe 2: Kommandozeilenargumente\n",
    "\n",
    "Schreiben Sie ein C-Programm, welches beliebig viele Ganzzahlen als Argumente aufnimmt, addiert, und ausgibt. Sie können davon aus gehen, dass alle Argumente Ganzzahlen sind. Falls keine Argumente angegeben werden, soll das Programm nur `No numbers` ausgeben. Als Rückgabewert soll immer `0` zurückgegeben werden. Dazu muss die `main` Funktion einen `int` als Rückgabetyp haben und `return 0;` verwendet werden. Die C Source Datei soll `sum.c` heißen und im Verzeichnis `WORK_DIR` liegen. Sie können die Datei in der Zelle unten erstellen oder eine Datei im Verzeichnis `SHEET_DIR` erstellen und dann ins Verzeichnis `WORK_DIR` kopieren. Die Executable soll im Verzeichnis `WORK_DIR` liegen und `sum` heißen.\n",
    "\n",
    "**Tipp:** Zum Konvertieren zwischen `char *` und `int` kann `atoi` aus `stdlib.h` verwendet werden."
   ]
  },
  {
   "cell_type": "code",
   "execution_count": null,
   "id": "80dc2815-e755-4997-82cb-6696a3862006",
   "metadata": {
    "deletable": false,
    "nbgrader": {
     "cell_type": "code",
     "checksum": "487023a59a476427511fc2a2fdd94d5c",
     "grade": false,
     "grade_id": "cell-3b659c1bfcce448b",
     "locked": false,
     "schema_version": 3,
     "solution": true,
     "task": false
    }
   },
   "outputs": [],
   "source": [
    "# ### Aufgabe 2: Kommandozeilenargumente\n",
    "\n",
    "# Schreiben Sie ein C-Programm, welches beliebig viele Ganzzahlen als Argumente aufnimmt, addiert, und ausgibt. Sie können davon aus gehen, dass alle Argumente Ganzzahlen sind. Falls keine Argumente angegeben werden, soll das Programm nur `No numbers` ausgeben. Als Rückgabewert soll immer `0` zurückgegeben werden. Dazu muss die `main` Funktion einen `int` als Rückgabetyp haben und `return 0;` verwendet werden. Die C Source Datei soll `sum.c` heißen und im Verzeichnis `WORK_DIR` liegen. Sie können die Datei in der Zelle unten erstellen oder eine Datei im Verzeichnis `SHEET_DIR` erstellen und dann ins Verzeichnis `WORK_DIR` kopieren. Die Executable soll im Verzeichnis `WORK_DIR` liegen und `sum` heißen.\n",
    "\n",
    "# **Tipp:** Zum Konvertieren zwischen `char *` und `int` kann `atoi` aus `stdlib.h` verwendet werden.\n",
    "\n",
    "cat << 'EOF' > sum.c\n",
    "#include <stdio.h>\n",
    "#include <stdlib.h>\n",
    "\n",
    "int main(int argc, char *argv[]) {\n",
    "    if (argc == 1) {\n",
    "        // Only the program name is given\n",
    "        // Remember: argv[0] is the program name\n",
    "        printf(\"No numbers\\n\");\n",
    "        return 0;\n",
    "    }\n",
    "    int sum = 0;\n",
    "    for (int i = 1; i < argc; i++) {\n",
    "        sum += atoi(argv[i]);\n",
    "    }\n",
    "    printf(\"%d\", sum);\n",
    "    return 0;\n",
    "}\n",
    "EOF\n",
    "\n",
    "gcc -o sum sum.c"
   ]
  },
  {
   "cell_type": "code",
   "execution_count": null,
   "id": "63ca8320-1210-4a0c-a2b0-1021f7d828ba",
   "metadata": {
    "deletable": false,
    "editable": false,
    "nbgrader": {
     "cell_type": "code",
     "checksum": "9ff3d30b6a124fcbaa5a36d7b015bbc9",
     "grade": true,
     "grade_id": "cell-189723bcaddc7ccf",
     "locked": true,
     "points": 1,
     "schema_version": 3,
     "solution": false,
     "task": false
    }
   },
   "outputs": [],
   "source": [
    "(set -e\n",
    "[[ $WORK_DIR == $(pwd) ]] || (echo \"Not in $WORK_DIR\" && false)\n",
    "[[ -f sum.c ]] || (echo \"The file 'sum.c' does not exist.\" && false)\n",
    "[[ -x sum ]] || (echo \"The file 'sum' does not exist or is not executable.\" && false)\n",
    ")"
   ]
  },
  {
   "cell_type": "code",
   "execution_count": null,
   "id": "0dca40b1-9c77-4df3-9609-b30b500c1bcc",
   "metadata": {
    "deletable": false,
    "editable": false,
    "nbgrader": {
     "cell_type": "code",
     "checksum": "96c7a7d37f1f0b524a76edcee4a1b9fa",
     "grade": true,
     "grade_id": "cell-8bf301d9d98669de",
     "locked": true,
     "points": 2,
     "schema_version": 3,
     "solution": false,
     "task": false
    }
   },
   "outputs": [],
   "source": [
    "(set -e\n",
    "[[ $WORK_DIR == $(pwd) ]] || (echo \"Not in $WORK_DIR\" && false)\n",
    "[[ -x sum ]] || (echo \"The file 'sum' does not exist or is not executable.\" && false)\n",
    "[[ $(./sum) == \"No numbers\" ]] || (echo \"The program 'sum' returns the wrong output.\" && false)\n",
    ")"
   ]
  },
  {
   "cell_type": "code",
   "execution_count": null,
   "id": "c27e360a-46ee-4cf5-bd25-8e6c13e8c8e3",
   "metadata": {
    "deletable": false,
    "editable": false,
    "nbgrader": {
     "cell_type": "code",
     "checksum": "97778073fb1f81fdc3dfd481f70c4d87",
     "grade": true,
     "grade_id": "cell-af3140559a7e82fa",
     "locked": true,
     "points": 2,
     "schema_version": 3,
     "solution": false,
     "task": false
    }
   },
   "outputs": [],
   "source": [
    "(set -e\n",
    "[[ $WORK_DIR == $(pwd) ]] || (echo \"Not in $WORK_DIR\" && false)\n",
    "[[ -x sum ]] || (echo \"The file 'sum' does not exist or is not executable.\" && false)\n",
    "[[ $(./sum 1 2) == \"3\" ]] || (echo \"The program 'sum' returns the wrong output.\" && false)\n",
    "[[ $(./sum 1 2 3) == \"6\" ]] || (echo \"The program 'sum' returns the wrong output.\" && false)\n",
    ")"
   ]
  },
  {
   "cell_type": "code",
   "execution_count": null,
   "id": "3f1fa946-ffff-4446-bf74-15170f045775",
   "metadata": {
    "deletable": false,
    "editable": false,
    "nbgrader": {
     "cell_type": "code",
     "checksum": "2dd46d9c8d0d6b0ef86bdb01448b2e10",
     "grade": true,
     "grade_id": "cell-ca2a7146b455b938",
     "locked": true,
     "points": 2,
     "schema_version": 3,
     "solution": false,
     "task": false
    }
   },
   "outputs": [],
   "source": [
    "# hidden test"
   ]
  },
  {
   "cell_type": "code",
   "execution_count": null,
   "id": "fd6690de-1ca0-4bbe-9157-6c782840271a",
   "metadata": {
    "deletable": false,
    "editable": false,
    "nbgrader": {
     "cell_type": "code",
     "checksum": "917846b88f36fac1f5bf20cca775eded",
     "grade": false,
     "grade_id": "cell-521c2ade638b5bf4",
     "locked": true,
     "schema_version": 3,
     "solution": false,
     "task": false
    }
   },
   "outputs": [],
   "source": [
    "rm -rf $WORK_DIR"
   ]
  }
 ],
 "metadata": {
  "kernelspec": {
   "display_name": "Bash",
   "language": "bash",
   "name": "bash"
  },
  "language_info": {
   "codemirror_mode": "shell",
   "file_extension": ".sh",
   "mimetype": "text/x-sh",
   "name": "bash"
  }
 },
 "nbformat": 4,
 "nbformat_minor": 5
}
