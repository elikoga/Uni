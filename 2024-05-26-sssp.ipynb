{
 "cells": [
  {
   "cell_type": "markdown",
   "metadata": {},
   "source": [
    "Before you turn this problem in, make sure everything runs as expected. First, **restart the kernel** (in the menubar, select Kernel$\\rightarrow$Restart) and then **run all cells** (in the menubar, select Cell$\\rightarrow$Run All).\n",
    "\n",
    "Make sure you fill in any place that says `YOUR CODE HERE` or \"YOUR ANSWER HERE\"."
   ]
  },
  {
   "cell_type": "markdown",
   "metadata": {},
   "source": [
    "---"
   ]
  },
  {
   "cell_type": "markdown",
   "metadata": {
    "deletable": false,
    "editable": false,
    "nbgrader": {
     "cell_type": "markdown",
     "checksum": "8ae2657512edf102f58156497b24aa65",
     "grade": false,
     "grade_id": "cell-e67a66a0cd78dfb5",
     "locked": true,
     "schema_version": 3,
     "solution": false
    }
   },
   "source": [
    "## Blatt 05\n",
    "\n",
    "- **Jede(r)** Studierende muss die Aufgaben einreichen.\n",
    "Wenn Sie die Aufgaben nicht selbst einreichen, erhalten Sie 0 Punkte für die Aufgabe.\n",
    "- Sie werden ermutigt, in Gruppen von bis zu vier Personen an den Lösungen zu arbeiten.\n",
    "    - Bei Einreichungen solcher Einreichungsgruppen speichern die Gruppen die imt-Logins aller Mitglieder in der Variable `AUTHORS`, z.B: `AUTHORS=\"first-imtlogin second-imtlogin\"`.\n",
    "    - Jedes Mitglied der Gruppen **muss das Assignment einreichen**.\n",
    "    - Verwenden Sie dazu die vorbereitete Zelle:\n",
    "\n",
    "**Anmerkung:** Löschen Sie *nicht* die Befehlshistorie (z.B. durch Ausführen von `history -c`) in *Ihrem* Code!"
   ]
  },
  {
   "cell_type": "code",
   "execution_count": null,
   "metadata": {},
   "outputs": [],
   "source": [
    "AUTHORS=\"\""
   ]
  },
  {
   "cell_type": "code",
   "execution_count": null,
   "metadata": {
    "deletable": false,
    "editable": false,
    "nbgrader": {
     "cell_type": "code",
     "checksum": "4cf9c9fe31a86ab7e406534b52c1e104",
     "grade": false,
     "grade_id": "cell-4cf0a905926b596f",
     "locked": true,
     "schema_version": 3,
     "solution": false
    }
   },
   "outputs": [],
   "source": [
    "[[ -d $SHEET_DIR ]] && cd $SHEET_DIR  # Ensure this cell can be executed repeatedly\n",
    "rm -rf $SHEET_DIR/workdir-*  # Delete old work directories\n",
    "SHEET_DIR=$(pwd)\n",
    "WORK_DIR=$(mktemp -d -p $SHEET_DIR workdir-XXXXX)  # Create work directory\n",
    "cd $WORK_DIR  # Change into work directory"
   ]
  },
  {
   "cell_type": "code",
   "execution_count": null,
   "metadata": {
    "deletable": false,
    "editable": false,
    "nbgrader": {
     "cell_type": "code",
     "checksum": "3f8c0c6f76085b0f7f5f75ab5598f34e",
     "grade": false,
     "grade_id": "cell-2c4f192eced482b3",
     "locked": true,
     "schema_version": 3,
     "solution": false
    }
   },
   "outputs": [],
   "source": [
    "# Restore lipsum.txt\n",
    "rm -f lipsum.txt\n",
    "echo \\\n",
    "\"Lorem ipsum dolor sit amet, consectetur adipiscing elit, sed do eiusmod tempor incididunt ut labore et dolore magna aliqua.\n",
    "Ut enim ad minim veniam, quis nostrud exercitation ullamco laboris nisi ut aliquip ex ea commodo consequat.\n",
    "Duis aute irure dolor in reprehenderit in voluptate velit esse cillum dolore eu fugiat nulla pariatur.\n",
    "Excepteur sint occaecat cupidatat non proident, sunt in culpa qui officia deserunt mollit anim id est laborum.\" \\\n",
    "> lipsum.txt\n",
    "chmod 444 lipsum.txt\n",
    "# Restore table.txt\n",
    "rm -f table.txt\n",
    "echo \\\n",
    "\"PersonA 1 1.1\n",
    " PersonB 2 2.7\n",
    " PersonC 3 0.4\n",
    " PersonD 4 9.3\n",
    " PersonE 5 2.9\" \\\n",
    "> table.txt\n",
    "chmod 444 table.txt\n",
    "# unset existing variables\n",
    "unset MEAN\n",
    "# clear solution data\n",
    "rm -f lipsum.stdout\n",
    "rm -f lipsum.stderr\n",
    "rm -f lipsum.tee\n",
    "rm -f tr.txt\n",
    "rm -f sort.txt\n",
    "# clear history\n",
    "history -c"
   ]
  },
  {
   "cell_type": "markdown",
   "metadata": {
    "deletable": false,
    "editable": false,
    "nbgrader": {
     "cell_type": "markdown",
     "checksum": "ac94da02058668735c84a961c8ea6701",
     "grade": false,
     "grade_id": "cell-eddb8aa289aedf87",
     "locked": true,
     "schema_version": 3,
     "solution": false
    }
   },
   "source": [
    "# Aufgabe 1\n",
    "\n",
    "Verwenden Sie `cat`, um die Datei `lipsum.txt` zu lesen und leiten Sie `stdout` in die Datei `lipsum.stdout` um."
   ]
  },
  {
   "cell_type": "code",
   "execution_count": null,
   "metadata": {
    "deletable": false,
    "nbgrader": {
     "cell_type": "code",
     "checksum": "cffed003be8f2eef1f512ba718944f08",
     "grade": false,
     "grade_id": "cell-2bde3185843654e5",
     "locked": false,
     "schema_version": 3,
     "solution": true
    }
   },
   "outputs": [],
   "source": [
    "cat lipsum.txt > lipsum.stdout"
   ]
  },
  {
   "cell_type": "code",
   "execution_count": null,
   "metadata": {
    "deletable": false,
    "editable": false,
    "nbgrader": {
     "cell_type": "code",
     "checksum": "df9d27a602d40b1a48991226a080ab57",
     "grade": true,
     "grade_id": "cell-8aa9e0b5337f563c",
     "locked": true,
     "points": 1,
     "schema_version": 3,
     "solution": false
    }
   },
   "outputs": [],
   "source": [
    "# hidden test"
   ]
  },
  {
   "cell_type": "code",
   "execution_count": null,
   "metadata": {
    "deletable": false,
    "editable": false,
    "nbgrader": {
     "cell_type": "code",
     "checksum": "db804c0e2cfeb2c6c17519789e34533a",
     "grade": true,
     "grade_id": "cell-cdd3367e9b32e235",
     "locked": true,
     "points": 1,
     "schema_version": 3,
     "solution": false
    }
   },
   "outputs": [],
   "source": [
    "(set -e\n",
    "# check whether the file lipsum.stdout exists\n",
    "[[ -f lipsum.stdout ]] || (echo \"the file lipsum.stdout does not exist\" && false)\n",
    ")"
   ]
  },
  {
   "cell_type": "markdown",
   "metadata": {
    "deletable": false,
    "editable": false,
    "nbgrader": {
     "cell_type": "markdown",
     "checksum": "4e8c0404909be5f079f8a408eaffc181",
     "grade": false,
     "grade_id": "cell-217330439fe57261",
     "locked": true,
     "schema_version": 3,
     "solution": false
    }
   },
   "source": [
    "# Aufgabe 2\n",
    "\n",
    "Füttern Sie `lipsum.txt` ins `stdin` des Programms `tee`.\n",
    "Sorgen Sie gleichzeitig dafür, dass:\n",
    "1. `stdout` in `stderr` umgeleitet wird,\n",
    "2. `stderr` in die Datei `lipsum.stderr` umgeleitet wird und dass\n",
    "3. `tee` in `lipsum.tee` schreibt."
   ]
  },
  {
   "cell_type": "code",
   "execution_count": null,
   "metadata": {
    "deletable": false,
    "nbgrader": {
     "cell_type": "code",
     "checksum": "756c95939e1ff68e705e5768ecce953f",
     "grade": false,
     "grade_id": "cell-5e58d19e907d433c",
     "locked": false,
     "schema_version": 3,
     "solution": true
    }
   },
   "outputs": [],
   "source": [
    "# # As\n",
    "\n",
    "cat lipsum.txt | tee lipsum.tee 1>&2 2> lipsum.stderr"
   ]
  },
  {
   "cell_type": "code",
   "execution_count": null,
   "metadata": {
    "deletable": false,
    "editable": false,
    "nbgrader": {
     "cell_type": "code",
     "checksum": "5de6e950b4a39591ecaaf79f34b48f5c",
     "grade": true,
     "grade_id": "cell-5295ab6512e96a2d",
     "locked": true,
     "points": 1,
     "schema_version": 3,
     "solution": false
    }
   },
   "outputs": [],
   "source": [
    "# hidden test"
   ]
  },
  {
   "cell_type": "code",
   "execution_count": null,
   "metadata": {
    "deletable": false,
    "editable": false,
    "nbgrader": {
     "cell_type": "code",
     "checksum": "30f564a55718c32eb8f98f218bea995a",
     "grade": true,
     "grade_id": "cell-cbe214b906a2810d",
     "locked": true,
     "points": 1,
     "schema_version": 3,
     "solution": false
    }
   },
   "outputs": [],
   "source": [
    "# hidden test"
   ]
  },
  {
   "cell_type": "code",
   "execution_count": null,
   "metadata": {
    "deletable": false,
    "editable": false,
    "nbgrader": {
     "cell_type": "code",
     "checksum": "b2a1655f7096c630793e30c9ab24738c",
     "grade": true,
     "grade_id": "cell-81cfa6ad3e85480d",
     "locked": true,
     "points": 1,
     "schema_version": 3,
     "solution": false
    }
   },
   "outputs": [],
   "source": [
    "# hidden test"
   ]
  },
  {
   "cell_type": "code",
   "execution_count": null,
   "metadata": {
    "deletable": false,
    "editable": false,
    "nbgrader": {
     "cell_type": "code",
     "checksum": "60ae577e56156b259065586edb92ece3",
     "grade": true,
     "grade_id": "cell-e263cbbfc97f984a",
     "locked": true,
     "points": 1,
     "schema_version": 3,
     "solution": false
    }
   },
   "outputs": [],
   "source": [
    "(set -e\n",
    "# check whether the file lipsum.tee exists\n",
    "[[ -f lipsum.tee ]] || (echo \"the file lipsum.tee does not exist\" && false)\n",
    ")"
   ]
  },
  {
   "cell_type": "code",
   "execution_count": null,
   "metadata": {
    "deletable": false,
    "editable": false,
    "nbgrader": {
     "cell_type": "code",
     "checksum": "599c609436c98a32a9f41eb678c68c60",
     "grade": true,
     "grade_id": "cell-ea19dfea8f2c9c8c",
     "locked": true,
     "points": 1,
     "schema_version": 3,
     "solution": false
    }
   },
   "outputs": [],
   "source": [
    "(set -e\n",
    "# check whether the file lipsum.stderr exists\n",
    "[[ -f lipsum.stderr ]] || (echo \"the file lipsum.stderr does not exist\" && false)\n",
    ")"
   ]
  },
  {
   "cell_type": "markdown",
   "metadata": {
    "deletable": false,
    "editable": false,
    "nbgrader": {
     "cell_type": "markdown",
     "checksum": "f49428ac3288f0fee2db4bdbcc14d50f",
     "grade": false,
     "grade_id": "cell-7297bfb8c9254889",
     "locked": true,
     "schema_version": 3,
     "solution": false
    }
   },
   "source": [
    "# Aufgabe 3\n",
    "\n",
    "Verwenden Sie `awk`, um den Mittelwert der dritten Spalte aller Einträge in `table.txt` zu berechnen und das Ergebnis in der Variablen `MEAN` zu speichern."
   ]
  },
  {
   "cell_type": "code",
   "execution_count": null,
   "metadata": {
    "deletable": false,
    "nbgrader": {
     "cell_type": "code",
     "checksum": "bfac36e2d79823a40144783745868c20",
     "grade": false,
     "grade_id": "cell-773d2131cc4d2f5b",
     "locked": false,
     "schema_version": 3,
     "solution": true
    }
   },
   "outputs": [],
   "source": [
    "# Restore lipsum.txt\n",
    "rm -f lipsum.txt\n",
    "echo \\\n",
    "\"Lorem ipsum dolor sit amet, consectetur adipiscing elit, sed do eiusmod tempor incididunt ut labore et dolore magna aliqua.\n",
    "Ut enim ad minim veniam, quis nostrud exercitation ullamco laboris nisi ut aliquip ex ea commodo consequat.\n",
    "Duis aute irure dolor in reprehenderit in voluptate velit esse cillum dolore eu fugiat nulla pariatur.\n",
    "Excepteur sint occaecat cupidatat non proident, sunt in culpa qui officia deserunt mollit anim id est laborum.\" \\\n",
    "> lipsum.txt\n",
    "chmod 444 lipsum.txt\n",
    "# Restore table.txt\n",
    "rm -f table.txt\n",
    "echo \\\n",
    "\"PersonA 1 1.1\n",
    " PersonB 2 2.7\n",
    " PersonC 3 0.4\n",
    " PersonD 4 9.3\n",
    " PersonE 5 2.9\" \\\n",
    "> table.txt\n",
    "chmod 444 table.txt\n",
    "# unset existing variables\n",
    "unset MEAN\n",
    "# clear solution data\n",
    "rm -f lipsum.stdout\n",
    "rm -f lipsum.stderr\n",
    "rm -f lipsum.tee\n",
    "rm -f tr.txt\n",
    "rm -f sort.txt\n",
    "# clear history\n",
    "history -c\n",
    "\n",
    "# Aufgabe 3\n",
    "\n",
    "# Verwenden Sie `awk`, um den Mittelwert der dritten Spalte aller Einträge in `table.txt` zu berechnen und das Ergebnis in der Variablen `MEAN` zu speichern.\n",
    "\n",
    "MEAN=$(awk '{sum+=$3} END {print sum/NR}' table.txt)\n"
   ]
  },
  {
   "cell_type": "code",
   "execution_count": null,
   "metadata": {
    "deletable": false,
    "editable": false,
    "nbgrader": {
     "cell_type": "code",
     "checksum": "3aef4edec25df05e9ac68475122a62a6",
     "grade": true,
     "grade_id": "cell-66276d28c14f5e2b",
     "locked": true,
     "points": 1,
     "schema_version": 3,
     "solution": false
    }
   },
   "outputs": [],
   "source": [
    "# hidden test"
   ]
  },
  {
   "cell_type": "code",
   "execution_count": null,
   "metadata": {
    "deletable": false,
    "editable": false,
    "nbgrader": {
     "cell_type": "code",
     "checksum": "f7b000754ab771705dcd5c3c6b9aa080",
     "grade": true,
     "grade_id": "cell-f318776f1cace1d0",
     "locked": true,
     "points": 1,
     "schema_version": 3,
     "solution": false
    }
   },
   "outputs": [],
   "source": [
    "(set -e\n",
    "# check whether the variable MEAN is set\n",
    "[[ ! -z \"$MEAN\" ]] || (echo \"the variable MEAN is not set\" && false)\n",
    ")"
   ]
  },
  {
   "cell_type": "markdown",
   "metadata": {
    "deletable": false,
    "editable": false,
    "nbgrader": {
     "cell_type": "markdown",
     "checksum": "17ae8cbba2ea79bd043f318d5afe6ca3",
     "grade": false,
     "grade_id": "cell-e0c670d51bab5838",
     "locked": true,
     "schema_version": 3,
     "solution": false
    }
   },
   "source": [
    "# Aufgabe 4\n",
    "\n",
    "Benutzen Sie `tr`, um alle Leerzeichen in `lipsum.txt` durch New-Line-Zeichen (`\\n`) zu ersetzen und das Ergebnis in der Datei `tr.txt` zu speichern."
   ]
  },
  {
   "cell_type": "code",
   "execution_count": null,
   "metadata": {
    "deletable": false,
    "nbgrader": {
     "cell_type": "code",
     "checksum": "5514c1e3fd648e26f32c005853bd8417",
     "grade": false,
     "grade_id": "cell-f5a377cc4ddeab3f",
     "locked": false,
     "schema_version": 3,
     "solution": true
    }
   },
   "outputs": [],
   "source": [
    "# Aufgabe 4\n",
    "\n",
    "# Benutzen Sie `tr`, um alle Leerzeichen in `lipsum.txt` durch New-Line-Zeichen (`\\n`) zu ersetzen und das Ergebnis in der Datei `tr.txt` zu speichern.\n",
    "\n",
    "tr ' ' '\\n' < lipsum.txt > tr.txt"
   ]
  },
  {
   "cell_type": "code",
   "execution_count": null,
   "metadata": {
    "deletable": false,
    "editable": false,
    "nbgrader": {
     "cell_type": "code",
     "checksum": "685a085f7c719eae6f3bf2b497d43b6e",
     "grade": true,
     "grade_id": "cell-0c9ed1a1bf48d99c",
     "locked": true,
     "points": 1,
     "schema_version": 3,
     "solution": false
    }
   },
   "outputs": [],
   "source": [
    "# hidden test"
   ]
  },
  {
   "cell_type": "code",
   "execution_count": null,
   "metadata": {
    "deletable": false,
    "editable": false,
    "nbgrader": {
     "cell_type": "code",
     "checksum": "f60e192581f0fdc020189e134690a186",
     "grade": true,
     "grade_id": "cell-62c5153e659990db",
     "locked": true,
     "points": 1,
     "schema_version": 3,
     "solution": false
    }
   },
   "outputs": [],
   "source": [
    "(set -e\n",
    "# check whether the file tr.txt exists\n",
    "[[ -f tr.txt ]] || (echo \"the file tr.txt does not exist\" && false)\n",
    ")"
   ]
  },
  {
   "cell_type": "markdown",
   "metadata": {
    "deletable": false,
    "editable": false,
    "nbgrader": {
     "cell_type": "markdown",
     "checksum": "603a89417a2ea77f00562dd98c8d9e78",
     "grade": false,
     "grade_id": "cell-da406b1cbb6fa9ff",
     "locked": true,
     "schema_version": 3,
     "solution": false
    }
   },
   "source": [
    "Lesen Sie nun `tr.txt` mit dem Programm `sort` und sortieren Sie den Inhalt der Datei in umgekehrter Reihenfolge.\n",
    "Speichern Sie die Ausgabe in `sort.txt`."
   ]
  },
  {
   "cell_type": "code",
   "execution_count": null,
   "metadata": {
    "deletable": false,
    "nbgrader": {
     "cell_type": "code",
     "checksum": "43df20801688bf9767f89803bffd41bb",
     "grade": false,
     "grade_id": "cell-27f591b8856d3efd",
     "locked": false,
     "schema_version": 3,
     "solution": true
    }
   },
   "outputs": [],
   "source": [
    "# Lesen Sie nun `tr.txt` mit dem Programm `sort` und sortieren Sie den Inhalt der Datei in umgekehrter Reihenfolge.\n",
    "# Speichern Sie die Ausgabe in `sort.txt`.\n",
    "\n",
    "sort -r tr.txt > sort.txt"
   ]
  },
  {
   "cell_type": "code",
   "execution_count": null,
   "metadata": {
    "deletable": false,
    "editable": false,
    "nbgrader": {
     "cell_type": "code",
     "checksum": "3cb52dc1b20ef0b8c7f284a8ded9f7ca",
     "grade": true,
     "grade_id": "cell-ac4967444dce88dc",
     "locked": true,
     "points": 1,
     "schema_version": 3,
     "solution": false
    }
   },
   "outputs": [],
   "source": [
    "# hidden test"
   ]
  },
  {
   "cell_type": "code",
   "execution_count": null,
   "metadata": {
    "deletable": false,
    "editable": false,
    "nbgrader": {
     "cell_type": "code",
     "checksum": "66709d3833954f90cd256faf1ca8df5d",
     "grade": true,
     "grade_id": "cell-00b833192620a8ad",
     "locked": true,
     "points": 1,
     "schema_version": 3,
     "solution": false
    }
   },
   "outputs": [],
   "source": [
    "(set -e\n",
    "# check whether the file sort.txt exists\n",
    "[[ -f sort.txt ]] || (echo \"the file sort.txt does not exist\" && false)\n",
    ")"
   ]
  },
  {
   "cell_type": "code",
   "execution_count": null,
   "metadata": {
    "deletable": false,
    "editable": false,
    "nbgrader": {
     "cell_type": "code",
     "checksum": "d27360e1781673e3730d5f40ea1b756c",
     "grade": false,
     "grade_id": "cell-eab1732ba5fb3014",
     "locked": true,
     "schema_version": 3,
     "solution": false
    }
   },
   "outputs": [],
   "source": [
    "rm -rf $WORK_DIR"
   ]
  }
 ],
 "metadata": {
  "kernelspec": {
   "display_name": "venv",
   "language": "python",
   "name": "python3"
  },
  "language_info": {
   "codemirror_mode": "shell",
   "file_extension": ".sh",
   "mimetype": "text/x-sh",
   "name": "python",
   "version": "3.11.5"
  }
 },
 "nbformat": 4,
 "nbformat_minor": 4
}
