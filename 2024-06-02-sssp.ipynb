{
 "cells": [
  {
   "cell_type": "markdown",
   "metadata": {},
   "source": [
    "Before you turn this problem in, make sure everything runs as expected. First, **restart the kernel** (in the menubar, select Kernel$\\rightarrow$Restart) and then **run all cells** (in the menubar, select Cell$\\rightarrow$Run All).\n",
    "\n",
    "Make sure you fill in any place that says `YOUR CODE HERE` or \"YOUR ANSWER HERE\"."
   ]
  },
  {
   "cell_type": "markdown",
   "metadata": {},
   "source": [
    "---"
   ]
  },
  {
   "cell_type": "markdown",
   "metadata": {
    "deletable": false,
    "editable": false,
    "nbgrader": {
     "cell_type": "markdown",
     "checksum": "376e6c3921e52a5fc1aa9f08763ad219",
     "grade": false,
     "grade_id": "cell-aa86343de49969e4",
     "locked": true,
     "schema_version": 3,
     "solution": false
    }
   },
   "source": [
    "## Blatt 06\n",
    "\n",
    "- **Jede(r)** Studierende muss die Aufgaben einreichen.\n",
    "Wenn Sie die Aufgaben nicht selbst einreichen, erhalten Sie 0 Punkte für die Aufgabe.\n",
    "- Sie werden ermutigt, in Gruppen von bis zu vier Personen an den Lösungen zu arbeiten.\n",
    "    - Bei Einreichungen solcher Einreichungsgruppen speichern die Gruppen die imt-Logins aller Mitglieder in der Variable `AUTHORS`, z.B: `AUTHORS=\"first-imtlogin second-imtlogin\"`.\n",
    "    - Jedes Mitglied der Gruppen **muss das Assignment einreichen**.\n",
    "    - Verwenden Sie dazu die vorbereitete Zelle:\n",
    "\n",
    "**Anmerkung:** Löschen Sie *nicht* die Befehlshistorie (z.B. durch Ausführen von `history -c`) in *Ihrem* Code!"
   ]
  },
  {
   "cell_type": "code",
   "execution_count": null,
   "metadata": {},
   "outputs": [],
   "source": [
    "AUTHORS=\"\""
   ]
  },
  {
   "cell_type": "code",
   "execution_count": null,
   "metadata": {
    "deletable": false,
    "editable": false,
    "nbgrader": {
     "cell_type": "code",
     "checksum": "1f40054c4afbd23584c46cb88f44a573",
     "grade": false,
     "grade_id": "cell-43179a6ecd4c23cd",
     "locked": true,
     "schema_version": 3,
     "solution": false
    }
   },
   "outputs": [],
   "source": [
    "[[ -d $SHEET_DIR ]] && cd $SHEET_DIR  # Ensure this cell can be executed repeatedly\n",
    "rm -rf $SHEET_DIR/workdir-*  # Delete old work directories\n",
    "SHEET_DIR=$(pwd)\n",
    "WORK_DIR=$(mktemp -d -p $SHEET_DIR workdir-XXXXX)  # Create work directory\n",
    "cd $WORK_DIR  # Change into work directory"
   ]
  },
  {
   "cell_type": "markdown",
   "metadata": {
    "deletable": false,
    "editable": false,
    "nbgrader": {
     "cell_type": "markdown",
     "checksum": "b0682ea1500d7bcbd18f1e7e2e2e226d",
     "grade": false,
     "grade_id": "cell-b8fa54c05003fb32",
     "locked": true,
     "schema_version": 3,
     "solution": false
    }
   },
   "source": [
    "### Aufgabe 1\n",
    "\n",
    "Speichern Sie einen modifizierten `PATH` in `PATH_MOD`, der nicht `/usr/bin` enthält.\n",
    "\n",
    "Hinweis: Sie können `paste -sd ':' -` benutzen, um mehrere Zeilen mit Doppelpunkten zu verbinden."
   ]
  },
  {
   "cell_type": "code",
   "execution_count": null,
   "metadata": {
    "deletable": false,
    "nbgrader": {
     "cell_type": "code",
     "checksum": "9e71baa408db09ff1f4c06576224b54a",
     "grade": false,
     "grade_id": "cell-6d943562dd4de3a6",
     "locked": false,
     "schema_version": 3,
     "solution": true
    }
   },
   "outputs": [],
   "source": [
    "# ### Aufgabe 1\n",
    "\n",
    "# Speichern Sie einen modifizierten `PATH` in `PATH_MOD`, der nicht `/usr/bin` enthält.\n",
    "\n",
    "# Hinweis: Sie können `paste -sd ':' -` benutzen, um mehrere Zeilen mit Doppelpunkten zu verbinden.\n",
    "\n",
    "PATH_MOD=$(echo $PATH | tr ':' '\\n' | grep -v '/usr/bin' | paste -sd ':' -)"
   ]
  },
  {
   "cell_type": "code",
   "execution_count": null,
   "metadata": {
    "deletable": false,
    "editable": false,
    "nbgrader": {
     "cell_type": "code",
     "checksum": "44adfad31945330449b8916a395389ba",
     "grade": true,
     "grade_id": "cell-ab6b97997eba3625",
     "locked": true,
     "points": 3,
     "schema_version": 3,
     "solution": false
    }
   },
   "outputs": [],
   "source": [
    "(set -e\n",
    "[[ -n $PATH_MOD ]] || (echo \"PATH_MOD is not set.\" && false)\n",
    "[[ -z $(echo $PATH_MOD | grep '/usr/bin') ]] || (echo \"/usr/bin contained in PATH_MOD\" && false)\n",
    ")"
   ]
  },
  {
   "cell_type": "markdown",
   "metadata": {
    "deletable": false,
    "editable": false,
    "nbgrader": {
     "cell_type": "markdown",
     "checksum": "c182dd229a9559d138fd7b4fdabaf84d",
     "grade": false,
     "grade_id": "cell-0d7810623f3ab4a6",
     "locked": true,
     "schema_version": 3,
     "solution": false
    }
   },
   "source": [
    "### Aufgabe 2\n",
    "\n",
    "Basierend auf der Datei `$SHEET_DIR/results.csv`, lösen Sie die folgenden Teilaufgaben:\n",
    "- Füllen Sie die Variable `STUDENTS` mit einer Liste aller Student-IDs (pro Zeile eine ID).\n",
    "- Füllen Sie die Variable `LECTURERS` mit einer Liste aller Lecturer-IDs (pro Zeile eine ID).\n",
    "- Erstellen Sie die Datei `results_sorted.csv`, die alle Zeilen der ursprünglichen `results.csv` enthält, aber so geordnet ist, dass sie (nach der Kopfzeile) alle Students vor den Lecturers auflistet und beide Gruppen jeweils nach ihren IDs ordnet.\n",
    "\n",
    "*Anmerkung:* Die Datei muss innerhalb von `$WORK_DIR` erstellt werden und Sie sollten sich am am Ende Ihrer Lösung auch im `$WORK_DIR` befinden."
   ]
  },
  {
   "cell_type": "code",
   "execution_count": null,
   "metadata": {
    "deletable": false,
    "nbgrader": {
     "cell_type": "code",
     "checksum": "ba1da5d3a170677e9fec57d8e75f4814",
     "grade": false,
     "grade_id": "cell-077f17772731406f",
     "locked": false,
     "schema_version": 3,
     "solution": true
    }
   },
   "outputs": [],
   "source": [
    "# ### Aufgabe 2\n",
    "\n",
    "# Basierend auf der Datei `$SHEET_DIR/results.csv`, lösen Sie die folgenden Teilaufgaben:\n",
    "# - Füllen Sie die Variable `STUDENTS` mit einer Liste aller Student-IDs (pro Zeile eine ID).\n",
    "# - Füllen Sie die Variable `LECTURERS` mit einer Liste aller Lecturer-IDs (pro Zeile eine ID).\n",
    "# - Erstellen Sie die Datei `results_sorted.csv`, die alle Zeilen der ursprünglichen `results.csv` enthält, aber so geordnet ist, dass sie (nach der Kopfzeile) alle Students vor den Lecturers auflistet und beide Gruppen jeweils nach ihren IDs ordnet.\n",
    "\n",
    "# *Anmerkung:* Die Datei muss innerhalb von `$WORK_DIR` erstellt werden und Sie sollten sich am am Ende Ihrer Lösung auch im `$WORK_DIR` befinden.\n",
    "\n",
    "# $SHEET_DIR/results.csv looks like this:\n",
    "# id,points,role\n",
    "# 1742549,9,student\n",
    "# 3689717,8,student\n",
    "# 6691429,4,student\n",
    "# 9268259,7,student\n",
    "# ...\n",
    "\n",
    "STUDENTS=$(grep 'student' $SHEET_DIR/results.csv | cut -d, -f1)\n",
    "LECTURERS=$(grep 'lecturer' $SHEET_DIR/results.csv | cut -d, -f1)\n",
    "echo \"id,points,role\" > results_sorted.csv\n",
    "grep 'student' $SHEET_DIR/results.csv | sort -t, -k1 >> results_sorted.csv\n",
    "grep 'lecturer' $SHEET_DIR/results.csv | sort -t, -k1 >> results_sorted.csv"
   ]
  },
  {
   "cell_type": "code",
   "execution_count": null,
   "metadata": {
    "deletable": false,
    "editable": false,
    "nbgrader": {
     "cell_type": "code",
     "checksum": "2c45cad84c300ca18d5b3ee6da6da459",
     "grade": true,
     "grade_id": "cell-9eb316a2f5adfaf3",
     "locked": true,
     "points": 1,
     "schema_version": 3,
     "solution": false
    }
   },
   "outputs": [],
   "source": [
    "(set -e\n",
    "[[ $WORK_DIR == $(pwd) ]] || (echo \"Not in $WORK_DIR\" && false)\n",
    "[[ -n $STUDENTS ]] || (echo \"STUDENTS not set\" && false)\n",
    "TEST_STUDENTS=\"6634134 4150885 1741056\"\n",
    "for student in $TEST_STUDENTS; do\n",
    "    [[ -n $(echo $STUDENTS | grep $student) ]] || (echo \"$student not contained in STUDENTS\" && false)\n",
    "done\n",
    ")"
   ]
  },
  {
   "cell_type": "code",
   "execution_count": null,
   "metadata": {
    "deletable": false,
    "editable": false,
    "nbgrader": {
     "cell_type": "code",
     "checksum": "d6c3f416db79b3e8582d55ce31d0e7a3",
     "grade": true,
     "grade_id": "cell-9eb316a2f5adfaf4",
     "locked": true,
     "points": 1,
     "schema_version": 3,
     "solution": false
    }
   },
   "outputs": [],
   "source": [
    "(set -e\n",
    "[[ $WORK_DIR == $(pwd) ]] || (echo \"Not in $WORK_DIR\" && false)\n",
    "[[ -n $LECTURERS ]] || (echo \"LECTURERS not set\" && false)\n",
    "TEST_LECTURERS=\"9783511 8645634 9095242\"\n",
    "for lecturer in $TEST_LECTURERS; do\n",
    "    [[ -n $(echo $LECTURERS | grep $lecturer) ]] || (echo \"$lecturer not contained in LECTURERS\" && false)\n",
    "done\n",
    ")"
   ]
  },
  {
   "cell_type": "code",
   "execution_count": null,
   "metadata": {
    "deletable": false,
    "editable": false,
    "nbgrader": {
     "cell_type": "code",
     "checksum": "0af4f9a51b04f45a1fde24cfd6ef2cf0",
     "grade": true,
     "grade_id": "cell-9eb316a2f5adfaf2",
     "locked": true,
     "points": 2,
     "schema_version": 3,
     "solution": false
    }
   },
   "outputs": [],
   "source": [
    "(set -e\n",
    "[[ $WORK_DIR == $(pwd) ]] || (echo \"Not in $WORK_DIR\" && false)\n",
    "[[ -f results_sorted.csv ]] || (echo \"'results_sorted.csv' does not exist.\" && false)\n",
    "(grep lecturer results_sorted.csv | sort -c) || (echo \"Lecturers are not sorted.\" && false)\n",
    "(grep student results_sorted.csv | sort -c) || (echo \"Students are not sorted.\" && false)\n",
    ")"
   ]
  },
  {
   "cell_type": "markdown",
   "metadata": {
    "deletable": false,
    "editable": false,
    "nbgrader": {
     "cell_type": "markdown",
     "checksum": "621812a38086003cca1c3bd2263ec8c5",
     "grade": false,
     "grade_id": "cell-e92097e1664b738a",
     "locked": true,
     "schema_version": 3,
     "solution": false
    }
   },
   "source": [
    "### Aufgabe 3\n",
    "\n",
    "Führen Sie im Hintergrund einen Befehl aus, der nach drei Sekunden die Datei `foobar` erzeugt."
   ]
  },
  {
   "cell_type": "code",
   "execution_count": null,
   "metadata": {
    "deletable": false,
    "nbgrader": {
     "cell_type": "code",
     "checksum": "e6e5592e79bfdce8b1e3dfe8b1775610",
     "grade": false,
     "grade_id": "cell-e01e63efe6cd86d6",
     "locked": false,
     "schema_version": 3,
     "solution": true
    }
   },
   "outputs": [],
   "source": [
    "rm -f foobar\n",
    "#### Aufgabe 3\n",
    "\n",
    "# Führen Sie im Hintergrund einen Befehl aus, der nach drei Sekunden die Datei `foobar` erzeugt.\n",
    "\n",
    "sleep 3 && touch foobar &"
   ]
  },
  {
   "cell_type": "code",
   "execution_count": null,
   "metadata": {
    "deletable": false,
    "editable": false,
    "nbgrader": {
     "cell_type": "code",
     "checksum": "3efbe5f1a8f5c7b744823f6e6f26c16c",
     "grade": true,
     "grade_id": "cell-5bee2984d990041a",
     "locked": true,
     "points": 3,
     "schema_version": 3,
     "solution": false
    }
   },
   "outputs": [],
   "source": [
    "(set -e\n",
    "[[ ! -e foobar ]] || (echo \"foobar already exists.\" && false)\n",
    "sleep 3\n",
    "[[ -e foobar ]] || (echo \"foobar was not created.\" && false)\n",
    ")"
   ]
  },
  {
   "cell_type": "code",
   "execution_count": null,
   "metadata": {
    "deletable": false,
    "editable": false,
    "nbgrader": {
     "cell_type": "code",
     "checksum": "7d4a679dd8d3c013cac4867694ac6dd6",
     "grade": false,
     "grade_id": "cell-2dd89ca5031801f5",
     "locked": true,
     "schema_version": 3,
     "solution": false
    }
   },
   "outputs": [],
   "source": [
    "rm -rf $WORK_DIR"
   ]
  }
 ],
 "metadata": {
  "kernelspec": {
   "display_name": "Bash",
   "language": "bash",
   "name": "bash"
  },
  "language_info": {
   "codemirror_mode": "shell",
   "file_extension": ".sh",
   "mimetype": "text/x-sh",
   "name": "bash"
  }
 },
 "nbformat": 4,
 "nbformat_minor": 4
}
