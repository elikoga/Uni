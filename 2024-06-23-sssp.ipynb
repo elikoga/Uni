{
 "cells": [
  {
   "cell_type": "markdown",
   "metadata": {},
   "source": [
    "Before you turn this problem in, make sure everything runs as expected. First, **restart the kernel** (in the menubar, select Kernel$\\rightarrow$Restart) and then **run all cells** (in the menubar, select Cell$\\rightarrow$Run All).\n",
    "\n",
    "Make sure you fill in any place that says `YOUR CODE HERE` or \"YOUR ANSWER HERE\"."
   ]
  },
  {
   "cell_type": "markdown",
   "metadata": {},
   "source": [
    "---"
   ]
  },
  {
   "cell_type": "markdown",
   "metadata": {
    "deletable": false,
    "editable": false,
    "nbgrader": {
     "cell_type": "markdown",
     "checksum": "94cc2de124644a1b00ae11466f9a33d3",
     "grade": false,
     "grade_id": "cell-84c8a4ccd43451ae",
     "locked": true,
     "schema_version": 3,
     "solution": false
    }
   },
   "source": [
    "## Blatt 09\n",
    "\n",
    "- **Jede(r)** Studierende muss die Aufgaben einreichen.\n",
    "Wenn Sie die Aufgaben nicht selbst einreichen, erhalten Sie 0 Punkte für die Aufgabe.\n",
    "- Sie werden ermutigt, in Gruppen von bis zu vier Personen an den Lösungen zu arbeiten.\n",
    "    - Bei Einreichungen solcher Einreichungsgruppen speichern die Gruppen die imt-Logins aller Mitglieder in der Variable `AUTHORS`, z.B: `AUTHORS=\"first-imtlogin second-imtlogin\"`.\n",
    "    - Jedes Mitglied der Gruppen **muss das Assignment einreichen**.\n",
    "    - Verwenden Sie dazu die vorbereitete Zelle:\n",
    "\n",
    "**Anmerkung:** Löschen Sie *nicht* die Befehlshistorie (z.B. durch Ausführen von `history -c`) in *Ihrem* Code!"
   ]
  },
  {
   "cell_type": "code",
   "execution_count": null,
   "metadata": {},
   "outputs": [],
   "source": [
    "AUTHORS=\"\""
   ]
  },
  {
   "cell_type": "code",
   "execution_count": null,
   "metadata": {
    "deletable": false,
    "editable": false,
    "nbgrader": {
     "cell_type": "code",
     "checksum": "8ea7ed7895220524d6928a86347c9a29",
     "grade": false,
     "grade_id": "cell-27302f0ae22d46e5",
     "locked": true,
     "schema_version": 3,
     "solution": false
    }
   },
   "outputs": [],
   "source": [
    "[[ -d $SHEET_DIR ]] && cd $SHEET_DIR  # Ensure this cell can be executed repeatedly\n",
    "rm -rf $SHEET_DIR/workdir-*  # Delete old work directories\n",
    "SHEET_DIR=$(pwd)\n",
    "WORK_DIR=$(mktemp -d -p $SHEET_DIR workdir-XXXXX)  # Create work directory\n",
    "cd $WORK_DIR  # Change into work directory"
   ]
  },
  {
   "cell_type": "markdown",
   "metadata": {
    "deletable": false,
    "editable": false,
    "nbgrader": {
     "cell_type": "markdown",
     "checksum": "7de54b7d386867111135ae638549ad4a",
     "grade": false,
     "grade_id": "cell-518b9607046595f2",
     "locked": true,
     "schema_version": 3,
     "solution": false
    }
   },
   "source": [
    "## Aufgabe 1 - Buffers and Traps\n",
    "\n",
    "Erstellen Sie ein Skript namens `buffer.sh` im Verzeichnis `$WORK_DIR` (das Arbeitsverzeichnis, das am Anfang dieses Notebooks definiert wurde).\n",
    "Stellen Sie sicher, dass das Skript ausführbar ist.\n",
    "Sie können es in eine Datei im `$SHEET_DIR` schreiben und von dort ins `$WORK_DIR` kopieren, es mit einem Heredoc erstellen, oder wie auch immer Sie wollen.\n",
    "Sie müssen nur sicherstellen, dass das Skript im `$WORK_DIR` vorhanden, korrekt benannt und ausführbar ist.\n",
    "\n",
    "Das Skript soll folgenden Anforderungen genügen:\n",
    "\n",
    "- Lies (zeilenweise) Text aus der Standardeingabe `stdin` und speichere diesen in einer Art Buffer. Verwenden sie dabei auf **keinen Fall den Befehl mkfifo und named pipes(FIFO)**, sondern nutzen sie einen anderen Weg um Buffer zu schreiben.\n",
    "\n",
    "- Leere den Puffer, wenn das Skript ein `USR1`-Signal (`SIGUSR1`) empfängt, d.h. (in dieser Reihenfolge):\n",
    "    1. Printe die Zeile `flushing buffer` in der Standardfehlerausgabe `stderr`.\n",
    "    2. Printe den gesamten Inhalt des Puffers in die Standardausgabe `stdout`.\n",
    "    3. Lösche den Inhalt des Puffers.\n",
    "    \n",
    "- Wenn das Skript beendet wird (s. **[1]**), soll es sich wie folgt verhalten (in dieser Reihenfolge):\n",
    "    1. Printe die Zeile `script shutting down` in der Standardfehlerausgabe `stderr`.\n",
    "    2. Leere den Puffer ein letztes Mal (siehe obige Definition von \"Leere den Puffer...\").\n",
    "    3. Bereinige jeden persistenten Zustand, der durch das Skript erzeugt wurde, z.B. erzeugte Dateien (falls zutreffend).\n",
    "    \n",
    "- Behandele folgende Randfälle korrekt:\n",
    "    - leere Eingabe\n",
    "    - große Mengen an Input zwischen den Puffer-Leerungen\n",
    "    - gleichzeitige Ausführung (mehrere Instanzen des Skripts laufen gleichzeitig)\n",
    "    \n",
    "**[1]** Beenden des Skripts kann passieren, wenn:\n",
    "- die Standardeingabe `stdin` geschlossen wird (es gibt nichts mehr zu lesen).\n",
    "- das Skript mit den Signalen `INT` oder `TERM` zum Beenden aufgefordert wird (die Behandlung von `KILL` ist unmöglich *by design*).\n",
    "\n",
    "Bitte beachten Sie die ausführlichen Tests in den folgenden Zellen, mit denen die Funktionalität des Skriptes vollständig geprüft werden kann!"
   ]
  },
  {
   "cell_type": "code",
   "execution_count": null,
   "metadata": {
    "deletable": false,
    "nbgrader": {
     "cell_type": "code",
     "checksum": "5250b0d75271af55360065669095ebac",
     "grade": false,
     "grade_id": "cell-7956ce70b86ed171",
     "locked": false,
     "schema_version": 3,
     "solution": true
    }
   },
   "outputs": [],
   "source": [
    "# ## Aufgabe 1 - Buffers and Traps\n",
    "\n",
    "# Erstellen Sie ein Skript namens `buffer.sh` im Verzeichnis `$WORK_DIR` (das Arbeitsverzeichnis, das am Anfang dieses Notebooks definiert wurde).\n",
    "# Stellen Sie sicher, dass das Skript ausführbar ist.\n",
    "# Sie können es in eine Datei im `$SHEET_DIR` schreiben und von dort ins `$WORK_DIR` kopieren, es mit einem Heredoc erstellen, oder wie auch immer Sie wollen.\n",
    "# Sie müssen nur sicherstellen, dass das Skript im `$WORK_DIR` vorhanden, korrekt benannt und ausführbar ist.\n",
    "\n",
    "# Das Skript soll folgenden Anforderungen genügen:\n",
    "\n",
    "# - Lies (zeilenweise) Text aus der Standardeingabe `stdin` und speichere diesen in einer Art Buffer. Verwenden sie dabei auf **keinen Fall den Befehl mkfifo und named pipes(FIFO)**, sondern nutzen sie einen anderen Weg um Buffer zu schreiben.\n",
    "\n",
    "# - Leere den Puffer, wenn das Skript ein `USR1`-Signal (`SIGUSR1`) empfängt, d.h. (in dieser Reihenfolge):\n",
    "#     1. Printe die Zeile `flushing buffer` in der Standardfehlerausgabe `stderr`.\n",
    "#     2. Printe den gesamten Inhalt des Puffers in die Standardausgabe `stdout`.\n",
    "#     3. Lösche den Inhalt des Puffers.\n",
    "    \n",
    "# - Wenn das Skript beendet wird (s. **[1]**), soll es sich wie folgt verhalten (in dieser Reihenfolge):\n",
    "#     1. Printe die Zeile `script shutting down` in der Standardfehlerausgabe `stderr`.\n",
    "#     2. Leere den Puffer ein letztes Mal (siehe obige Definition von \"Leere den Puffer...\").\n",
    "#     3. Bereinige jeden persistenten Zustand, der durch das Skript erzeugt wurde, z.B. erzeugte Dateien (falls zutreffend).\n",
    "    \n",
    "# - Behandele folgende Randfälle korrekt:\n",
    "#     - leere Eingabe\n",
    "#     - große Mengen an Input zwischen den Puffer-Leerungen\n",
    "#     - gleichzeitige Ausführung (mehrere Instanzen des Skripts laufen gleichzeitig)\n",
    "    \n",
    "# **[1]** Beenden des Skripts kann passieren, wenn:\n",
    "# - die Standardeingabe `stdin` geschlossen wird (es gibt nichts mehr zu lesen).\n",
    "# - das Skript mit den Signalen `INT` oder `TERM` zum Beenden aufgefordert wird (die Behandlung von `KILL` ist unmöglich *by design*).\n",
    "\n",
    "# Bitte beachten Sie die ausführlichen Tests in den folgenden Zellen, mit denen die Funktionalität des Skriptes vollständig geprüft werden kann!\n",
    "\n",
    "cat > buffer.sh <<'EOF'\n",
    "#!/bin/bash\n",
    "\n",
    "# Buffer to store input\n",
    "BUFFER=\"\"\n",
    "\n",
    "# Function to flush buffer\n",
    "flush_buffer() {\n",
    "    echo \"flushing buffer\" >&2\n",
    "    echo -n \"$BUFFER\"\n",
    "    BUFFER=\"\"\n",
    "}\n",
    "\n",
    "# Function to clean up\n",
    "cleanup() {\n",
    "    echo \"script shutting down\" >&2\n",
    "    flush_buffer\n",
    "    # Clean up any persistent state\n",
    "}\n",
    "\n",
    "# Register cleanup function\n",
    "trap cleanup EXIT\n",
    "\n",
    "# Register flush_buffer function for SIGUSR1\n",
    "trap flush_buffer USR1\n",
    "\n",
    "# Read from stdin\n",
    "while read -r line; do\n",
    "    BUFFER+=\"$line\"$'\\n'\n",
    "done\n",
    "EOF\n",
    "\n",
    "chmod +x buffer.sh"
   ]
  },
  {
   "cell_type": "code",
   "execution_count": null,
   "metadata": {
    "deletable": false,
    "editable": false,
    "nbgrader": {
     "cell_type": "code",
     "checksum": "9f5e4e4ad5ddfea9bbf71bedaa869072",
     "grade": true,
     "grade_id": "cell-bf5591f3b46ba33d",
     "locked": true,
     "points": 1,
     "schema_version": 3,
     "solution": false
    }
   },
   "outputs": [],
   "source": [
    "(set -e\n",
    "cd $WORK_DIR\n",
    "# check the scripts existence\n",
    "[[ -e \"buffer.sh\" ]] || (echo \"script not found\" && false)\n",
    "[[ -x \"buffer.sh\" ]] || (echo \"script not executable\" && false)\n",
    ")"
   ]
  },
  {
   "cell_type": "code",
   "execution_count": null,
   "metadata": {
    "deletable": false,
    "editable": false,
    "nbgrader": {
     "cell_type": "code",
     "checksum": "83fe1c99a7bcd62e3bc08faffebf1d57",
     "grade": true,
     "grade_id": "cell-0b33657206a09d9b",
     "locked": true,
     "points": 2,
     "schema_version": 3,
     "solution": false
    }
   },
   "outputs": [],
   "source": [
    "(set -e\n",
    "cd $WORK_DIR\n",
    "# run the script in the foreground (without any signal interaction)\n",
    "[[ $(echo  \"ad-hoc run the script\" | ./buffer.sh 2> /dev/null) == \"ad-hoc run the script\" ]] || (echo \"ad-hoc output is incorrect\" && false)\n",
    ")"
   ]
  },
  {
   "cell_type": "code",
   "execution_count": null,
   "metadata": {
    "deletable": false,
    "editable": false,
    "nbgrader": {
     "cell_type": "code",
     "checksum": "036a1a977ce64fc60091d498d6df4113",
     "grade": true,
     "grade_id": "cell-563552fc947975dc",
     "locked": true,
     "points": 1,
     "schema_version": 3,
     "solution": false
    }
   },
   "outputs": [],
   "source": [
    "(set -e\n",
    "cd $WORK_DIR\n",
    "# check stderr messages\n",
    "[[ $(echo \"ad-hoc run the script\" | ./buffer.sh 2>&1 >/dev/null | grep 'script shutting down') ]] || (echo \"shutdown message missing\" && false)\n",
    "[[ $(echo \"ad-hoc run the script\" | ./buffer.sh 2>&1 >/dev/null | grep 'flushing buffer' | wc -l) -eq 1 ]] || (echo \"flushing message missing or printed too often\" && false)\n",
    ")"
   ]
  },
  {
   "cell_type": "code",
   "execution_count": null,
   "metadata": {
    "deletable": false,
    "editable": false,
    "nbgrader": {
     "cell_type": "code",
     "checksum": "48c0f07041603aefe454938c9710547f",
     "grade": true,
     "grade_id": "cell-7d27445d9166ce93",
     "locked": true,
     "points": 3,
     "schema_version": 3,
     "solution": false
    }
   },
   "outputs": [],
   "source": [
    "(set -e\n",
    "cd $WORK_DIR\n",
    "# test multi-flush scenarios\n",
    "# setup instrumentation\n",
    "[[ -e \"input.txt\" ]] && rm \"input.txt\"; touch \"input.txt\"\n",
    "[[ -e \"output.txt\" ]] && rm \"output.txt\"; touch \"output.txt\"\n",
    "[[ -e \"error.txt\" ]] && rm \"error.txt\"; touch \"error.txt\"\n",
    "# start the script (in the background)\n",
    "tail -f input.txt | ./buffer.sh  > output.txt 2>error.txt &\n",
    "# check that the output is empty in the beginning\n",
    "sleep 2.1; sync\n",
    "[[ $(cat output.txt) == \"\" ]] || (echo \"output is not empty in the beginning\" && false)\n",
    "# write some content\n",
    "echo \"some text\" >> input.txt\n",
    "sleep 2.1; sync\n",
    "[[ $(cat output.txt) == \"\" ]] || (echo \"output is not empty before flushing\" && false)\n",
    "# signal flush\n",
    "pkill -SIGUSR1 buffer.sh\n",
    "sleep 2.1; sync\n",
    "[[ $(grep \"some text\" output.txt) ]] || (echo \"output is not correct after flushing\" && false)\n",
    "# write some more content\n",
    "echo \"more text\" >> input.txt\n",
    "sleep 2.1; sync\n",
    "[[ -z $(grep \"more text\" output.txt) ]] || (echo \"output is not correct before shutdown\" && false)\n",
    "# shutdown the script\n",
    "pkill buffer.sh\n",
    "sleep 2.1; sync\n",
    "[[ $(grep \"more text\" output.txt) ]] || (echo \"output is not correct after shutdown\" && false)\n",
    ")"
   ]
  },
  {
   "cell_type": "code",
   "execution_count": null,
   "metadata": {
    "deletable": false,
    "editable": false,
    "nbgrader": {
     "cell_type": "code",
     "checksum": "dff595c93a6988ceb67840c1201bcd19",
     "grade": true,
     "grade_id": "cell-ef048bfbf9e0a44c",
     "locked": true,
     "points": 3,
     "schema_version": 3,
     "solution": false
    }
   },
   "outputs": [],
   "source": [
    "(set -e\n",
    "cd $WORK_DIR\n",
    ")"
   ]
  },
  {
   "cell_type": "code",
   "execution_count": null,
   "metadata": {
    "deletable": false,
    "editable": false,
    "nbgrader": {
     "cell_type": "code",
     "checksum": "8043312895f777d1d823f56dd9b50a46",
     "grade": false,
     "grade_id": "cell-399439d16f4f81b7",
     "locked": true,
     "schema_version": 3,
     "solution": false
    }
   },
   "outputs": [],
   "source": [
    "# cleanup\n",
    "# stop any leftover jobs (should not be necessary on a correct implementation)\n",
    "jobs -p | xargs -I {} kill {}\n",
    "sleep 2\n",
    "# kill any leftover jobs to make sure\n",
    "jobs -p | xargs -I {} kill -s SIGKILL {}\n",
    "rm -rf $WORK_DIR"
   ]
  }
 ],
 "metadata": {
  "kernelspec": {
   "display_name": "Bash",
   "language": "bash",
   "name": "bash"
  },
  "language_info": {
   "codemirror_mode": "shell",
   "file_extension": ".sh",
   "mimetype": "text/x-sh",
   "name": "bash"
  }
 },
 "nbformat": 4,
 "nbformat_minor": 4
}
