{
 "cells": [
  {
   "cell_type": "markdown",
   "metadata": {},
   "source": [
    "Before you turn this problem in, make sure everything runs as expected. First, **restart the kernel** (in the menubar, select Kernel$\\rightarrow$Restart) and then **run all cells** (in the menubar, select Cell$\\rightarrow$Run All).\n",
    "\n",
    "Make sure you fill in any place that says `YOUR CODE HERE` or \"YOUR ANSWER HERE\"."
   ]
  },
  {
   "cell_type": "markdown",
   "metadata": {},
   "source": [
    "---"
   ]
  },
  {
   "cell_type": "markdown",
   "metadata": {
    "deletable": false,
    "editable": false,
    "nbgrader": {
     "cell_type": "markdown",
     "checksum": "3abffb4426332869a3ce8cad98b420fb",
     "grade": false,
     "grade_id": "cell-aa86343de49969e4",
     "locked": true,
     "schema_version": 3,
     "solution": false
    }
   },
   "source": [
    "## Blatt 08\n",
    "\n",
    "- **Jede(r)** Studierende muss die Aufgaben einreichen.\n",
    "Wenn Sie die Aufgaben nicht selbst einreichen, erhalten Sie 0 Punkte für die Aufgabe.\n",
    "- Sie werden ermutigt, in Gruppen von bis zu vier Personen an den Lösungen zu arbeiten.\n",
    "    - Bei Einreichungen solcher Einreichungsgruppen speichern die Gruppen die imt-Logins aller Mitglieder in der Variable `AUTHORS`, z.B: `AUTHORS=\"first-imtlogin second-imtlogin\"`.\n",
    "    - Jedes Mitglied der Gruppen **muss das Assignment einreichen**.\n",
    "    - Verwenden Sie dazu die vorbereitete Zelle:\n",
    "\n",
    "**Anmerkung:** Löschen Sie *nicht* die Befehlshistorie (z.B. durch Ausführen von `history -c`) in *Ihrem* Code!"
   ]
  },
  {
   "cell_type": "code",
   "execution_count": null,
   "metadata": {},
   "outputs": [],
   "source": [
    "AUTHORS=\"\""
   ]
  },
  {
   "cell_type": "code",
   "execution_count": null,
   "metadata": {
    "deletable": false,
    "editable": false,
    "nbgrader": {
     "cell_type": "code",
     "checksum": "2ca251b0dd0c4a1023e22aca2b0b5ab1",
     "grade": false,
     "grade_id": "cell-43179a6ecd4c23cd",
     "locked": true,
     "schema_version": 3,
     "solution": false
    }
   },
   "outputs": [],
   "source": [
    "[[ -d $SHEET_DIR ]] && cd $SHEET_DIR  # Ensure this cell can be executed repeatedly\n",
    "rm -rf $SHEET_DIR/workdir-* /tmp/workdir-* # Delete old work directories\n",
    "SHEET_DIR=$(pwd)\n",
    "WORK_DIR=$(mktemp -d -p /tmp/ workdir-XXXXX)  # Create work directory\n",
    "cd $WORK_DIR  # Change into work directory"
   ]
  },
  {
   "cell_type": "markdown",
   "metadata": {
    "deletable": false,
    "editable": false,
    "nbgrader": {
     "cell_type": "markdown",
     "checksum": "7451a57a27908630fe51085028375154",
     "grade": false,
     "grade_id": "cell-2ec701bda94fd093",
     "locked": true,
     "schema_version": 3,
     "solution": false
    }
   },
   "source": [
    "### Aufgabe 1\n",
    "\n",
    "Erstellen Sie eine Funktion `servelines`.\n",
    "\n",
    "Diese Funktion sollte zwei Befehlszeilenargumente annehmen, z.B. `servelines /tmp/my-file.txt 5555`:\n",
    "\n",
    "1. den Pfad einer bereitzustellenden Datei (als `$1`) und\n",
    "2. die Port-Nummer des Ports, auf dem der Inhalt dieser Datei ausgegeben wird (als `$2`)\n",
    "\n",
    "Die Funktion soll dann den Inhalt dieser Datei über TCP dem ersten Programm, das sich mit ihr verbindet, zur Verfügung stellen.\n",
    "Die Funktion soll nichts Wichtiges im Hintergrund laufen lassen und nach dem einmaligen Streaming des Dateiinhalts abbrechen.\n",
    "Achten Sie darauf, keine Funktion im Hintergrund laufen zu lassen, die einen bestimmten Port blockieren könnte.\n",
    "\n",
    "Sie können davon ausgehen, dass unsere Tests gültige Befehlszeilenargumente an die Funktion übergeben werden."
   ]
  },
  {
   "cell_type": "code",
   "execution_count": null,
   "metadata": {
    "deletable": false,
    "nbgrader": {
     "cell_type": "code",
     "checksum": "f8a968e5c5f0d70f367ff224f1c1fa68",
     "grade": false,
     "grade_id": "cell-9ce3c3578871b0a8",
     "locked": false,
     "schema_version": 3,
     "solution": true
    }
   },
   "outputs": [],
   "source": [
    "# ### Aufgabe 1\n",
    "\n",
    "# Erstellen Sie eine Funktion `servelines`.\n",
    "\n",
    "# Diese Funktion sollte zwei Befehlszeilenargumente annehmen, z.B. `servelines /tmp/my-file.txt 5555`:\n",
    "\n",
    "# 1. den Pfad einer bereitzustellenden Datei (als `$1`) und\n",
    "# 2. die Port-Nummer des Ports, auf dem der Inhalt dieser Datei ausgegeben wird (als `$2`)\n",
    "\n",
    "# Die Funktion soll dann den Inhalt dieser Datei über TCP dem ersten Programm, das sich mit ihr verbindet, zur Verfügung stellen.\n",
    "# Die Funktion soll nichts Wichtiges im Hintergrund laufen lassen und nach dem einmaligen Streaming des Dateiinhalts abbrechen.\n",
    "# Achten Sie darauf, keine Funktion im Hintergrund laufen zu lassen, die einen bestimmten Port blockieren könnte.\n",
    "\n",
    "# Sie können davon ausgehen, dass unsere Tests gültige Befehlszeilenargumente an die Funktion übergeben werden.\n",
    "\n",
    "servelines() {\n",
    "    cat $1 | nc -l -p $2\n",
    "}"
   ]
  },
  {
   "cell_type": "code",
   "execution_count": null,
   "metadata": {
    "deletable": false,
    "editable": false,
    "nbgrader": {
     "cell_type": "code",
     "checksum": "c5c692edfeb943978d0b3aa89a703a73",
     "grade": true,
     "grade_id": "cell-edd0586f1b942c81",
     "locked": true,
     "points": 2,
     "schema_version": 3,
     "solution": false
    }
   },
   "outputs": [],
   "source": [
    "(set -e\n",
    "cd $WORK_DIR\n",
    "# check if the function exists\n",
    "$(type servelines >/dev/null) || (echo \"The function 'servelines' is not defined correctly\"; false)\n",
    "# create some test file\n",
    "echo -e \"one\\ntwo\\nthree\" > $WORK_DIR/testfile.txt\n",
    "# run the servelines function (in the background)\n",
    "servelines $WORK_DIR/testfile.txt 6666 &\n",
    "sleep 2.1\n",
    "# read the contents (note: when printing this variable, line breaks are with spaces)\n",
    "RESULT=$(nc -d 127.0.0.1 6666)\n",
    "# compare the read results\n",
    "[[ \"$RESULT\" == $(cat $WORK_DIR/testfile.txt) ]] || (echo \"received results should be 'one two three' but are '$RESULT'\" && false)\n",
    ")"
   ]
  },
  {
   "cell_type": "code",
   "execution_count": null,
   "metadata": {
    "deletable": false,
    "editable": false,
    "nbgrader": {
     "cell_type": "code",
     "checksum": "487906af2b0fba4bd4407bc79586ede4",
     "grade": true,
     "grade_id": "cell-5f234a6a612026fd",
     "locked": true,
     "points": 1,
     "schema_version": 3,
     "solution": false
    }
   },
   "outputs": [],
   "source": [
    "(set -e\n",
    "cd $WORK_DIR\n",
    "# hidden test\n",
    ")"
   ]
  },
  {
   "cell_type": "markdown",
   "metadata": {
    "deletable": false,
    "editable": false,
    "nbgrader": {
     "cell_type": "markdown",
     "checksum": "5c570d845069bb6e710bddf932a6baba",
     "grade": false,
     "grade_id": "cell-6e5e74ed86a43256",
     "locked": true,
     "schema_version": 3,
     "solution": false
    }
   },
   "source": [
    "### Aufgabe 2\n",
    "\n",
    "Schreiben Sie eine Funktion `extract_hosts`, die Hostnamen aus URLs extrahiert, die über die Standardeingabe eingegeben werden.\n",
    "Die Funktion soll die in den URLs enthaltenen Hostnamen auf der Standardausgabe ausgeben (pro Zeile ein Hostname).\n",
    "Dabei soll die Reihenfolge der Standardeingabe erhalten bleiben.\n",
    "\n",
    "Beispiel: `echo \"http://localhost/file.txt\" | extract_hosts` soll als einzelne Zeile `localhost` ausgeben.\n",
    "\n",
    "Folgendes können Sie annehmen:\n",
    "\n",
    "- es wird genau eine URL pro Zeile geben und es kann eine beliebige Anzahl von Zeilen geben\n",
    "- alle URLs beginnen mit `http://`\n",
    "- Hostnamen bestehen aus alphanumerischen Zeichen, Punkten und Strichen, d.h. sie entsprechen dem Muster `[a-zA-Z0-9.-]+`.\n",
    "- Nach dem Host kann eine Portnummer (getrennt durch einen Doppelpunkt, `:`) vor dem darauffolgenden Pfad stehen.\n",
    "- alle URLs enden mit einem Pfad zu einer Datei, beginnend mit `/` (nach dem Hostnamen oder Port)\n",
    "- es wird nichts zwischen dem `http://`-Protokollteil und dem Hostnamen stehen (z.B. keine Benutzernamen)"
   ]
  },
  {
   "cell_type": "code",
   "execution_count": null,
   "metadata": {
    "deletable": false,
    "nbgrader": {
     "cell_type": "code",
     "checksum": "2603f0c7a7794ba41173ef5c770f06a1",
     "grade": false,
     "grade_id": "cell-d7d670b476bf83ff",
     "locked": false,
     "schema_version": 3,
     "solution": true
    }
   },
   "outputs": [],
   "source": [
    "# ### Aufgabe 2\n",
    "\n",
    "# Schreiben Sie eine Funktion `extract_hosts`, die Hostnamen aus URLs extrahiert, die über die Standardeingabe eingegeben werden.\n",
    "# Die Funktion soll die in den URLs enthaltenen Hostnamen auf der Standardausgabe ausgeben (pro Zeile ein Hostname).\n",
    "# Dabei soll die Reihenfolge der Standardeingabe erhalten bleiben.\n",
    "\n",
    "# Beispiel: `echo \"http://localhost/file.txt\" | extract_hosts` soll als einzelne Zeile `localhost` ausgeben.\n",
    "\n",
    "# Folgendes können Sie annehmen:\n",
    "\n",
    "# - es wird genau eine URL pro Zeile geben und es kann eine beliebige Anzahl von Zeilen geben\n",
    "# - alle URLs beginnen mit `http://`\n",
    "# - Hostnamen bestehen aus alphanumerischen Zeichen, Punkten und Strichen, d.h. sie entsprechen dem Muster `[a-zA-Z0-9.-]+`.\n",
    "# - Nach dem Host kann eine Portnummer (getrennt durch einen Doppelpunkt, `:`) vor dem darauffolgenden Pfad stehen.\n",
    "# - alle URLs enden mit einem Pfad zu einer Datei, beginnend mit `/` (nach dem Hostnamen oder Port)\n",
    "# - es wird nichts zwischen dem `http://`-Protokollteil und dem Hostnamen stehen (z.B. keine Benutzernamen)\n",
    "\n",
    "extract_hosts() {\n",
    "    sed -n 's|http://\\([a-zA-Z0-9.-]*\\).*|\\1|p'\n",
    "}"
   ]
  },
  {
   "cell_type": "code",
   "execution_count": null,
   "metadata": {
    "deletable": false,
    "editable": false,
    "nbgrader": {
     "cell_type": "code",
     "checksum": "e38da816c7de8656430ec94f23e95428",
     "grade": true,
     "grade_id": "cell-afb0674b5fd766a6",
     "locked": true,
     "points": 1,
     "schema_version": 3,
     "solution": false
    }
   },
   "outputs": [],
   "source": [
    "(set -e\n",
    "# check if the function exists\n",
    "$(type extract_hosts >/dev/null) || (echo \"The function 'extract_hosts' is not defined correctly\"; false)\n",
    "# test some cases\n",
    "HOST1=$(echo \"http://localhost:5000/path/to/file.txt\" | extract_hosts)\n",
    "[[ \"$HOST1\" == \"localhost\" ]] || (echo \"hostname should be 'localhost' but is '$HOST1'\" && false)\n",
    "HOST2=$(echo \"http://localhost/file.txt\" | extract_hosts)\n",
    "[[ \"$HOST2\" == \"localhost\" ]] || (echo \"hostname should be 'localhost' but is '$HOST2'\" && false)\n",
    "HOST3=$(echo \"http://www.ccs-labs.org/theses/ccs-thesis.zip\" | extract_hosts)\n",
    "[[ \"$HOST3\" == \"www.ccs-labs.org\" ]] || (echo \"hostname should be 'www.ccs-labs.org' but is '$HOST3'\" && false)\n",
    ")"
   ]
  },
  {
   "cell_type": "code",
   "execution_count": null,
   "metadata": {
    "deletable": false,
    "editable": false,
    "nbgrader": {
     "cell_type": "code",
     "checksum": "d56a201e5ccc1d538b31541c6ae1e745",
     "grade": true,
     "grade_id": "cell-41a2cfb541bec2ba",
     "locked": true,
     "points": 1,
     "schema_version": 3,
     "solution": false
    }
   },
   "outputs": [],
   "source": [
    "(set -e\n",
    "# hidden test\n",
    ")"
   ]
  },
  {
   "cell_type": "markdown",
   "metadata": {
    "deletable": false,
    "editable": false,
    "nbgrader": {
     "cell_type": "markdown",
     "checksum": "6ac6964cdf2a3aae06480edf8063af77",
     "grade": false,
     "grade_id": "cell-1d7bcf0a940c99db",
     "locked": true,
     "schema_version": 3,
     "solution": false
    }
   },
   "source": [
    "### Aufgabe 3\n",
    "\n",
    "Schreiben Sie eine Funktion `download`, die per Standardeingabe als URL übergebene Dateien mithilfe von HTTP in ein Verzeichnis herunterlädt, das durch ein Kommandozeilenargument angegeben wird.\n",
    "\n",
    "Beispiel: `echo \"http://localhost/path/to/file.txt\" | download /tmp/mydirectory` soll die Datei `file.txt` herunterladen und in `/tmp/mydirectory` speichern.\n",
    "\n",
    "Die Download-URLs werden bei der Standardeingabe als einzelne Zeilen angegeben.\n",
    "Sie können für die `download`-Funktion davon ausgehen, dass alle URLs gültig sind.\n",
    "Heruntergeladene Dateien sollten den Namen behalten, den sie in der URL hatten.\n",
    "Der Rest des Pfades in der URL sollte jedoch für die Benennung der Datei ignoriert werden (siehe obiges Beispiel)."
   ]
  },
  {
   "cell_type": "code",
   "execution_count": null,
   "metadata": {
    "deletable": false,
    "nbgrader": {
     "cell_type": "code",
     "checksum": "30e459a6ba632482b5dc30b237279c4b",
     "grade": false,
     "grade_id": "cell-c6c82bdf7676f669",
     "locked": false,
     "schema_version": 3,
     "solution": true
    }
   },
   "outputs": [],
   "source": [
    "# ### Aufgabe 3\n",
    "\n",
    "# Schreiben Sie eine Funktion `download`, die per Standardeingabe als URL übergebene Dateien mithilfe von HTTP in ein Verzeichnis herunterlädt, das durch ein Kommandozeilenargument angegeben wird.\n",
    "\n",
    "# Beispiel: `echo \"http://localhost/path/to/file.txt\" | download /tmp/mydirectory` soll die Datei `file.txt` herunterladen und in `/tmp/mydirectory` speichern.\n",
    "\n",
    "# Die Download-URLs werden bei der Standardeingabe als einzelne Zeilen angegeben.\n",
    "# Sie können für die `download`-Funktion davon ausgehen, dass alle URLs gültig sind.\n",
    "# Heruntergeladene Dateien sollten den Namen behalten, den sie in der URL hatten.\n",
    "# Der Rest des Pfades in der URL sollte jedoch für die Benennung der Datei ignoriert werden (siehe obiges Beispiel).\n",
    "\n",
    "download() {\n",
    "    while read url; do\n",
    "        filename=$(basename $url)\n",
    "        curl -s $url -o $1/$filename\n",
    "    done\n",
    "}"
   ]
  },
  {
   "cell_type": "code",
   "execution_count": null,
   "metadata": {
    "deletable": false,
    "editable": false,
    "nbgrader": {
     "cell_type": "code",
     "checksum": "3bab581ad45917c9f63cbd95c6318358",
     "grade": true,
     "grade_id": "cell-166da9f6a6e42989",
     "locked": true,
     "points": 2,
     "schema_version": 3,
     "solution": false
    }
   },
   "outputs": [],
   "source": [
    "(set -e\n",
    "# check if the function exists\n",
    "$(type download >/dev/null) || (echo \"The function 'download' is not defined correctly\"; false)\n",
    "# create some files to download\n",
    "SRCDIR=$(mktemp -d -p $WORK_DIR)\n",
    "TGTDIR=$(mktemp -d -p $WORK_DIR)\n",
    "mkdir -p $SRCDIR $TGTDIR\n",
    "echo \"blah blah\" > $SRCDIR/blah.txt\n",
    "cat <<CODE > $SRCDIR/script.sh\n",
    "#!/bin/bash\n",
    "echo \"hello world\"\n",
    "CODE\n",
    "cp /etc/fstab $SRCDIR/fstab\n",
    "# start a webserver in the source directory\n",
    "sleep 2.1\n",
    "cd $SRCDIR\n",
    "python3 -m http.server 10080 &\n",
    "sleep 4.2\n",
    "# test single file case\n",
    "echo \"http://localhost:10080/blah.txt\" | download $TGTDIR\n",
    "[[ -f $TGTDIR/blah.txt ]] || (echo \"file blah.txt was not downloaded correctly\" && false)\n",
    "# test multi-file case\n",
    "echo -e \"http://localhost:10080/script.sh\\nhttp://localhost:10080/fstab\" | download $TGTDIR\n",
    "[[ -f $TGTDIR/script.sh ]] || (echo \"file script.sh was not downloaded correctly\" && false)\n",
    "[[ -f $TGTDIR/fstab ]] || (echo \"file fstab was not downloaded correctly\" && false)\n",
    "# hidden test\n",
    "# clean up\n",
    "sleep 2.1\n",
    "rm -rf $SRCDIR $TGTDIR\n",
    "pkill -f \"http.server 10080\"\n",
    ")"
   ]
  },
  {
   "cell_type": "code",
   "execution_count": null,
   "metadata": {
    "deletable": false,
    "editable": false,
    "nbgrader": {
     "cell_type": "code",
     "checksum": "40f8cdadb9c3f46c1152335a0abe42ad",
     "grade": false,
     "grade_id": "cell-8ceba1bd12666269",
     "locked": true,
     "schema_version": 3,
     "solution": false
    }
   },
   "outputs": [],
   "source": [
    "rm -rf $WORK_DIR"
   ]
  }
 ],
 "metadata": {
  "kernelspec": {
   "display_name": "Bash",
   "language": "bash",
   "name": "bash"
  },
  "language_info": {
   "codemirror_mode": "shell",
   "file_extension": ".sh",
   "mimetype": "text/x-sh",
   "name": "bash"
  }
 },
 "nbformat": 4,
 "nbformat_minor": 4
}
