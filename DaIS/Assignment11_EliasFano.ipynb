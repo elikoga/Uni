{
 "cells": [
  {
   "cell_type": "markdown",
   "metadata": {},
   "source": [
    "Before you turn this problem in, make sure everything runs as expected. First, **restart the kernel** (in the menubar, select Kernel$\\rightarrow$Restart) and then **run all cells** (in the menubar, select Cell$\\rightarrow$Run All).\n",
    "\n",
    "Make sure you fill in any place that says `YOUR CODE HERE` or \"YOUR ANSWER HERE\", as well as your name and collaborators below:"
   ]
  },
  {
   "cell_type": "code",
   "execution_count": 1,
   "metadata": {},
   "outputs": [],
   "source": [
    "NAME = \"\"\n",
    "IMMATRICULATION_NUMBER = \"\""
   ]
  },
  {
   "cell_type": "markdown",
   "metadata": {},
   "source": [
    "---"
   ]
  },
  {
   "cell_type": "markdown",
   "metadata": {
    "deletable": false,
    "editable": false,
    "nbgrader": {
     "cell_type": "markdown",
     "checksum": "01433a60a663215901c4ef1de963dab6",
     "grade": false,
     "grade_id": "cell-f07d5ce86958bd08",
     "locked": true,
     "schema_version": 3,
     "solution": false,
     "task": false
    }
   },
   "source": [
    "## Exercise 11: Elias-Fano encoding.\n",
    "\n",
    "Goal of this exercise is to implement the Elias-Fano encoding."
   ]
  },
  {
   "cell_type": "markdown",
   "metadata": {
    "deletable": false,
    "editable": false,
    "nbgrader": {
     "cell_type": "markdown",
     "checksum": "fedf00baee7fd6956004a9b2249469cb",
     "grade": false,
     "grade_id": "cell-3c88561fbe743388",
     "locked": true,
     "schema_version": 3,
     "solution": false,
     "task": false
    }
   },
   "source": [
    "## 1. Encode a sorted list of non-decreasing integers\n",
    "\n",
    "Implement a function `elias_fano` that can be called by\n",
    "```\n",
    "(upper, lower) = elias_fano(intList)\n",
    "```\n",
    "\n",
    "that receives a sorted list of non-decreasing integers (`intList`) and computes the Elias-Fano encoding for this list and returns them as a tuple of lists `(upper, lower)`. The list `upper` contains the sizes of the buckets as unary code and the list `lower` contains the lower parts of the binary codes. You can assume a fixed size of `w=9` (`w` is the total number of bits for each binary code) and `l=5` (`l` is the number of bits used for the lower part of each binary code).\n",
    "\n",
    "**Hint:** With the code `format(int(i),'0'+str(w)+'b')` you can compute the binary representation (as a formatted string) of integer i having w \"bits\"."
   ]
  },
  {
   "cell_type": "code",
   "execution_count": 10,
   "metadata": {
    "deletable": false,
    "nbgrader": {
     "cell_type": "code",
     "checksum": "51dba2e19778cd3c3453212ae727f517",
     "grade": false,
     "grade_id": "cell-380f3552eae03867",
     "locked": false,
     "schema_version": 3,
     "solution": true,
     "task": false
    }
   },
   "outputs": [
    {
     "name": "stdout",
     "output_type": "stream",
     "text": [
      "('11010111010', '01001011111011001000011010111000001')\n",
      "('0101110101010101110', '1111101000111011111001011111110000111011100011100111011')\n"
     ]
    }
   ],
   "source": [
    "w=9\n",
    "l=5\n",
    "\n",
    "def elias_fano(intList):\n",
    "    global w,l\n",
    "    upper_width = w-l\n",
    "    upper = \"\"\n",
    "    upper_n = 0\n",
    "    lower = \"\"\n",
    "    for i in intList:\n",
    "        # for each occurence of an upper-bit-sequence, add a 1 to the upper-bit-sequence\n",
    "        # once we change, we nee to add a 0\n",
    "        bits = format(i, f\"0{w}b\")\n",
    "        lower += bits[-l:]\n",
    "        upper_bits = bits[:-l]\n",
    "        upper_n_now = int(upper_bits, 2)\n",
    "        # compare upper_bits with upper_n\n",
    "        if upper_n != upper_n_now:\n",
    "            # add as many 1s as the difference between upper_n and upper_bits\n",
    "            upper += \"0\" * (upper_n_now - upper_n)\n",
    "            upper_n = upper_n_now\n",
    "        upper += \"1\"\n",
    "    upper += \"0\"\n",
    "    # print(f\"{upper=}, {lower=}\")\n",
    "    return upper, lower\n",
    "            \n",
    "    \n",
    "print(elias_fano([9,15,54,72,77,78,97]))\n",
    "\n",
    "myList = [63, 72, 93, 94, 107, 159, 161, 219, 241, 249, 251]\n",
    "print(elias_fano(myList))"
   ]
  },
  {
   "cell_type": "code",
   "execution_count": 11,
   "metadata": {
    "deletable": false,
    "editable": false,
    "nbgrader": {
     "cell_type": "code",
     "checksum": "cb8a400350d3d42191901a468e291b3a",
     "grade": true,
     "grade_id": "cell-6e92c04c356f65bb",
     "locked": true,
     "points": 1,
     "schema_version": 3,
     "solution": false,
     "task": false
    }
   },
   "outputs": [],
   "source": [
    "import base64, random\n",
    "\n",
    "def decode(upper, lower):\n",
    "    global w,l\n",
    "    ret = []\n",
    "    myCode = b'YnVjLGkgPSAwLDAKZm9yIGIgaW4gdXBwZXI6CiAgICBpZihiPT0nMCcpOiBidWMgKz0gMQogICAgZWxzZTogCiAgICAgICAgcmV0LmFwcGVuZChpbnQoZm9ybWF0KGludChidWMpLCcwJytzdHIody1sKSsnYicpK2xvd2VyW2wqaTpsKmkrbF0sMikpCiAgICAgICAgaSArPSAx';eval(compile(base64.b64decode(myCode).decode('ascii'),'<string>','exec'))\n",
    "    return ret\n",
    "\n",
    "myList = [1,1,1,1]\n",
    "(upper, lower) = elias_fano(myList)\n",
    "assert (upper, lower)==('11110','00001000010000100001'), \"Failed for %s\" % myList \n",
    "\n",
    "myList = [256]\n",
    "(upper, lower) = elias_fano(myList)\n",
    "assert (upper, lower)==('0000000010','00000'), \"Failed for %s\" % myList \n",
    "\n",
    "myList = [1,1,1,1,256]\n",
    "(upper, lower) = elias_fano(myList)\n",
    "assert (upper, lower)==('11110000000010','0000100001000010000100000'), \"Failed for %s\" % myList \n",
    "\n",
    "myList = [1,4,9,16,25,36,49,64,81,100,256,511]\n",
    "(upper, lower) = elias_fano(myList)\n",
    "assert (upper, lower)==('1111101101101000001000000010','000010010001001100001100100100100010000010001001000000011111'), \"Failed for %s\" % myList \n",
    "\n",
    "def createRandomSortedList(n): \n",
    "    feed = [i for i in range(1, 256)]*10\n",
    "    ret = random.sample(feed, n)\n",
    "    ret.sort()\n",
    "    return ret\n",
    "\n",
    "def testEliasFano(myList):\n",
    "    (upper, lower) = elias_fano(myList)\n",
    "    \n",
    "    assert myList==decode(upper, lower), \"test failed for input list %s ( %s , %s)\" % (myList, upper, lower)\n",
    "\n",
    "def testAndCreateEliasFano(n):\n",
    "    myList = createRandomSortedList(n)\n",
    "    testEliasFano(myList)\n",
    "\n",
    "\n",
    "for i in range(10,25): testAndCreateEliasFano(i)"
   ]
  },
  {
   "cell_type": "markdown",
   "metadata": {
    "deletable": false,
    "editable": false,
    "nbgrader": {
     "cell_type": "markdown",
     "checksum": "2f504df16efdabc8c95dd1455e8fb017",
     "grade": false,
     "grade_id": "cell-e15f8378388fece2",
     "locked": true,
     "schema_version": 3,
     "solution": false,
     "task": false
    }
   },
   "source": [
    "## 2. Accessing the n-th entry\n",
    "\n",
    "Implement a function `access` that can be called by\n",
    "```\n",
    "access(upper, lower, n)\n",
    "```\n",
    "that returns the integer at position `n` (`n` starting at position 0) of the original `list`. \n",
    "\n",
    "First of all, you have to compute the right bucket `b`, i.e., you have to know, how many 0-bits are there up to the n-th 1-bit of the `upper` list (i.e., you can compute `b=select(1, n) - n` ). For the `lower` part, you have to access the `l` bits at the position corresponding to the given position `n`. Finally, you have to concatenate the `upper` part and the `lower` part and compute the corresponding integer number.\n",
    "\n",
    "**Hint:** With the code `int(b,2)` you can convert a binary string back into an integer"
   ]
  },
  {
   "cell_type": "code",
   "execution_count": 12,
   "metadata": {
    "deletable": false,
    "nbgrader": {
     "cell_type": "code",
     "checksum": "362f63ffbc0b3bf8cdd7de9d037b4847",
     "grade": false,
     "grade_id": "cell-5d2e7de4f3f08396",
     "locked": false,
     "schema_version": 3,
     "solution": true,
     "task": false
    }
   },
   "outputs": [],
   "source": [
    "def select(binString, b, n):                             # selects the n-th (n starting at 0) b-bit\n",
    "    return [i for i,x in enumerate(list(binString)) if x == b][n]\n",
    "\n",
    "def access(upper, lower, i):              # returns the integer at position i (starting at 0)\n",
    "    global w,l\n",
    "    b = select(upper, \"1\", i) - i # number if 0s before the i-th 1\n",
    "    # which gives us the upper bits\n",
    "    # the lower bits are the i-th l bits of lower\n",
    "    upper_bits = format(b, f\"0{w-l}b\")\n",
    "    lower_bits = lower[i*l:(i+1)*l]\n",
    "    return int(upper_bits+lower_bits, 2)\n",
    "\n"
   ]
  },
  {
   "cell_type": "code",
   "execution_count": 13,
   "metadata": {
    "deletable": false,
    "editable": false,
    "nbgrader": {
     "cell_type": "code",
     "checksum": "bf9b108c8a6f18fa4fa2e4f97fbb490d",
     "grade": true,
     "grade_id": "cell-781d1a28e42410dd",
     "locked": true,
     "points": 1,
     "schema_version": 3,
     "solution": false,
     "task": false
    }
   },
   "outputs": [],
   "source": [
    "import random\n",
    "\n",
    "def createRandomSortedList(n): \n",
    "    feed = [i for i in range(1, 256)]*10\n",
    "    ret = random.sample(feed, n)\n",
    "    ret.sort()\n",
    "    return ret\n",
    "\n",
    "def testEliasFano(myList):\n",
    "    (upper, lower) = elias_fano(myList)\n",
    "    \n",
    "    newList = [access(upper, lower, i) for i in range(len(myList))]\n",
    "    \n",
    "    assert myList==newList, \"test failed for input list %s (%s)\" % (myList, newList)\n",
    "\n",
    "def testAndCreateEliasFano(n):\n",
    "    myList = createRandomSortedList(n)\n",
    "    testEliasFano(myList)\n",
    "    \n",
    "myList = [1,1,1,1]\n",
    "testEliasFano(myList)\n",
    "\n",
    "myList = [256]\n",
    "testEliasFano(myList)\n",
    "\n",
    "myList = [1,1,1,1,256]\n",
    "testEliasFano(myList)\n",
    "\n",
    "myList = [1,4,9,16,25,36,49,64,81,100,256,511]\n",
    "testEliasFano(myList)\n",
    "\n",
    "for i in range(10,25): testAndCreateEliasFano(i)"
   ]
  },
  {
   "cell_type": "code",
   "execution_count": null,
   "metadata": {},
   "outputs": [],
   "source": []
  }
 ],
 "metadata": {
  "kernelspec": {
   "display_name": "Python 3 (ipykernel)",
   "language": "python",
   "name": "python3"
  },
  "language_info": {
   "codemirror_mode": {
    "name": "ipython",
    "version": 3
   },
   "file_extension": ".py",
   "mimetype": "text/x-python",
   "name": "python",
   "nbconvert_exporter": "python",
   "pygments_lexer": "ipython3",
   "version": "3.11.5"
  }
 },
 "nbformat": 4,
 "nbformat_minor": 4
}
