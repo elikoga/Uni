{
 "cells": [
  {
   "cell_type": "markdown",
   "metadata": {},
   "source": [
    "Before you turn this problem in, make sure everything runs as expected. First, **restart the kernel** (in the menubar, select Kernel$\\rightarrow$Restart) and then **run all cells** (in the menubar, select Cell$\\rightarrow$Run All).\n",
    "\n",
    "Make sure you fill in any place that says `YOUR CODE HERE` or \"YOUR ANSWER HERE\", as well as your name and collaborators below:"
   ]
  },
  {
   "cell_type": "code",
   "execution_count": 1,
   "metadata": {},
   "outputs": [],
   "source": [
    "NAME = \"\"\n",
    "IMMATRICULATION_NUMBER = \"\""
   ]
  },
  {
   "cell_type": "markdown",
   "metadata": {},
   "source": [
    "---"
   ]
  },
  {
   "cell_type": "markdown",
   "metadata": {
    "deletable": false,
    "editable": false,
    "nbgrader": {
     "cell_type": "markdown",
     "checksum": "3c5b0e7791fb8dc24e084761ff1830db",
     "grade": false,
     "grade_id": "cell-d5a54b6a0ebf1e39",
     "locked": true,
     "schema_version": 3,
     "solution": false,
     "task": false
    }
   },
   "source": [
    "## Exercise 9: Graph compression with k<sup>2</sup> trees\n",
    "\n",
    "Goals of this exercise: \n",
    "- get a deep understanding of the representation of binary matrices by k<sup>2</sup> trees \n",
    "- get a deep understanding of k<sup>2</sup> tree storage in levels \n"
   ]
  },
  {
   "cell_type": "markdown",
   "metadata": {
    "deletable": false,
    "editable": false,
    "nbgrader": {
     "cell_type": "markdown",
     "checksum": "9c99f6e15f36b1569ae182dc76d81c6c",
     "grade": false,
     "grade_id": "cell-b2844ef5362d11fe",
     "locked": true,
     "schema_version": 3,
     "solution": false,
     "task": false
    }
   },
   "source": [
    "## 1. Preliminaries\t\t\n",
    "\n",
    "Implement a method fill that can be called by \n",
    "```\n",
    "fill(Matrix)\n",
    "```\n",
    "that fills a Matrix `Matrix` of size `N x N` with rows and columns of 0 such that `Matrix` is enlarged size  `newSize x newSize`, with `newSize` is the smallest power of 2 that is bigger than or equal to `N`. Furthermore, the method should return the new size `newSize`. You can assume that the Matrix `Matrix` has a minimum size of `2 x 2`\n",
    "\n",
    "For example \n",
    "```\n",
    "M = \n",
    "[\n",
    "[1, 0],\n",
    "[0, 1]\n",
    "]\n",
    "```\n",
    "remains unchanged, \n",
    "\n",
    "```\n",
    "M = \n",
    "[\n",
    "[1, 1, 0],\n",
    "[0, 0, 0],\n",
    "[0, 0, 1]\n",
    "]\n",
    "```\n",
    "is filled to\n",
    "\n",
    "```\n",
    "M = \n",
    "[\n",
    "[1, 1, 0, 0],\n",
    "[0, 0, 0, 0],\n",
    "[0, 0, 1, 0],\n",
    "[0, 0, 0, 0]\n",
    "]\n",
    "```"
   ]
  },
  {
   "cell_type": "code",
   "execution_count": 2,
   "metadata": {
    "deletable": false,
    "nbgrader": {
     "cell_type": "code",
     "checksum": "50e10b5113b6cf02ba130ae0a419082b",
     "grade": false,
     "grade_id": "cell-f35848a560892c0d",
     "locked": false,
     "schema_version": 3,
     "solution": true,
     "task": false
    }
   },
   "outputs": [],
   "source": [
    "import math\n",
    "\n",
    "def fill(Matrix):\n",
    "    # assert is square matrix\n",
    "    assert len(Matrix) == len(Matrix[0])\n",
    "    n = len(Matrix)\n",
    "    next_2_power = 2**math.ceil(math.log(n, 2))\n",
    "    for i in range(n):\n",
    "        Matrix[i].extend([0]*(next_2_power-n))\n",
    "    for i in range(n, next_2_power):\n",
    "        Matrix.append([0]*next_2_power)\n",
    "    return next_2_power\n"
   ]
  },
  {
   "cell_type": "code",
   "execution_count": 3,
   "metadata": {
    "deletable": false,
    "editable": false,
    "nbgrader": {
     "cell_type": "code",
     "checksum": "dde0bd6985fb13267518cf9a704439c7",
     "grade": true,
     "grade_id": "cell-574c0f89470b8c6e",
     "locked": true,
     "points": 1,
     "schema_version": 3,
     "solution": false,
     "task": false
    }
   },
   "outputs": [],
   "source": [
    "import copy\n",
    "\n",
    "M1_1 = [\n",
    "[1, 0],\n",
    "[0, 1]\n",
    "]\n",
    "M1_2 = copy.deepcopy(M1_1)\n",
    "assert fill(M1_1)==2\n",
    "assert M1_2==M1_1\n",
    "\n",
    "M2_1 = [\n",
    "[1, 1, 0],\n",
    "[0, 0, 0],\n",
    "[0, 0, 1]\n",
    "]\n",
    "M2_2 = [\n",
    "[1, 1, 0, 0],\n",
    "[0, 0, 0, 0],\n",
    "[0, 0, 1, 0],\n",
    "[0, 0, 0, 0]\n",
    "]\n",
    "assert fill(M2_1)==4\n",
    "assert M2_2==M2_1\n",
    "\n",
    "M3_1 = [\n",
    "[1, 0, 0, 0, 0],\n",
    "[0, 1, 0, 0, 0],\n",
    "[0, 0, 0, 0, 0],\n",
    "[0, 0, 1, 1, 1],\n",
    "[0, 1, 0, 0, 0]\n",
    "]\n",
    "M3_2 = [\n",
    "[1, 0, 0, 0, 0, 0, 0, 0],\n",
    "[0, 1, 0, 0, 0, 0, 0, 0],\n",
    "[0, 0, 0, 0, 0, 0, 0, 0],\n",
    "[0, 0, 1, 1, 1, 0, 0, 0],\n",
    "[0, 1, 0, 0, 0, 0, 0, 0],\n",
    "[0, 0, 0, 0, 0, 0, 0, 0],\n",
    "[0, 0, 0, 0, 0, 0, 0, 0],\n",
    "[0, 0, 0, 0, 0, 0, 0, 0]\n",
    "]\n",
    "assert fill(M3_1)==8\n",
    "assert M3_2==M3_1"
   ]
  },
  {
   "cell_type": "markdown",
   "metadata": {
    "deletable": false,
    "editable": false,
    "nbgrader": {
     "cell_type": "markdown",
     "checksum": "86435aa43979cecdf0ea92ebd2fc729f",
     "grade": false,
     "grade_id": "cell-c3e3be61ada31d01",
     "locked": true,
     "schema_version": 3,
     "solution": false,
     "task": false
    }
   },
   "source": [
    "## 2. Compute the k<sup>2</sup> tree.  \n",
    "\n",
    "Implement a method build that can be called by \n",
    "```\n",
    "\tk2treeNode = build(Levels,level,Matrix,row,column,N) \n",
    "```\n",
    "and that computes the bits of all Levels of a k<sup>2</sup> tree for a given input `Matrix`. \n",
    "The method build shall recursively evaluate the bits in that `N x N` submatrix of `Matrix` which has its top-left corner at the indices `[row,column]`. If this `N x N` submatrix contains only values 0, the return value of `k2treeNode` shall become 0, otherwise the return value of `k2treeNode` shall become 1. \n",
    "\n",
    "Furthermore, whenever the return value for `k2treeNode` is 1 and that node is not a leaf node of the k<sup>2</sup> tree, the Levels array shall be extended as a side effect by the 4 bits representing the 4 children of this node in the k<sup>2</sup> tree. \n",
    "The computed `k2treeNode` values shall NOT be stored in a tree, but shall be directly stored in the correct level of the `Levels` array which is passed as the first parameter.  `Levels` shall be organized as a list of bit lists, where each bit list represents the bits of one level of the k<sup>2</sup> tree. \n",
    "\n",
    "For example, if \n",
    "```\n",
    "Matrix = [\n",
    "[0, 0, 0, 1],\n",
    "[1, 0, 1, 1],\n",
    "[0, 0, 1, 0],\n",
    "[0, 0, 1, 0]\n",
    "]\n",
    "```\n",
    "and `Levels` is initially empty, after a call of \n",
    "```\n",
    "\tk2treeNode = build(Levels,0,Matrix,0,0,4)\n",
    "```\n",
    "`Levels` should contain the following lists of numbers:`\n",
    "```\n",
    "\tLevels[0] = [1,1,0,1] \n",
    "\tLevels[1] = [0,0,1,0,0,1,1,1,1,0,1,0] \n",
    "```\n",
    "\n",
    "You shall assume that the input matrix always has a width and height that is a power of 2.\n"
   ]
  },
  {
   "cell_type": "code",
   "execution_count": 6,
   "metadata": {
    "deletable": false,
    "nbgrader": {
     "cell_type": "code",
     "checksum": "a856547088bb7a24d5e1a9ddd69791f8",
     "grade": false,
     "grade_id": "cell-80546afa585d5694",
     "locked": false,
     "schema_version": 3,
     "solution": true,
     "task": false
    }
   },
   "outputs": [],
   "source": [
    "def build(Levels,level,Matrix,row,col,N): # build Levels of k2 tree from Matrix\n",
    "    if N <= 1:\n",
    "        return Matrix[row][col]\n",
    "    if level > len(Levels ):\n",
    "        raise Exception(\"Level out of range\")\n",
    "    # submatrix = Matrix[row:row+N]\n",
    "    # submatrix = [x[col:col+N] for x in submatrix]\n",
    "    ret = 0\n",
    "    results = []\n",
    "    if len(Levels) == level:\n",
    "        Levels.append([])\n",
    "    for x in range(2):\n",
    "        for y in range(2):\n",
    "            # sub_submatrix = submatrix[x*N//2:(x+1)*N//2,y*N//2:(y+1)*N//2]\n",
    "            # sub_submatrix = [submatrix[i][y*N//2:(y+1)*N//2] for i in range(x*N//2,(x+1)*N//2)]\n",
    "            # using build, check if sub_submatrix is all 0\n",
    "            res = build(Levels,level+1,Matrix,row+x*N//2,col+y*N//2,N//2)\n",
    "            results.append(res)\n",
    "            if res:\n",
    "                ret = 1\n",
    "    # print(f\"Level {Levels=} {level=}, {row=}, {col=}, {N=}, {results=} {ret=}\")\n",
    "    if ret:\n",
    "        Levels[level] += results\n",
    "    return ret\n"
   ]
  },
  {
   "cell_type": "code",
   "execution_count": 7,
   "metadata": {
    "deletable": false,
    "editable": false,
    "nbgrader": {
     "cell_type": "code",
     "checksum": "ad10231636814daccfb996aaa7567faf",
     "grade": true,
     "grade_id": "cell-a1d5c1ee79627179",
     "locked": true,
     "points": 1,
     "schema_version": 3,
     "solution": false,
     "task": false
    }
   },
   "outputs": [
    {
     "name": "stdout",
     "output_type": "stream",
     "text": [
      "All tests were performed successfully!\n"
     ]
    }
   ],
   "source": [
    "Matrix = [\n",
    "[0, 0, 0, 1],\n",
    "[1, 0, 1, 1],\n",
    "[0, 0, 1, 0],\n",
    "[0, 0, 1, 0]\n",
    "]\n",
    "Levels=[[1,1,0,1],[0,0,1,0,0,1,1,1,1,0,1,0]]\n",
    "L = []\n",
    "build(L, 0, Matrix, 0, 0, 4)\n",
    "assert L==Levels, f\"Test failed for input {Matrix=}, {L=}, {Levels=}\"\n",
    "\n",
    "import random\n",
    "\n",
    "def matrix(n):                 # return a matrix filled with random numbers \n",
    "    return [[int(1/0.80 * random.random()) for _ in range(n)] for _ in range(n)]\n",
    "\n",
    "def pp(Matrix):              # pretty print Matrix\n",
    "    print(\"[\")\n",
    "    for i in range(len(Matrix)):\n",
    "        print(\"%s,\" % Matrix[i])\n",
    "    print(\"]\")\n",
    "\n",
    "        \n",
    "def retransform(Levels):\n",
    "    M = Levels[0]\n",
    "    for nextLevel in range(1, len(Levels)):\n",
    "        _M = []\n",
    "        for e in M:\n",
    "            if e==1:\n",
    "                _M.extend(Levels[nextLevel][:4])\n",
    "                del Levels[nextLevel][:4]\n",
    "            else: _M.extend([0,0,0,0])\n",
    "        M = _M\n",
    "    return M\n",
    "\n",
    "def retransform2(M, r, c, s): \n",
    "    if(s==1): return [M[r][c]]\n",
    "    else:\n",
    "        flat = []\n",
    "        for i in range(2):\n",
    "            for j in range(2):\n",
    "                n=s//2\n",
    "                flat.extend(retransform2(M,r+i*n,c+j*n,n))\n",
    "        return flat\n",
    "        \n",
    "def test(size, rep):\n",
    "    for s in range(2,size):\n",
    "        for r in range(rep):\n",
    "            M = matrix(s)\n",
    "            while(sum([sum(i) for i in M])==0): M = matrix(s)\n",
    "            \n",
    "            newSize = fill(M)\n",
    "\n",
    "            Levels = []\n",
    "            build(Levels, 0, M, 0, 0, newSize)\n",
    "            newM = retransform(Levels)\n",
    "            \n",
    "            newM2 = retransform2(M,0,0,newSize)\n",
    "            assert newM2==newM, \"Test failed for input %s\" % M\n",
    "    print(\"All tests were performed successfully!\")  \n",
    "\n",
    "test(9, 3)"
   ]
  },
  {
   "cell_type": "code",
   "execution_count": null,
   "metadata": {},
   "outputs": [],
   "source": []
  },
  {
   "cell_type": "code",
   "execution_count": null,
   "metadata": {},
   "outputs": [],
   "source": []
  }
 ],
 "metadata": {
  "kernelspec": {
   "display_name": "Python 3 (ipykernel)",
   "language": "python",
   "name": "python3"
  },
  "language_info": {
   "codemirror_mode": {
    "name": "ipython",
    "version": 3
   },
   "file_extension": ".py",
   "mimetype": "text/x-python",
   "name": "python",
   "nbconvert_exporter": "python",
   "pygments_lexer": "ipython3",
   "version": "3.11.5"
  }
 },
 "nbformat": 4,
 "nbformat_minor": 4
}
