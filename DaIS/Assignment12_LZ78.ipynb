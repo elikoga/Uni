{
 "cells": [
  {
   "cell_type": "markdown",
   "metadata": {},
   "source": [
    "Before you turn this problem in, make sure everything runs as expected. First, **restart the kernel** (in the menubar, select Kernel$\\rightarrow$Restart) and then **run all cells** (in the menubar, select Cell$\\rightarrow$Run All).\n",
    "\n",
    "Make sure you fill in any place that says `YOUR CODE HERE` or \"YOUR ANSWER HERE\", as well as your name and collaborators below:"
   ]
  },
  {
   "cell_type": "code",
   "execution_count": 1,
   "metadata": {},
   "outputs": [],
   "source": [
    "NAME = \"\"\n",
    "IMMATRICULATION_NUMBER = \"\""
   ]
  },
  {
   "cell_type": "markdown",
   "metadata": {},
   "source": [
    "---"
   ]
  },
  {
   "cell_type": "markdown",
   "metadata": {
    "deletable": false,
    "editable": false,
    "nbgrader": {
     "cell_type": "markdown",
     "checksum": "0f48d0779dcbb5e89c657a76c78ae3e0",
     "grade": false,
     "grade_id": "cell-ea783eb459c44ab1",
     "locked": true,
     "schema_version": 3,
     "solution": false,
     "task": false
    }
   },
   "source": [
    "# Exercise 12: LZ78\n",
    "\n",
    "Goal of this exercise is to implement the LZ78 compression.\n",
    "\n"
   ]
  },
  {
   "cell_type": "markdown",
   "metadata": {
    "deletable": false,
    "editable": false,
    "nbgrader": {
     "cell_type": "markdown",
     "checksum": "3d3135546519a495be31439a94f0b0b9",
     "grade": false,
     "grade_id": "cell-31d3d17fbee314a3",
     "locked": true,
     "schema_version": 3,
     "solution": false,
     "task": false
    }
   },
   "source": [
    "## Compute the LZ78 encoding\n",
    "\n",
    "Implement the method\n",
    "\n",
    "<code>lz78 = encode(inputString)</code>\n",
    "    \n",
    "that gets the input String <code>inputString</code> and computes the LZ78 compressed output string simulated by a list of tuples. \n",
    "You do not need to write a binary String, but just fill a list of tuples consisting of id and next character c\n",
    "You need the following steps to compress via LZ78:\n",
    "\n",
    "* Search for the longest prefix of the String not yet encoded within the dictionary\n",
    "* Append [i ,c] to the output list\n",
    "* Add prefix (+) c to the dictionary\n",
    "\n",
    "You do not need to implement the dictionary in form of a prefix trie, but can simply use a dictionary for that."
   ]
  },
  {
   "cell_type": "code",
   "execution_count": 13,
   "metadata": {
    "deletable": false,
    "nbgrader": {
     "cell_type": "code",
     "checksum": "39e5a21032e0590d2b929f8268bd9014",
     "grade": false,
     "grade_id": "cell-19abe5c1c5d59cb5",
     "locked": false,
     "schema_version": 3,
     "solution": true,
     "task": false
    }
   },
   "outputs": [],
   "source": [
    "def encode(inputString):\n",
    "    dictionary = {\"\": 0}\n",
    "    output = []\n",
    "    while inputString:\n",
    "        prefix = \"\"\n",
    "        for char in inputString:\n",
    "            prefix += char\n",
    "            if prefix not in dictionary:\n",
    "                break\n",
    "        if prefix in dictionary:\n",
    "            # string completely consumed\n",
    "            output.append([dictionary[prefix], \"\"])\n",
    "            break\n",
    "        dictionary[prefix] = len(dictionary)\n",
    "        output.append([dictionary[prefix[:-1]], prefix[-1]])\n",
    "        inputString = inputString[len(prefix):]\n",
    "    return output\n",
    "\n",
    "\n",
    "        \n",
    "    "
   ]
  },
  {
   "cell_type": "code",
   "execution_count": 14,
   "metadata": {
    "deletable": false,
    "editable": false,
    "nbgrader": {
     "cell_type": "code",
     "checksum": "a78599ab55b5f093907f9827d364d247",
     "grade": true,
     "grade_id": "cell-f0775ba64c1c34ea",
     "locked": true,
     "points": 1,
     "schema_version": 3,
     "solution": false,
     "task": false
    }
   },
   "outputs": [],
   "source": [
    "assert encode('tobeornottobeortobeornot')== [[0, 't'],\n",
    " [0, 'o'],\n",
    " [0, 'b'],\n",
    " [0, 'e'],\n",
    " [2, 'r'],\n",
    " [0, 'n'],\n",
    " [2, 't'],\n",
    " [1, 'o'],\n",
    " [3, 'e'],\n",
    " [5, 't'],\n",
    " [2, 'b'],\n",
    " [4, 'o'],\n",
    " [0, 'r'],\n",
    " [6, 'o'],\n",
    " [1, '']]\n",
    "\n",
    "assert encode('bed_spreaders_spread_spreads_on_beds') == [[0, 'b'],\n",
    " [0, 'e'],\n",
    " [0, 'd'],\n",
    " [0, '_'],\n",
    " [0, 's'],\n",
    " [0, 'p'],\n",
    " [0, 'r'],\n",
    " [2, 'a'],\n",
    " [3, 'e'],\n",
    " [7, 's'],\n",
    " [4, 's'],\n",
    " [6, 'r'],\n",
    " [8, 'd'],\n",
    " [11, 'p'],\n",
    " [7, 'e'],\n",
    " [0, 'a'],\n",
    " [3, 's'],\n",
    " [4, 'o'],\n",
    " [0, 'n'],\n",
    " [4, 'b'],\n",
    " [2, 'd'],\n",
    " [5, '']]"
   ]
  },
  {
   "cell_type": "markdown",
   "metadata": {
    "deletable": false,
    "editable": false,
    "nbgrader": {
     "cell_type": "markdown",
     "checksum": "2f4484ecd9d95f5ca55534e29b83135c",
     "grade": false,
     "grade_id": "cell-f00bbb089330d9ce",
     "locked": true,
     "schema_version": 3,
     "solution": false,
     "task": false
    }
   },
   "source": [
    "## Compute the LZ78 decoding\n",
    "\n",
    "Implement the method\n",
    "\n",
    "<code>decoded = decode(listOfTuples)</code>\n",
    "\n",
    "The method should decode the given list of tuples and return the decoded String as result.\n"
   ]
  },
  {
   "cell_type": "code",
   "execution_count": 15,
   "metadata": {
    "deletable": false,
    "nbgrader": {
     "cell_type": "code",
     "checksum": "ec48d7322eab70953ac1e0097ee76b69",
     "grade": false,
     "grade_id": "cell-502fa970a1dfecd9",
     "locked": false,
     "schema_version": 3,
     "solution": true,
     "task": false
    }
   },
   "outputs": [],
   "source": [
    "def decode(listOfTuples):\n",
    "    dictionary = {0: \"\"}\n",
    "    output = \"\"\n",
    "    for index, char in listOfTuples:\n",
    "        if index not in dictionary:\n",
    "            raise Exception(\"Invalid input\")\n",
    "        output += dictionary[index] + char\n",
    "        dictionary[len(dictionary)] = dictionary[index] + char\n",
    "    return output"
   ]
  },
  {
   "cell_type": "code",
   "execution_count": 16,
   "metadata": {
    "deletable": false,
    "editable": false,
    "nbgrader": {
     "cell_type": "code",
     "checksum": "fbff01b642df20ce01d6b336479b4d22",
     "grade": true,
     "grade_id": "cell-af3230b24d38d0b8",
     "locked": true,
     "points": 1,
     "schema_version": 3,
     "solution": false,
     "task": false
    }
   },
   "outputs": [],
   "source": [
    "def test(inputString):\n",
    "    assert decode(encode(inputString))==inputString, \"Test failed for input string \" + inputString\n",
    "    \n",
    "test('tobeornottobeortobeornot')\n",
    "test('peterpiperpickedapeckofpickledpeppersapeckofpickledpepperspeterpiperpickedifpeterpiperpickedapeckofpickledpepperswheresthepeckofpickledpepperspeterpiperpicked')\n",
    "test('iwishtowishthewishyouwishtowishbutifyouwishthewishthewitchwishesiwontwishthewishyouwishtowish')\n",
    "test('howmanycookiescouldagoodcookcookifagoodcookcouldcookcookiesagoodcookcouldcookasmuchcookiesasagoodcookwhocouldcookcookies')\n",
    "\n",
    "import random\n",
    "import string\n",
    "\n",
    "def get_random_string(length):\n",
    "    letters = string.printable\n",
    "    result_str = ''.join(random.choice(letters) for i in range(length))\n",
    "    return result_str \n",
    "    \n",
    "for i in range(10):\n",
    "    randomS = get_random_string(10*(i+1))\n",
    "    test(randomS)\n",
    "\n"
   ]
  },
  {
   "cell_type": "code",
   "execution_count": null,
   "metadata": {},
   "outputs": [],
   "source": []
  }
 ],
 "metadata": {
  "kernelspec": {
   "display_name": "Python 3",
   "language": "python",
   "name": "python3"
  },
  "language_info": {
   "codemirror_mode": {
    "name": "ipython",
    "version": 3
   },
   "file_extension": ".py",
   "mimetype": "text/x-python",
   "name": "python",
   "nbconvert_exporter": "python",
   "pygments_lexer": "ipython3",
   "version": "3.11.5"
  }
 },
 "nbformat": 4,
 "nbformat_minor": 4
}
