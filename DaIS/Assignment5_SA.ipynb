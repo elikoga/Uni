{
 "cells": [
  {
   "cell_type": "markdown",
   "metadata": {},
   "source": [
    "Before you turn this problem in, make sure everything runs as expected. First, **restart the kernel** (in the menubar, select Kernel$\\rightarrow$Restart) and then **run all cells** (in the menubar, select Cell$\\rightarrow$Run All).\n",
    "\n",
    "Make sure you fill in any place that says `YOUR CODE HERE` or \"YOUR ANSWER HERE\", as well as your name and collaborators below:\n"
   ]
  },
  {
   "cell_type": "code",
   "execution_count": 2,
   "metadata": {},
   "outputs": [],
   "source": [
    "NAME = \"\"\n",
    "IMMATRICULATION_NUMBER = \"\""
   ]
  },
  {
   "cell_type": "markdown",
   "metadata": {},
   "source": [
    "---\n"
   ]
  },
  {
   "cell_type": "markdown",
   "metadata": {
    "deletable": false,
    "editable": false,
    "nbgrader": {
     "cell_type": "markdown",
     "checksum": "d5327ea7dc22e5932b49329e36f9fd1f",
     "grade": false,
     "grade_id": "cell-f181373d018261ba",
     "locked": true,
     "schema_version": 3,
     "solution": false,
     "task": false
    }
   },
   "source": [
    "# Exercise 5: Suffix arrays\n",
    "\n",
    "Goals of this exercise are:\n",
    "\n",
    "- to implement a simple version of a suffix array construction algorithm\n",
    "- to get a feeling for the interval search using suffix arrays\n",
    "- understand the relationship between suffix array and BWT\n",
    "\n",
    "For this exercise you can assume that the input string ends with a \\\\$ sign and does not contain further \\\\$ signs or characters that are lexicographically smaller than the \\\\$ sign.\n"
   ]
  },
  {
   "cell_type": "markdown",
   "metadata": {
    "deletable": false,
    "editable": false,
    "nbgrader": {
     "cell_type": "markdown",
     "checksum": "d23d53cb54c44401fa4de06caf265377",
     "grade": false,
     "grade_id": "cell-034e7573c962f0cf",
     "locked": true,
     "schema_version": 3,
     "solution": false,
     "task": false
    }
   },
   "source": [
    "## 1. Suffix array construction: Text -> SA\n",
    "\n",
    "Implement a function <code>makeSA</code> that can be called by\n",
    "\n",
    "<code>SA = makeSA(inputString)</code>\n",
    "\n",
    "which generates a suffix array from a given input string.\n",
    "\n",
    "<i>Hint:</i> You can reuse and modify your implementation of Assignment 1.\n",
    "\n",
    "For example, for the input string <code>\"abracadabra\\$\"</code>, the function call should return an array containing the values\n",
    "\n",
    "<code>11, 10, 7, 0, 3, 5, 8, 1, 4, 6, 9, 2</code>\n",
    "\n",
    "Use other input strings and verify manually that your implementation is correct.\n"
   ]
  },
  {
   "cell_type": "code",
   "execution_count": 3,
   "metadata": {
    "deletable": false,
    "nbgrader": {
     "cell_type": "code",
     "checksum": "71f50eb3de66b412a99b71f78f664848",
     "grade": false,
     "grade_id": "cell-242110cd9414610a",
     "locked": false,
     "schema_version": 3,
     "solution": true,
     "task": false
    }
   },
   "outputs": [],
   "source": [
    "def makeSA(S):\n",
    "    suffixes = []\n",
    "    for i in range(len(S)):\n",
    "        suffixes.append((S[i:], i))\n",
    "    suffixes.sort()\n",
    "    # return [suffix[1] for suffix in suffixes]\n",
    "    res = [suffix[1] for suffix in suffixes]\n",
    "    assert len(res) == len(S)\n",
    "    # print(f\"{S=}, {res=}\")\n",
    "    return res"
   ]
  },
  {
   "cell_type": "code",
   "execution_count": 4,
   "metadata": {},
   "outputs": [
    {
     "name": "stdout",
     "output_type": "stream",
     "text": [
      "S='alfalfa$', makeSA(S)=[7, 6, 3, 0, 5, 2, 4, 1]\n"
     ]
    }
   ],
   "source": [
    "S = \"alfalfa$\"\n",
    "\n",
    "print(f\"{S=}, {makeSA(S)=}\")"
   ]
  },
  {
   "cell_type": "code",
   "execution_count": 97,
   "metadata": {
    "deletable": false,
    "editable": false,
    "nbgrader": {
     "cell_type": "code",
     "checksum": "56b89a6e3a5dda37fffa283d96504158",
     "grade": true,
     "grade_id": "cell-ec1da831ff200317",
     "locked": true,
     "points": 1,
     "schema_version": 3,
     "solution": false,
     "task": false
    }
   },
   "outputs": [],
   "source": [
    "assert makeSA(\"abracadabra$\") == [11, 10, 7, 0, 3, 5, 8, 1, 4, 6, 9, 2]\n",
    "assert makeSA(\"yabbadabbadoo$\") == [13, 1, 6, 4, 9, 3, 8, 2, 7, 5, 10, 12, 11, 0]"
   ]
  },
  {
   "cell_type": "markdown",
   "metadata": {
    "deletable": false,
    "editable": false,
    "nbgrader": {
     "cell_type": "markdown",
     "checksum": "9ac5d76f27e61f29f78d45ccb2bbdab2",
     "grade": false,
     "grade_id": "cell-37fe023d8ba8a7ac",
     "locked": true,
     "schema_version": 3,
     "solution": false,
     "task": false
    }
   },
   "source": [
    "## 2. Constructing a BWT string from the suffix array\n",
    "\n",
    "Implement a function <code>makeBWT</code> that can be called by\n",
    "\n",
    "<code>BWT = makeBWT(SA,inputString)</code>\n",
    "\n",
    "and that returns a computed BWT string from the suffix array SA and the input string.\n",
    "As you can use the suffix array, your implementation shall be shorter than the solution for Assignment 1.\n",
    "\n",
    "For example, using the suffix array SA with the values\n",
    "\n",
    "<code>11, 10, 7, 0, 3, 5, 8, 1, 4, 6, 9, 2</code>\n",
    "\n",
    "and the input string <code>\"abracadabra\\$\"</code>, the function call should return the BWT string\n",
    "\n",
    "<code>\"ard\\$rcaaaabb\"</code>.\n"
   ]
  },
  {
   "cell_type": "code",
   "execution_count": 98,
   "metadata": {
    "deletable": false,
    "nbgrader": {
     "cell_type": "code",
     "checksum": "86f9e113aab69f4f63d6cf5a75a842cc",
     "grade": false,
     "grade_id": "cell-140643fa160cbc7c",
     "locked": false,
     "schema_version": 3,
     "solution": true,
     "task": false
    }
   },
   "outputs": [],
   "source": [
    "def makeBWT(SA, inputString):\n",
    "    # bwt = []\n",
    "    # for i in range(len(SA)):\n",
    "    #     bwt.append(inputString[SA[i] - 1])\n",
    "    # bwt = [inputString[SA[i] - 1] for i in range(len(SA))]\n",
    "    # return bwt\n",
    "    return \"\".join([inputString[SA[i] - 1] for i in range(len(SA))])"
   ]
  },
  {
   "cell_type": "code",
   "execution_count": 99,
   "metadata": {
    "deletable": false,
    "editable": false,
    "nbgrader": {
     "cell_type": "code",
     "checksum": "e8b1218fff6a8f2faf9cec4ed7e31c07",
     "grade": true,
     "grade_id": "cell-a010e6920c4dd8b8",
     "locked": true,
     "points": 1,
     "schema_version": 3,
     "solution": false,
     "task": false
    }
   },
   "outputs": [],
   "source": [
    "def testMakeBWT(inputString, expectedResult):\n",
    "    sa = makeSA(inputString)\n",
    "    bwt = makeBWT(sa, inputString)\n",
    "    assert bwt == expectedResult, \"Test makeBWT failed for inputString \" + inputString\n",
    "\n",
    "\n",
    "testMakeBWT(\"abracadabra$\", \"ard$rcaaaabb\")\n",
    "\n",
    "testMakeBWT(\"hokuspokus$\", \"s$oophsuukk\")\n",
    "testMakeBWT(\"yabbadabbadoo$\", \"oydbbbbaaaaod$\")\n",
    "testMakeBWT(\"tobeornottobeortobeornot$\", \"tooobbbrrttteeennoooor$to\")"
   ]
  },
  {
   "cell_type": "markdown",
   "metadata": {
    "deletable": false,
    "editable": false,
    "nbgrader": {
     "cell_type": "markdown",
     "checksum": "44d95d11ab19c13d08bb24544339c7e6",
     "grade": false,
     "grade_id": "cell-52d621242f4d8387",
     "locked": true,
     "schema_version": 3,
     "solution": false,
     "task": false
    }
   },
   "source": [
    "## 3. Searching a substring by binary search using suffix array and input string (without using LCP (or bcp or ncp) arrays!)\n",
    "\n",
    "Implement a function <code>find</code> that can be called by\n",
    "\n",
    "<code>positions = find(SA,substring,inputString)</code>\n",
    "\n",
    "and that uses <b>binary search</b> on the suffix array SA (and then accesses the inputString) to return all the start positions of substring in the string inputString.\n",
    "\n",
    "For example, using the suffix array SA with the values\n",
    "\n",
    "<code>11, 10, 7, 0, 3, 5, 8, 1, 4, 6, 9, 2</code>\n",
    "\n",
    "and the example search substring <code>\"abr\"</code> and the input string <code>\"abracadabra\\$\"</code>, the function call should return <code>[7,0]</code> as the start positions are 7 and 0. If a substring does not occur, the function should return <code>[ ]</code>. Use other substrings and other input strings and verify manually that your implementation is correct.\n",
    "\n",
    "<i>Hint</i>: Use two functions each of which uses binary search, i.e.,\n",
    "\n",
    "- <code>largestIndex_SmallerSuffix(...)</code> to find the largest index with a smaller suffix than the substring and\n",
    "- <code>smallestIndex_GreaterSuffix(...)</code> to find the smallest index with a greater suffix than the substring\n"
   ]
  },
  {
   "cell_type": "code",
   "execution_count": 102,
   "metadata": {
    "deletable": false,
    "nbgrader": {
     "cell_type": "code",
     "checksum": "2f71c06c4d174ecf2306a1a771f2ed0d",
     "grade": false,
     "grade_id": "cell-c3439ed89fcab1ca",
     "locked": false,
     "schema_version": 3,
     "solution": true,
     "task": false
    }
   },
   "outputs": [
    {
     "name": "stdout",
     "output_type": "stream",
     "text": [
      "[0]\n"
     ]
    }
   ],
   "source": [
    "import bisect  # we don't have python 3.10 lmao\n",
    "\n",
    "# no key parameter\n",
    "\n",
    "\n",
    "class KeyWrapper:\n",
    "    def __init__(self, iterable, key):\n",
    "        self.it = iterable\n",
    "        self.key = key\n",
    "\n",
    "    def __getitem__(self, i):\n",
    "        return self.key(self.it[i])\n",
    "\n",
    "    def __len__(self):\n",
    "        return len(self.it)\n",
    "\n",
    "\n",
    "def find(SA, substring, inputString):\n",
    "    # print(f\"{SA=}, {substring=}, {inputString=}\")\n",
    "    l = bisect.bisect_left(\n",
    "        # SA, substring, key=lambda x: inputString[x:][: len(substring)]\n",
    "        KeyWrapper(SA, lambda x: inputString[x:][: len(substring)]),\n",
    "        substring,\n",
    "    )\n",
    "    r = bisect.bisect_right(\n",
    "        # SA, substring, key=lambda x: inputString[x:][: len(substring)]\n",
    "        KeyWrapper(SA, lambda x: inputString[x:][: len(substring)]),\n",
    "        substring,\n",
    "    )\n",
    "    keys = [inputString[SA[i]:][:len(substring)] for i in range(len(SA))]\n",
    "    # print(f\"{keys=}\")\n",
    "    res = [SA[i] for i in range(l, r)]\n",
    "    # print(f\"{SA=}, {substring=}, {inputString=}, {l=}, {r=}, {res=}\")\n",
    "    return res\n",
    "\n",
    "\n",
    "print(find(makeSA(\"yabbadabbadoo$\"), \"yab\", \"yabbadabbadoo$\"))"
   ]
  },
  {
   "cell_type": "code",
   "execution_count": 103,
   "metadata": {
    "deletable": false,
    "editable": false,
    "nbgrader": {
     "cell_type": "code",
     "checksum": "e216d67feb668bbd06aef4f4e568ec10",
     "grade": true,
     "grade_id": "cell-8bb3e15fed60ca47",
     "locked": true,
     "points": 1,
     "schema_version": 3,
     "solution": false,
     "task": false
    }
   },
   "outputs": [],
   "source": [
    "inputString = \"yabbadabbadoo$\"\n",
    "SA = makeSA(inputString)\n",
    "\n",
    "\n",
    "# Helper method to find all positions of a substring within a given string without using a SA\n",
    "def find_all(substring, inputString):\n",
    "    res = []\n",
    "    start = inputString.find(substring, 0)\n",
    "    while start > -1:\n",
    "        res.append(start)\n",
    "        start = inputString.find(substring, start + 1)\n",
    "    return res\n",
    "\n",
    "\n",
    "# Test for all possible matches\n",
    "for i in range(len(inputString) - 1):\n",
    "    # suffix\n",
    "    myString = inputString[i : len(inputString) - 1]\n",
    "    findRes = set(find(SA, myString, inputString))\n",
    "    findAllRes = set(find_all(myString, inputString))\n",
    "    assert findRes - findAllRes == set([]) and findAllRes - findRes == set([]), (\n",
    "        \"find failed for input \" + inputString + \" and substring \" + myString\n",
    "    )\n",
    "    # prefix of suffix up to length 3\n",
    "    for j in range(3):\n",
    "        myString2 = myString[: j + 1]\n",
    "        findRes = set(find(SA, myString2, inputString))\n",
    "        findAllRes = set(find_all(myString2, inputString))\n",
    "\n",
    "        assert findRes - findAllRes == set([]) and findAllRes - findRes == set([]), (\n",
    "            \"find failed for input \" + inputString + \" and substring \" + myString2\n",
    "        )\n",
    "\n",
    "# Test for strings not occurring in the string, but which are in between two suffixes (or smaller than the smallest or larger than the largest suffix)\n",
    "for i in range(len(inputString) + 1):\n",
    "    # suffix\n",
    "    myString = inputString[i : len(inputString)] + \"!\"  # as !<$ this string\n",
    "    findRes = set(find(SA, myString, inputString))\n",
    "    findAllRes = set(find_all(myString, inputString))\n",
    "    assert findRes - findAllRes == set([]) and findAllRes - findRes == set([]), (\n",
    "        \"find failed for input \" + inputString + \" and substring \" + myString\n",
    "    )\n",
    "\n",
    "# Test for multiple occurrences\n",
    "length = 16\n",
    "for i in range(length):\n",
    "    for j in range(i + 1, length):\n",
    "        inputString = \"x\" * i + \"a\" * (j - i + 1) + \"x\" * (length - j - 1) + \"$\"\n",
    "        SA = makeSA(inputString)\n",
    "        # substring of length 1\n",
    "        myString = \"a\"\n",
    "        findRes = set(find(SA, myString, inputString))\n",
    "        findAllRes = set(find_all(myString, inputString))\n",
    "        assert findRes - findAllRes == set([]) and findAllRes - findRes == set([]), (\n",
    "            \"find failed for input \" + inputString + \" and substring \" + myString\n",
    "        )\n",
    "        # substring of length 2 (overlapping)\n",
    "        myString = \"aa\"\n",
    "        findRes = set(find(SA, myString, inputString))\n",
    "        findAllRes = set(find_all(myString, inputString))\n",
    "        assert findRes - findAllRes == set([]) and findAllRes - findRes == set([]), (\n",
    "            \"find failed for input \" + inputString + \" and substring \" + myString\n",
    "        )"
   ]
  },
  {
   "cell_type": "markdown",
   "metadata": {
    "deletable": false,
    "editable": false,
    "nbgrader": {
     "cell_type": "markdown",
     "checksum": "45919ffc51fd5301a49a4bf1cfbd1f68",
     "grade": false,
     "grade_id": "cell-f411b5dbe798d9cc",
     "locked": true,
     "schema_version": 3,
     "solution": false,
     "task": false
    }
   },
   "source": [
    "## 4. Adding futher test cases\n",
    "\n",
    "Add at least one test case that tests the method test implemented in this task 3.\n",
    "\n",
    "Add a comment to explain, why this test case is a useful test case and describe, which typical mistake shall be covered by this test case.\n"
   ]
  },
  {
   "cell_type": "code",
   "execution_count": 104,
   "metadata": {
    "deletable": false,
    "nbgrader": {
     "cell_type": "code",
     "checksum": "7b1c2008e3e00bedb7485aa784c2c693",
     "grade": false,
     "grade_id": "cell-e51f03c4bc36fa91",
     "locked": false,
     "schema_version": 3,
     "solution": true,
     "task": false
    }
   },
   "outputs": [],
   "source": [
    "import random\n",
    "import string\n",
    "# i am a fan of property based testing\n",
    "# we will test the property prop_find_equals_find_all\n",
    "\n",
    "# as before: a model of the function we want to test\n",
    "def find_all(substring, inputString):\n",
    "    res = []\n",
    "    # we want to return all positions in the string where:\n",
    "    # inputString[start:start+len(substring)] == substring\n",
    "    for i in range(len(inputString) - len(substring) + 1):\n",
    "        if i < len(inputString) and inputString[i:i+len(substring)] == substring:\n",
    "            res.append(i)\n",
    "    # start = inputString.find(substring, 0)\n",
    "    # while start > -1:\n",
    "    #     res.append(start)\n",
    "    #     start = inputString.find(substring, start + 1)\n",
    "    return res\n",
    "\n",
    "def prop_find_equals_find_all(inputString, substring):\n",
    "    SA = makeSA(inputString)\n",
    "    findRes = set(find(SA, substring, inputString))\n",
    "    findAllRes = set(find_all(substring, inputString))\n",
    "    return findRes == findAllRes\n",
    "\n",
    "def test_string_pair_prop(n = 100000):\n",
    "    for _ in range(n):\n",
    "        inputString = \"\".join(random.choices(string.ascii_letters + string.digits, k=random.randint(0, 100)))\n",
    "        substring = \"\".join(random.choices(string.ascii_letters + string.digits, k=random.randint(0, 100)))\n",
    "        SA = makeSA(inputString)\n",
    "        assert prop_find_equals_find_all(inputString, substring), f\"Failed for {inputString=}, {substring=}, findRes={find(SA, substring, inputString)}, findAllRes={find_all(substring, inputString)}\"\n",
    "\n",
    "test_string_pair_prop()"
   ]
  }
 ],
 "metadata": {
  "kernelspec": {
   "display_name": "Python 3 (ipykernel)",
   "language": "python",
   "name": "python3"
  },
  "language_info": {
   "codemirror_mode": {
    "name": "ipython",
    "version": 3
   },
   "file_extension": ".py",
   "mimetype": "text/x-python",
   "name": "python",
   "nbconvert_exporter": "python",
   "pygments_lexer": "ipython3",
   "version": "3.11.5"
  }
 },
 "nbformat": 4,
 "nbformat_minor": 4
}
