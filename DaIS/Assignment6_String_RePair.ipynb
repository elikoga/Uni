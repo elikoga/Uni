{
 "cells": [
  {
   "cell_type": "markdown",
   "metadata": {},
   "source": [
    "Before you turn this problem in, make sure everything runs as expected. First, **restart the kernel** (in the menubar, select Kernel$\\rightarrow$Restart) and then **run all cells** (in the menubar, select Cell$\\rightarrow$Run All).\n",
    "\n",
    "Make sure you fill in any place that says `YOUR CODE HERE` or \"YOUR ANSWER HERE\", as well as your name and collaborators below:"
   ]
  },
  {
   "cell_type": "code",
   "execution_count": 2,
   "metadata": {},
   "outputs": [],
   "source": [
    "NAME = \"\"\n",
    "IMMATRICULATION_NUMBER = \"\""
   ]
  },
  {
   "cell_type": "markdown",
   "metadata": {},
   "source": [
    "---"
   ]
  },
  {
   "cell_type": "markdown",
   "metadata": {
    "deletable": false,
    "editable": false,
    "nbgrader": {
     "cell_type": "markdown",
     "checksum": "59c69a6f21a63c67b54436e6df231e59",
     "grade": false,
     "grade_id": "cell-1eaf09382e56fe25",
     "locked": true,
     "schema_version": 3,
     "solution": false,
     "task": false
    }
   },
   "source": [
    "# Exercise 6: String RePAIR\n",
    "\n",
    "Goals of this exercise are:  \n",
    "* to get an understanding of the RePair compression technique applied to strings\n",
    "* to have a basis for implementing tree compression, graph compression, and recompression based on RePair "
   ]
  },
  {
   "cell_type": "markdown",
   "metadata": {
    "deletable": false,
    "editable": false,
    "nbgrader": {
     "cell_type": "markdown",
     "checksum": "17d0959570048af61da2dab7f9c60223",
     "grade": false,
     "grade_id": "cell-4585a9e1e034e217",
     "locked": true,
     "schema_version": 3,
     "solution": false,
     "task": false
    }
   },
   "source": [
    "## 1. Compute a most frequent digram of a string \n",
    "\n",
    "Implement a function <code>findMFD</code> that can be called by \n",
    "\n",
    "<code>mfd, occs = findMFD(inputString)</code>\n",
    "\n",
    "and that returns a string containing a most frequent digram occurring in an input string and the number of occurrences of the digram within the input string. For example, \n",
    "\n",
    "<code>mfd, ocss = findMFD(“abcabc”)</code>\n",
    "\n",
    "should return either return the tuple “ab”,2 or the tuple “bc”,2 for mfd and occs, but not both. \n",
    "\n",
    "<b>Hint: </b>\n",
    "To simplify your implementation, you shall assume that the input string does not contain any overlapping digrams (like e.g. “aa” in “aaa”). \n"
   ]
  },
  {
   "cell_type": "code",
   "execution_count": 8,
   "metadata": {
    "deletable": false,
    "nbgrader": {
     "cell_type": "code",
     "checksum": "59160cf464568fc0cc88a78b359a6373",
     "grade": false,
     "grade_id": "cell-723cbe950bb829e1",
     "locked": false,
     "schema_version": 3,
     "solution": true,
     "task": false
    }
   },
   "outputs": [],
   "source": [
    "def findMFD(inputString):\n",
    "    digrams_count = {}\n",
    "    for i in range(len(inputString)-1):\n",
    "        digram = inputString[i:i+2]\n",
    "        if digram in digrams_count:\n",
    "            digrams_count[digram] += 1\n",
    "        else:\n",
    "            digrams_count[digram] = 1\n",
    "    max_key = max(digrams_count, key=digrams_count.get)\n",
    "    return max_key, digrams_count[max_key]"
   ]
  },
  {
   "cell_type": "code",
   "execution_count": 9,
   "metadata": {
    "deletable": false,
    "editable": false,
    "nbgrader": {
     "cell_type": "code",
     "checksum": "b8c04bb66ba04546294c9d05d6153a5e",
     "grade": true,
     "grade_id": "cell-d18bdf8a70650966",
     "locked": true,
     "points": 1,
     "schema_version": 3,
     "solution": false,
     "task": false
    }
   },
   "outputs": [],
   "source": [
    "assert findMFD('abababab')==('ab',4)\n",
    "assert findMFD('peterpiperpickedapeckofpickledpeppersapeckofpickledpepperspeterpiperpickedifpeterpiperpickedapeckofpickledpepperswheresthepeckofpickledpepperspeterpiperpicked')==('pe',20)\n",
    "assert findMFD('iwishtowishthewishyouwishtowishbutifyouwishthewishthewitchwishesiwontwishthewishyouwishtowish')==('wi',13)"
   ]
  },
  {
   "cell_type": "markdown",
   "metadata": {
    "deletable": false,
    "editable": false,
    "nbgrader": {
     "cell_type": "markdown",
     "checksum": "1a20b64d7daf487ca545ca9b044c9e2f",
     "grade": false,
     "grade_id": "cell-078f1f82a7851d74",
     "locked": true,
     "schema_version": 3,
     "solution": false,
     "task": false
    }
   },
   "source": [
    "## 2. Replace all digram occurrences of a given most frequent digram of a string \n",
    "\n",
    "Implement a function <code>replaceMFD</code> that can be called by \n",
    "\n",
    "<code>newString = replaceMFD(digram,inputString,nonterminal)</code>\n",
    "\n",
    "and that replaces all occurrences of a given most frequent digram in a given input string by a given nonterminal symbol. \n",
    "\n",
    "For example, \n",
    "\n",
    "<code>newString = replaceMFD(“bc”,“abcabc”,“A”)</code>\n",
    "\n",
    "should return the new string “aAaA”. \n",
    "\n",
    "<b>Hint: </b>\n",
    "Whereas in the previous exercise you do not have to consider overlapping digram occurrences (i.e., you are allowed to count the digram 'aa' in the string 'aaa' for 2 occurences (although these two cannot be replaced), the function <code>replaceMFD</code> has to be able to replace the string correctly. This means that <code>replaceMFD(\"aa\",\"aaa\",\"A\")</code> can return \"Aa\" or \"aA\" but must not return \"AA\", i.e., if we resubmit the nonterminal by the digram, the original inputString has to be returned.\n"
   ]
  },
  {
   "cell_type": "code",
   "execution_count": 12,
   "metadata": {
    "deletable": false,
    "nbgrader": {
     "cell_type": "code",
     "checksum": "0b61312852f69fea37e7831d0c0a7558",
     "grade": false,
     "grade_id": "cell-bd09a4831dfb6b9b",
     "locked": false,
     "schema_version": 3,
     "solution": true,
     "task": false
    }
   },
   "outputs": [],
   "source": [
    "def replaceMFD(digram,inputString: str,nonterminal):  \n",
    "    # while digram in inputString:\n",
    "        # inputString = inputString.replace(digram,nonterminal,1)\n",
    "    inputString = inputString.replace(digram,nonterminal)\n",
    "    return inputString"
   ]
  },
  {
   "cell_type": "code",
   "execution_count": 13,
   "metadata": {
    "deletable": false,
    "editable": false,
    "nbgrader": {
     "cell_type": "code",
     "checksum": "05c396704e67bde4dab91bbef58cbc01",
     "grade": true,
     "grade_id": "cell-245a90e0227e13ff",
     "locked": true,
     "points": 1,
     "schema_version": 3,
     "solution": false,
     "task": false
    }
   },
   "outputs": [],
   "source": [
    "assert replaceMFD(\"bc\",\"abcabc\",\"A\")==\"aAaA\"\n",
    "\n",
    "assert replaceMFD(\"ab\",\"abcababdabcdabc\",\"A\")==\"AcAAdAcdAc\"\n",
    "assert replaceMFD(\"Ac\",\"AcAAdAcdAc\",\"B\")==\"BAAdBdB\"\n",
    "assert replaceMFD(\"dB\",\"BAAdBdB\",\"C\")==\"BAACC\"\n",
    "\n",
    "assert replaceMFD(\"ab\",\"abdabcababdabdabcabdaabc\",\"A\")==\"AdAcAAdAdAcAdaAc\"\n",
    "assert replaceMFD(\"Ad\",\"AdAcAAdAdAcAdaAc\",\"B\")==\"BAcABBAcBaAc\"\n",
    "assert replaceMFD(\"Ac\",\"BAcABBAcBaAc\",\"C\")==\"BCABBCBaC\"\n",
    "assert replaceMFD(\"BC\",\"BCABBCBaC\",\"D\")==\"DABDBaC\"\n",
    "\n",
    "assert replaceMFD(\"aa\",\"aaa\",\"A\")==\"aA\" or replaceMFD(\"aa\",\"aaa\",\"A\")==\"Aa\""
   ]
  },
  {
   "cell_type": "markdown",
   "metadata": {},
   "source": [
    "## 3. Compute the grammar generated by RePair for a given input string \n",
    "\n",
    "Implement a function <code>repair</code> that can be called by \n",
    "\n",
    "<code>rules = repair(inputString)</code>\n",
    "\n",
    "and that computes and returns the grammar that repair generates for the input strings. \n",
    "\n",
    "For example, \n",
    "\n",
    "<code>rules = repair(\"abcabcbc\")</code>\n",
    "\n",
    "should return the following list of rules: \n",
    "\n",
    "<code>[\"A-->bc\", \"B-->aA\", \"C-->BBA\"] </code>\n",
    "\n",
    "Remember that Repair searches a most frequent digram (e.g. “bc”) that occurs at least twice in the input. If such a digram exists, RePair selects a fresh new nonterminal (e.g. ‘A’) and replaces all occurrences of the selected digram by the new nonterminal. Furthermore, RePair extends the generated grammar by a rule for the nonterminal and the digram (“A-->bc” in this example). \n",
    "\n",
    "Replacement of all occurrences of a selected most frequent digram is continued as long as a digram occurs more than once. \n",
    "\n",
    "Finally, if no digram occurs more than once in the current string (e.g. ”BBA”), RePair adds a start rule with that current string as right hand side to the grammar (“C-->BBA” in this example). \n",
    "\n",
    "<b>Hints:</b> \n",
    "* As before, to simplify your implementation, you shall assume that overlapping digrams (like e.g. “aa” in “aaa”) are counted correctly. \n",
    "* Furthermore, you shall assume that the initial input string contains only lower case letters (‘a’..’z’) and that the uppercase letters ‘A’, ’B’, … can be used as nonterminals. \n",
    "* You do not have to implement the \"pruning\", i.e., you do not have to replace nonterminals that do not contribute to the compression, as e.g. they are called at most once.\n",
    "\n"
   ]
  },
  {
   "cell_type": "code",
   "execution_count": 16,
   "metadata": {
    "deletable": false,
    "nbgrader": {
     "cell_type": "code",
     "checksum": "5375ad5234cd3466f7d40f9ff3dffc02",
     "grade": false,
     "grade_id": "cell-fa51d1fe82c5e739",
     "locked": false,
     "schema_version": 3,
     "solution": true,
     "task": false
    }
   },
   "outputs": [],
   "source": [
    "def repair(inputString):\n",
    "    grammar = {}\n",
    "    def get_unused_nonterminal():\n",
    "        for i in range(26):\n",
    "            if chr(ord('A')+i) not in grammar:\n",
    "                return chr(ord('A')+i)\n",
    "    while True:\n",
    "        digram, count = findMFD(inputString)\n",
    "        if count <= 1:\n",
    "            break\n",
    "        terminal = get_unused_nonterminal()\n",
    "        grammar[terminal] = digram\n",
    "        inputString = replaceMFD(digram,inputString,terminal)\n",
    "    \n",
    "    start = get_unused_nonterminal()\n",
    "    grammar[start] = inputString\n",
    "\n",
    "    grammar_rules = [f\"{key}-->{value}\" for key, value in grammar.items()]\n",
    "\n",
    "    return grammar_rules"
   ]
  },
  {
   "cell_type": "code",
   "execution_count": 17,
   "metadata": {
    "deletable": false,
    "editable": false,
    "nbgrader": {
     "cell_type": "code",
     "checksum": "d00289d0c0fdaadc49b7873d55d5de41",
     "grade": true,
     "grade_id": "cell-7cbb7328e5c93863",
     "locked": true,
     "points": 1,
     "schema_version": 3,
     "solution": false,
     "task": false
    }
   },
   "outputs": [],
   "source": [
    "assert repair(\"abcabcbc\")==[\"A-->bc\", \"B-->aA\", \"C-->BBA\"]\n",
    "assert repair(\"abcababdabcdabc\")==['A-->ab', 'B-->Ac', 'C-->dB', 'D-->BAACC']\n",
    "assert repair(\"abdabcababdabdabcabdaabc\")==['A-->ab', 'B-->Ad', 'C-->Ac', 'D-->BC', 'E-->DABDBaC']"
   ]
  },
  {
   "cell_type": "markdown",
   "metadata": {
    "deletable": false,
    "editable": false,
    "nbgrader": {
     "cell_type": "markdown",
     "checksum": "367d09a8177cb54113ce76450bf0a29d",
     "grade": false,
     "grade_id": "cell-2e299d2ae6c98e78",
     "locked": true,
     "schema_version": 3,
     "solution": false,
     "task": false
    }
   },
   "source": [
    "## 4. Compute a decompression method for the grammar generated by RePair \n",
    "\n",
    "Implement a function <code>decomp</code> that can be called by\n",
    "\n",
    "<code>decompressedString = decomp(rules)</code>\n",
    "\n",
    "and that computes and returns the decompressed string from a list of rules that have been computed by your RePair compression algorithm. \n",
    "\n",
    "For example, if rules contains the following list of rules\n",
    "\n",
    "<code>[\"A-->bc\", \"B-->aA\", \"C-->BBA\"] </code>\n",
    "\n",
    "the call of \n",
    "\n",
    "<code>decompressedString = decomp(rules)</code>\n",
    "\n",
    "should return the string \"abcabcbc\".\n",
    "\n",
    "<b>Hint:</b> \n",
    "To simplify your implementation, you can assume that the position of the start rule in the given list of rules is fixed, i.e., the start rule is always the last rule.\n"
   ]
  },
  {
   "cell_type": "code",
   "execution_count": 22,
   "metadata": {
    "deletable": false,
    "nbgrader": {
     "cell_type": "code",
     "checksum": "3f1e37dbad317b909106ec867ddb9c77",
     "grade": false,
     "grade_id": "cell-57b8548a020baa90",
     "locked": false,
     "schema_version": 3,
     "solution": true,
     "task": false
    }
   },
   "outputs": [],
   "source": [
    "def decomp(rules):\n",
    "    grammar = {}\n",
    "    for rule in rules:\n",
    "        lhs, rhs = rule.split('-->')\n",
    "        grammar[lhs] = rhs\n",
    "    last_nonterminal = rules[-1].split('-->')[0]\n",
    "    result = last_nonterminal\n",
    "    for nonterminal in rules[::-1]:\n",
    "        result = result.replace(nonterminal.split('-->')[0], grammar[nonterminal.split('-->')[0]])\n",
    "    return result"
   ]
  },
  {
   "cell_type": "code",
   "execution_count": 23,
   "metadata": {
    "deletable": false,
    "editable": false,
    "nbgrader": {
     "cell_type": "code",
     "checksum": "28763d263bd51285c2ac3dd06bbfb396",
     "grade": true,
     "grade_id": "cell-687e98f5961af9e6",
     "locked": true,
     "points": 1,
     "schema_version": 3,
     "solution": false,
     "task": false
    }
   },
   "outputs": [],
   "source": [
    "assert decomp(['A-->bc', 'B-->aA', 'C-->BBA'])==\"abcabcbc\"\n",
    "assert decomp(['A-->ab', 'B-->Ac', 'C-->dB', 'D-->BAACC'])==\"abcababdabcdabc\"\n",
    "assert decomp(['A-->ab', 'B-->Ad', 'C-->Ac', 'D-->BC', 'E-->DABDBaC'])==\"abdabcababdabdabcabdaabc\"\n",
    "\n",
    "def test(S):\n",
    "    assert decomp(repair(S))==S, \"Test failed for input String \" + S\n",
    "\n",
    "import random\n",
    "import string\n",
    "\n",
    "def get_random_string(length):\n",
    "    letters = [chr(c) for c in range(ord('a'), ord('a')+4) ]\n",
    "    result_str = ''.join(random.choice(letters) for i in range(length))\n",
    "    return result_str \n",
    "    \n",
    "test(\"abracadabra\")\n",
    "test(\"tobeornottobeortobeornot\")\n",
    "test(\"yabbadabbadoo\")\n",
    "test(\"iwishtowishthewishyouwishtowishbutifyouwishthewishthewitchwishesiwontwishthewishyouwishtowish\")\n",
    "\n",
    "for i in range(10):\n",
    "    test(get_random_string(24))\n"
   ]
  },
  {
   "cell_type": "code",
   "execution_count": null,
   "metadata": {},
   "outputs": [],
   "source": []
  }
 ],
 "metadata": {
  "kernelspec": {
   "display_name": "Python 3 (ipykernel)",
   "language": "python",
   "name": "python3"
  },
  "language_info": {
   "codemirror_mode": {
    "name": "ipython",
    "version": 3
   },
   "file_extension": ".py",
   "mimetype": "text/x-python",
   "name": "python",
   "nbconvert_exporter": "python",
   "pygments_lexer": "ipython3",
   "version": "3.11.5"
  }
 },
 "nbformat": 4,
 "nbformat_minor": 4
}
