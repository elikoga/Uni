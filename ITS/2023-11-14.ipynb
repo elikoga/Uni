{
 "cells": [
  {
   "cell_type": "code",
   "execution_count": 2,
   "metadata": {},
   "outputs": [
    {
     "data": {
      "text/plain": [
       "'\\nTask 3: Diffie-Hellmann mit schlechten Parametern\\n\\nAlice und Bob wollen noch einmal mit der Hilfe des Diffie-Hellmann Verfahrens einen gemeinsamen Schlüssel finden, um ihre Kommunikation zu verschlüsseln.\\n\\nDieses Mal wählen Sie aber die Parameter (p,g)=(743,592)\\n\\n.\\n\\nSie sind ein Angreifer und sehen, dass Alice tA=592\\nschickt und Bob mit tB=328\\n\\nantwortet.\\nFrage 6\\nBisher nicht beantwortet\\nErreichbare Punkte: 10,00\\nFrage markieren\\nFragetext\\n\\n3a) Mögliche geheime Eingaben von Alice.\\nWie viele mögliche Werte x∈{0,...,540}\\ngibt es, sodass 592xmod743=592?\\n'"
      ]
     },
     "execution_count": 2,
     "metadata": {},
     "output_type": "execute_result"
    }
   ],
   "source": [
    "\"\"\"\n",
    "Task 3: Diffie-Hellmann mit schlechten Parametern\n",
    "\n",
    "Alice und Bob wollen noch einmal mit der Hilfe des Diffie-Hellmann Verfahrens einen gemeinsamen Schlüssel finden, um ihre Kommunikation zu verschlüsseln.\n",
    "\n",
    "Dieses Mal wählen Sie aber die Parameter (p,g)=(743,592)\n",
    "\n",
    ".\n",
    "\n",
    "Sie sind ein Angreifer und sehen, dass Alice tA=592\n",
    "schickt und Bob mit tB=328\n",
    "\n",
    "antwortet.\n",
    "Frage 6\n",
    "Bisher nicht beantwortet\n",
    "Erreichbare Punkte: 10,00\n",
    "Frage markieren\n",
    "Fragetext\n",
    "\n",
    "3a) Mögliche geheime Eingaben von Alice.\n",
    "Wie viele mögliche Werte x∈{0,...,540}\n",
    "gibt es, sodass 592xmod743=592?\n",
    "\"\"\""
   ]
  },
  {
   "cell_type": "code",
   "execution_count": 5,
   "metadata": {},
   "outputs": [],
   "source": [
    "p, g = 743, 592\n",
    "t_a = 592\n",
    "t_b = 328"
   ]
  },
  {
   "cell_type": "code",
   "execution_count": 6,
   "metadata": {},
   "outputs": [
    {
     "name": "stdout",
     "output_type": "stream",
     "text": [
      "78\n"
     ]
    }
   ],
   "source": [
    "def solve_3a():\n",
    "    result = []\n",
    "    for x in range(0, 541):\n",
    "        if (g**x) % p == t_a:\n",
    "            result.append(x)\n",
    "    return result\n",
    "\n",
    "res_3a = solve_3a()\n",
    "print(len(res_3a))"
   ]
  },
  {
   "cell_type": "code",
   "execution_count": null,
   "metadata": {},
   "outputs": [],
   "source": [
    "\"\"\"\n",
    "3b) Alle Schlüssel berechnen.\n",
    "\n",
    "Wie viele verschiedene geheime Schlüssel gibt es für (p,g)=(743,592)\n",
    "\n",
    "?\n",
    "\n",
    "Tipp: Berechnen Sie systematisch 592xmod743\n",
    "für einige Werte x∈{0,...,742} . Was fällt Ihnen auf?\n",
    "\"\"\""
   ]
  },
  {
   "cell_type": "code",
   "execution_count": 10,
   "metadata": {},
   "outputs": [
    {
     "name": "stdout",
     "output_type": "stream",
     "text": [
      "Collecting tqdm\n",
      "  Using cached tqdm-4.66.1-py3-none-any.whl (78 kB)\n",
      "Installing collected packages: tqdm\n",
      "Successfully installed tqdm-4.66.1\n",
      "\n",
      "\u001b[1m[\u001b[0m\u001b[34;49mnotice\u001b[0m\u001b[1;39;49m]\u001b[0m\u001b[39;49m A new release of pip is available: \u001b[0m\u001b[31;49m23.0.1\u001b[0m\u001b[39;49m -> \u001b[0m\u001b[32;49m23.3.1\u001b[0m\n",
      "\u001b[1m[\u001b[0m\u001b[34;49mnotice\u001b[0m\u001b[1;39;49m]\u001b[0m\u001b[39;49m To update, run: \u001b[0m\u001b[32;49mpip install --upgrade pip\u001b[0m\n"
     ]
    }
   ],
   "source": [
    "!pip install tqdm\n",
    "# from tqdm import tqdm\n",
    "from tqdm.notebook import tqdm"
   ]
  },
  {
   "cell_type": "code",
   "execution_count": 17,
   "metadata": {},
   "outputs": [
    {
     "name": "stdout",
     "output_type": "stream",
     "text": [
      "7\n"
     ]
    }
   ],
   "source": [
    "# private keys are calculated by (g**(a * b)) % p\n",
    "# def solve_3b():\n",
    "#     result = []\n",
    "#     # for a in range(p):\n",
    "#     for a in tqdm(range(p)):\n",
    "#         # for b in range(p):\n",
    "#         for b in tqdm(range(p)):\n",
    "#             result.append((g**(a * b)) % p)\n",
    "#     return result\n",
    "\n",
    "# res_3b = solve_3b()\n",
    "# print(len(set(res_3b)))\n",
    "\n",
    "def solve_3b():\n",
    "    g_here = g\n",
    "    result = []\n",
    "    while g_here not in result:\n",
    "        result.append(g_here)\n",
    "        g_here = (g_here * g) % p\n",
    "    return result\n",
    "\n",
    "res_3b = solve_3b()\n",
    "print(len(set(res_3b)))"
   ]
  },
  {
   "cell_type": "code",
   "execution_count": 16,
   "metadata": {},
   "outputs": [
    {
     "name": "stdout",
     "output_type": "stream",
     "text": [
      "True\n"
     ]
    }
   ],
   "source": [
    "# does 7 divide 743 - 1?\n",
    "print((743 - 1) % 7 == 0)"
   ]
  },
  {
   "cell_type": "code",
   "execution_count": 18,
   "metadata": {},
   "outputs": [
    {
     "data": {
      "text/plain": [
       "'\\n3c) Schlüssel berechnen.\\n\\nBerechnen Sie den geheimen Schlüssel kAB\\n\\nBeachten Sie: Wenn man in einer Gruppe rechnet, ist das multiplikative Inverse a−1\\nvon a nicht gleich einer Zahl zwischen 0 und 1!\\n'"
      ]
     },
     "execution_count": 18,
     "metadata": {},
     "output_type": "execute_result"
    }
   ],
   "source": [
    "\"\"\"\n",
    "3c) Schlüssel berechnen.\n",
    "\n",
    "Berechnen Sie den geheimen Schlüssel kAB\n",
    "\n",
    "Beachten Sie: Wenn man in einer Gruppe rechnet, ist das multiplikative Inverse a−1\n",
    "von a nicht gleich einer Zahl zwischen 0 und 1!\n",
    "\"\"\""
   ]
  },
  {
   "cell_type": "code",
   "execution_count": 26,
   "metadata": {},
   "outputs": [
    {
     "data": {
      "application/vnd.jupyter.widget-view+json": {
       "model_id": "9613beafe89c4a62b0299ba019c90e70",
       "version_major": 2,
       "version_minor": 0
      },
      "text/plain": [
       "  0%|          | 0/743 [00:00<?, ?it/s]"
      ]
     },
     "metadata": {},
     "output_type": "display_data"
    },
    {
     "data": {
      "application/vnd.jupyter.widget-view+json": {
       "model_id": "1625b26f58254a32be71f8d951312118",
       "version_major": 2,
       "version_minor": 0
      },
      "text/plain": [
       "  0%|          | 0/743 [00:00<?, ?it/s]"
      ]
     },
     "metadata": {},
     "output_type": "display_data"
    },
    {
     "data": {
      "application/vnd.jupyter.widget-view+json": {
       "model_id": "3d33d8d50b954101b5e78dc7a84ec53d",
       "version_major": 2,
       "version_minor": 0
      },
      "text/plain": [
       "  0%|          | 0/106 [00:00<?, ?it/s]"
      ]
     },
     "metadata": {},
     "output_type": "display_data"
    },
    {
     "name": "stdout",
     "output_type": "stream",
     "text": [
      "1\n",
      "328\n"
     ]
    }
   ],
   "source": [
    "def solve_3c():\n",
    "    all_a_candidates = []\n",
    "    for a in tqdm(range(p)):\n",
    "        if (g**a) % p == t_a:\n",
    "            all_a_candidates.append(a)\n",
    "    all_b_candidates = []\n",
    "    for b in tqdm(range(p)):\n",
    "        if (g**b) % p == t_b:\n",
    "            all_b_candidates.append(b)\n",
    "    all_key_candidates = []\n",
    "    for a in tqdm(all_a_candidates):\n",
    "        for b in all_b_candidates:\n",
    "            # all_key_candidates.append((g**(a * b)) % p)\n",
    "            all_key_candidates.append(pow(g, a * b, p))\n",
    "    return all_key_candidates\n",
    "\n",
    "res_3c = solve_3c()\n",
    "print(len(set(res_3c)))\n",
    "print(res_3c[0])"
   ]
  },
  {
   "cell_type": "code",
   "execution_count": 28,
   "metadata": {},
   "outputs": [
    {
     "data": {
      "text/plain": [
       "'\\nTask 5: Square-And-Multiply\\n\\nIn der Präsenzübung haben Sie den Square-And-Multiply Algorithmus kennen gelernt. Sie können den Algorithmus in den Präsenzübungsfolien auf PANDA finden. In dieser Aufgabe gilt es diesen hier anzuwenden.\\n\\nBerechnen Sie\\n372mod103\\n\\nmittels des Square-And-Multiply Algorithmus.\\n\\nGeben Sie dabei jedes Zwischenergebnis res\\nnach jedem Durchlauf der For-Schleife an. \\n'"
      ]
     },
     "execution_count": 28,
     "metadata": {},
     "output_type": "execute_result"
    }
   ],
   "source": [
    "\"\"\"\n",
    "Task 5: Square-And-Multiply\n",
    "\n",
    "In der Präsenzübung haben Sie den Square-And-Multiply Algorithmus kennen gelernt. Sie können den Algorithmus in den Präsenzübungsfolien auf PANDA finden. In dieser Aufgabe gilt es diesen hier anzuwenden.\n",
    "\n",
    "Berechnen Sie\n",
    "372mod103\n",
    "\n",
    "mittels des Square-And-Multiply Algorithmus.\n",
    "\n",
    "Geben Sie dabei jedes Zwischenergebnis res\n",
    "nach jedem Durchlauf der For-Schleife an. \n",
    "\"\"\""
   ]
  },
  {
   "cell_type": "code",
   "execution_count": 30,
   "metadata": {},
   "outputs": [
    {
     "data": {
      "text/plain": [
       "'\\n5a) Binärdarstellung\\n\\nWas ist die Binärdarstellung von 72?\\n\\nFormat: 10100111001 \\n'"
      ]
     },
     "execution_count": 30,
     "metadata": {},
     "output_type": "execute_result"
    }
   ],
   "source": [
    "\"\"\"\n",
    "5a) Binärdarstellung\n",
    "\n",
    "Was ist die Binärdarstellung von 72?\n",
    "\n",
    "Format: 10100111001 \n",
    "\"\"\""
   ]
  },
  {
   "cell_type": "code",
   "execution_count": 32,
   "metadata": {},
   "outputs": [
    {
     "name": "stdout",
     "output_type": "stream",
     "text": [
      "1001000\n"
     ]
    }
   ],
   "source": [
    "def print_in_binary(n):\n",
    "    print(bin(n)[2:])\n",
    "print_in_binary(72)"
   ]
  },
  {
   "cell_type": "code",
   "execution_count": 36,
   "metadata": {},
   "outputs": [],
   "source": [
    "def square_and_multiply(x, k, n):\n",
    "    \"\"\"Berechnet x^k mod n\"\"\"\n",
    "    # e ist die Binärdarstellung von k\n",
    "    e = [int(e_i) for e_i in bin(k)[2:]]\n",
    "    res = 1\n",
    "    for i, e_i in enumerate(e):\n",
    "        res = (res * res) % n\n",
    "        if e_i == 1:\n",
    "            res = (res * x) % n\n",
    "        print(f\"i: {i}, e_i: {e_i}, res: {res}\")\n",
    "    return res"
   ]
  },
  {
   "cell_type": "code",
   "execution_count": 37,
   "metadata": {},
   "outputs": [
    {
     "name": "stdout",
     "output_type": "stream",
     "text": [
      "i: 0, e_i: 1, res: 3\n",
      "i: 1, e_i: 0, res: 9\n",
      "i: 2, e_i: 0, res: 81\n",
      "i: 3, e_i: 1, res: 10\n",
      "i: 4, e_i: 0, res: 100\n",
      "i: 5, e_i: 0, res: 9\n",
      "i: 6, e_i: 0, res: 81\n"
     ]
    },
    {
     "data": {
      "text/plain": [
       "81"
      ]
     },
     "execution_count": 37,
     "metadata": {},
     "output_type": "execute_result"
    }
   ],
   "source": [
    "square_and_multiply(3, 72, 103)"
   ]
  },
  {
   "cell_type": "code",
   "execution_count": null,
   "metadata": {},
   "outputs": [],
   "source": []
  }
 ],
 "metadata": {
  "kernelspec": {
   "display_name": "venv",
   "language": "python",
   "name": "python3"
  },
  "language_info": {
   "codemirror_mode": {
    "name": "ipython",
    "version": 3
   },
   "file_extension": ".py",
   "mimetype": "text/x-python",
   "name": "python",
   "nbconvert_exporter": "python",
   "pygments_lexer": "ipython3",
   "version": "3.10.12"
  }
 },
 "nbformat": 4,
 "nbformat_minor": 2
}
