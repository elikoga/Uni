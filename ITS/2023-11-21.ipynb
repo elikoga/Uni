{
 "cells": [
  {
   "cell_type": "code",
   "execution_count": 1,
   "metadata": {},
   "outputs": [
    {
     "data": {
      "text/plain": [
       "'\\n2a) Nachricht verschlüsseln.\\n\\nGegeben sei ein RSA-Schlüsselpaar mit dem Public Key (N,e)=(6499,3613)\\nund dem Private Key (N,d)=(6499,2869) wobei N\\n\\nder Modulus ist.\\n\\nVerschlüsseln Sie die Nachricht m=4333\\n. \\n'"
      ]
     },
     "execution_count": 1,
     "metadata": {},
     "output_type": "execute_result"
    }
   ],
   "source": [
    "\"\"\"\n",
    "2a) Nachricht verschlüsseln.\n",
    "\n",
    "Gegeben sei ein RSA-Schlüsselpaar mit dem Public Key (N,e)=(6499,3613)\n",
    "und dem Private Key (N,d)=(6499,2869) wobei N\n",
    "\n",
    "der Modulus ist.\n",
    "\n",
    "Verschlüsseln Sie die Nachricht m=4333\n",
    ". \n",
    "\"\"\""
   ]
  },
  {
   "cell_type": "code",
   "execution_count": 2,
   "metadata": {},
   "outputs": [],
   "source": [
    "\n",
    "def encrypt(m, e, N):\n",
    "    return pow(m, e, N)"
   ]
  },
  {
   "cell_type": "code",
   "execution_count": 3,
   "metadata": {},
   "outputs": [
    {
     "name": "stdout",
     "output_type": "stream",
     "text": [
      "m=4333, c=4631\n"
     ]
    }
   ],
   "source": [
    "N, e = 6499, 3613\n",
    "d = 2869\n",
    "m = 4333\n",
    "\n",
    "c = encrypt(m, e, N)\n",
    "print(f\"{m=}, {c=}\")"
   ]
  },
  {
   "cell_type": "code",
   "execution_count": 4,
   "metadata": {},
   "outputs": [
    {
     "name": "stdout",
     "output_type": "stream",
     "text": [
      "m=3898\n"
     ]
    }
   ],
   "source": [
    "c = 4066\n",
    "\n",
    "def decrypt(c, d, N):\n",
    "    return pow(c, d, N)\n",
    "\n",
    "m = decrypt(c, d, N)\n",
    "\n",
    "print(f\"{m=}\")"
   ]
  },
  {
   "cell_type": "code",
   "execution_count": 5,
   "metadata": {},
   "outputs": [
    {
     "data": {
      "text/plain": [
       "'\\n2c) Anzahl von teilerfremden Zahlen in ZN\\n\\nWie viele Zahlen beinhaltet ZN\\n, die zu N\\n\\nteilerfremd sind?\\n\\nAlso wie viele natürliche Zahlen a∈[1,…,N]\\ngibt es, die zu N\\n\\nteilerfremd sind?\\n\\nRechnen Sie mit N=1739\\n. \\n'"
      ]
     },
     "execution_count": 5,
     "metadata": {},
     "output_type": "execute_result"
    }
   ],
   "source": [
    "\"\"\"\n",
    "2c) Anzahl von teilerfremden Zahlen in ZN\n",
    "\n",
    "Wie viele Zahlen beinhaltet ZN\n",
    ", die zu N\n",
    "\n",
    "teilerfremd sind?\n",
    "\n",
    "Also wie viele natürliche Zahlen a∈[1,…,N]\n",
    "gibt es, die zu N\n",
    "\n",
    "teilerfremd sind?\n",
    "\n",
    "Rechnen Sie mit N=1739\n",
    ". \n",
    "\"\"\""
   ]
  },
  {
   "cell_type": "code",
   "execution_count": 6,
   "metadata": {},
   "outputs": [
    {
     "name": "stdout",
     "output_type": "stream",
     "text": [
      "totient(N)=1656\n"
     ]
    }
   ],
   "source": [
    "def totient(N):\n",
    "    return len([x for x in range(1, N) if gcd(x, N) == 1])\n",
    "\n",
    "def gcd(a, b):\n",
    "    if b == 0:\n",
    "        return a\n",
    "    return gcd(b, a % b)\n",
    "\n",
    "N = 1739\n",
    "print(f\"{totient(N)=}\")"
   ]
  },
  {
   "cell_type": "code",
   "execution_count": 7,
   "metadata": {},
   "outputs": [
    {
     "data": {
      "text/plain": [
       "'\\n2d) Gültige Schlüsselpaare\\nWelches der folgenden Tripel (N,e,d) definiert ein gültiges RSA-Schlüsselpaar mit dem Public Key (N,e) und dem Private Key (N,d) wobei N\\nder Modulus ist.\\nFrage 9 Wählen Sie eine oder mehrere Antworten:\\n(391,29,87)\\n(441,65,329)\\n(323,55,199)\\n'"
      ]
     },
     "execution_count": 7,
     "metadata": {},
     "output_type": "execute_result"
    }
   ],
   "source": [
    "\"\"\"\n",
    "2d) Gültige Schlüsselpaare\n",
    "Welches der folgenden Tripel (N,e,d) definiert ein gültiges RSA-Schlüsselpaar mit dem Public Key (N,e) und dem Private Key (N,d) wobei N\n",
    "der Modulus ist.\n",
    "Frage 9 Wählen Sie eine oder mehrere Antworten:\n",
    "(391,29,87)\n",
    "(441,65,329)\n",
    "(323,55,199)\n",
    "\"\"\""
   ]
  },
  {
   "cell_type": "code",
   "execution_count": 8,
   "metadata": {},
   "outputs": [
    {
     "name": "stdout",
     "output_type": "stream",
     "text": [
      "is_valid_rsa(N, e, d)=False\n",
      "is_valid_rsa(N, e, d)=False\n",
      "is_valid_rsa(N, e, d)=True\n"
     ]
    }
   ],
   "source": [
    "candidates = [\n",
    "    (391,29,87),\n",
    "    (441,65,329),\n",
    "    (323,55,199),\n",
    "]\n",
    "\n",
    "def is_valid_rsa(N, e, d):\n",
    "    return e * d % totient(N) == 1\n",
    "\n",
    "for N, e, d in candidates:\n",
    "    print(f\"{is_valid_rsa(N, e, d)=}\")\n",
    "    "
   ]
  },
  {
   "cell_type": "code",
   "execution_count": null,
   "metadata": {},
   "outputs": [],
   "source": []
  }
 ],
 "metadata": {
  "kernelspec": {
   "display_name": "venv",
   "language": "python",
   "name": "python3"
  },
  "language_info": {
   "codemirror_mode": {
    "name": "ipython",
    "version": 3
   },
   "file_extension": ".py",
   "mimetype": "text/x-python",
   "name": "python",
   "nbconvert_exporter": "python",
   "pygments_lexer": "ipython3",
   "version": "3.11.5"
  }
 },
 "nbformat": 4,
 "nbformat_minor": 2
}
