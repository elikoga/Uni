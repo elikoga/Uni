{
 "cells": [
  {
   "cell_type": "markdown",
   "metadata": {},
   "source": [
    "Before you turn this problem in, make sure everything runs as expected. First, **restart the kernel** (in the menubar, select Kernel$\\rightarrow$Restart) and then **run all cells** (in the menubar, select Cell$\\rightarrow$Run All).\n",
    "\n",
    "Make sure you fill in any place that says `YOUR CODE HERE` or \"YOUR ANSWER HERE\"."
   ]
  },
  {
   "cell_type": "markdown",
   "metadata": {},
   "source": [
    "---"
   ]
  },
  {
   "cell_type": "markdown",
   "metadata": {
    "deletable": false,
    "editable": false,
    "nbgrader": {
     "cell_type": "markdown",
     "checksum": "8252938a888f30e0ed3ba861183ba29f",
     "grade": false,
     "grade_id": "cell-5c30ffb046c03974",
     "locked": true,
     "schema_version": 3,
     "solution": false
    }
   },
   "source": [
    "\n",
    "Um diese Aufgabe zu bestehen, müssen Sie folgende Schritte erfüllen:\n",
    "- Machen Sie sich vertraut mit dem Programm `mktemp` \n",
    "- Nutzen Sie `mktemp` um ein temporäres Verzeichnis zu erstellen, und speicheren Sie den Pfad dazu in `SHEET02_TMP`\n",
    "- Erzeugen Sie eine Variable `HELLO` die `hello world` beinhaltet\n",
    "- Erzeugen Sie eine Datei in dem temporären Verzeichnis, die nach dem Inhalt der Variable `HELLO` benannt ist. \n",
    "\n",
    "**Wichtig:** Verwenden Sie die nächste Zelle, um *alle* Autoren der von Ihnen eingereichten Lösung zu deklarieren: `AUTHORS=\"imt-login1 imt-login2\"`.\n",
    "- Sie werden ermutigt, in Gruppen von bis zu vier Personen an den Lösungen zu arbeiten.\n",
    "- **Jede(r)** Studierende muss die Aufgaben einreichen. Wenn Sie die Aufgaben nicht selbst einreichen, erhalten Sie 0 Punkte für die Aufgabe.\n",
    "\n",
    "**Hinweis:** Löschen Sie *nicht* die Kommando-History (z.B. mit `history -c`) in Ihrem *eigenen* Code!"
   ]
  },
  {
   "cell_type": "code",
   "execution_count": null,
   "metadata": {},
   "outputs": [],
   "source": [
    "AUTHORS=\"elikoga\""
   ]
  },
  {
   "cell_type": "markdown",
   "metadata": {
    "deletable": false,
    "editable": false,
    "nbgrader": {
     "cell_type": "markdown",
     "checksum": "b0a1114176f8125a464173a1148936a0",
     "grade": false,
     "grade_id": "cell-005bbd4983cba572",
     "locked": true,
     "schema_version": 3,
     "solution": false
    }
   },
   "source": [
    "### Lösung:"
   ]
  },
  {
   "cell_type": "code",
   "execution_count": null,
   "metadata": {
    "deletable": false,
    "editable": false,
    "nbgrader": {
     "cell_type": "code",
     "checksum": "0d0fb215bd37471cfad4b771bcb36d01",
     "grade": false,
     "grade_id": "cell-3b59753c9277ef32",
     "locked": true,
     "schema_version": 3,
     "solution": false
    }
   },
   "outputs": [],
   "source": [
    "# unset existing variables\n",
    "unset SHEET02_TMP\n",
    "# clear history\n",
    "history -c"
   ]
  },
  {
   "cell_type": "code",
   "execution_count": null,
   "metadata": {
    "deletable": false,
    "nbgrader": {
     "cell_type": "code",
     "checksum": "e266c231a81c8bb669be14e86de461e9",
     "grade": false,
     "grade_id": "cell-63b94886c128919b",
     "locked": false,
     "schema_version": 3,
     "solution": true
    }
   },
   "outputs": [],
   "source": [
    "### your code here...\n",
    "SHEET02_TMP=$(mktemp)\n",
    "HELLO=\"hello world\"\n",
    "mkdir -p \"$SHEET02_TMP/$HELLO\""
   ]
  },
  {
   "cell_type": "code",
   "execution_count": null,
   "metadata": {
    "deletable": false,
    "editable": false,
    "nbgrader": {
     "cell_type": "code",
     "checksum": "1d883312e7343407e07b71bc02c9fe7a",
     "grade": true,
     "grade_id": "cell-8d02dca0f73adafe",
     "locked": true,
     "points": 1,
     "schema_version": 3,
     "solution": false
    }
   },
   "outputs": [],
   "source": [
    "# test whether all variables are set\n",
    "[[ ! -z \"$SHEET02_TMP\" ]] || (echo \"SHEET02_TMP is not set\" && exit 1)"
   ]
  },
  {
   "cell_type": "code",
   "execution_count": null,
   "metadata": {
    "deletable": false,
    "editable": false,
    "nbgrader": {
     "cell_type": "code",
     "checksum": "8ab875a98a8f596a263618169e8b752f",
     "grade": true,
     "grade_id": "cell-0d1eb125f07722b3",
     "locked": true,
     "points": 1,
     "schema_version": 3,
     "solution": false
    }
   },
   "outputs": [],
   "source": [
    "[[ ! -z \"$HELLO\" ]] || (echo \"HELLO is not set\" && exit 1)"
   ]
  },
  {
   "cell_type": "code",
   "execution_count": null,
   "metadata": {
    "deletable": false,
    "editable": false,
    "nbgrader": {
     "cell_type": "code",
     "checksum": "52b471e7b18a1fb6cc0aba6a7707a56a",
     "grade": true,
     "grade_id": "cell-322948d3be187e7b",
     "locked": true,
     "points": 1,
     "schema_version": 3,
     "solution": false
    }
   },
   "outputs": [],
   "source": [
    "# test whether directory exists\n",
    "[[ -e \"$SHEET02_TMP\" ]] || (echo '$SHEET02_TMP directory does not exist' && exit 1)"
   ]
  },
  {
   "cell_type": "code",
   "execution_count": null,
   "metadata": {
    "deletable": false,
    "editable": false,
    "nbgrader": {
     "cell_type": "code",
     "checksum": "3c81d62365f6cfbfb4db01267263555f",
     "grade": true,
     "grade_id": "cell-bed2a2ee2ac120ec",
     "locked": true,
     "points": 2,
     "schema_version": 3,
     "solution": false
    }
   },
   "outputs": [],
   "source": [
    "# test whether file exists\n",
    "[[ -e \"$SHEET02_TMP/hello world\" ]] || (echo '$SHEET02_TMP/hello world does not exist' && exit 1)"
   ]
  },
  {
   "cell_type": "code",
   "execution_count": null,
   "metadata": {
    "deletable": false,
    "editable": false,
    "nbgrader": {
     "cell_type": "code",
     "checksum": "fc079d74596e2288458f9db4c0cd60a9",
     "grade": true,
     "grade_id": "cell-99bb250d29f17483",
     "locked": true,
     "points": 1,
     "schema_version": 3,
     "solution": false
    }
   },
   "outputs": [],
   "source": [
    "# hidden test"
   ]
  },
  {
   "cell_type": "code",
   "execution_count": null,
   "metadata": {
    "deletable": false,
    "editable": false,
    "nbgrader": {
     "cell_type": "code",
     "checksum": "ec356a27da6f6f2663ce508bdc98ae8c",
     "grade": true,
     "grade_id": "cell-b3ff790ca8656251",
     "locked": true,
     "points": 2,
     "schema_version": 3,
     "solution": false
    }
   },
   "outputs": [],
   "source": [
    "# hidden test"
   ]
  },
  {
   "cell_type": "code",
   "execution_count": null,
   "metadata": {
    "deletable": false,
    "editable": false,
    "nbgrader": {
     "cell_type": "code",
     "checksum": "929de76f00050096dc59ecda215786f9",
     "grade": true,
     "grade_id": "cell-63b290b8cd12d9cb",
     "locked": true,
     "points": 1,
     "schema_version": 3,
     "solution": false
    }
   },
   "outputs": [],
   "source": [
    "# hidden test"
   ]
  },
  {
   "cell_type": "code",
   "execution_count": null,
   "metadata": {
    "deletable": false,
    "editable": false,
    "nbgrader": {
     "cell_type": "code",
     "checksum": "78f303051681d87e76c39ba4c8e34162",
     "grade": true,
     "grade_id": "cell-a50ce6cb95f7ff20",
     "locked": true,
     "points": 1,
     "schema_version": 3,
     "solution": false
    }
   },
   "outputs": [],
   "source": [
    "# hidden test"
   ]
  }
 ],
 "metadata": {
  "kernelspec": {
   "display_name": "Bash",
   "language": "bash",
   "name": "bash"
  },
  "language_info": {
   "codemirror_mode": "shell",
   "file_extension": ".sh",
   "mimetype": "text/x-sh",
   "name": "bash"
  }
 },
 "nbformat": 4,
 "nbformat_minor": 4
}
